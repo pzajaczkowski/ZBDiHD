{
 "cells": [
  {
   "cell_type": "markdown",
   "metadata": {},
   "source": [
    "# Python. Integracja danych z różnych źródeł.\n",
    "\n",
    "___Marcin Koźniewski___\n"
   ]
  },
  {
   "cell_type": "markdown",
   "metadata": {},
   "source": [
    "Dzisiaj zgłębimy metody w pandas umożliwiające manipulacje danymi. Pandas inspirowane było strukturą danych data.frame z języka R. R jest natomiast językiem funkcyjnym, co ma swoje konsekwencje w implementacji klasy DataFrame.\n",
    "\n",
    "\n",
    "Stwórzmy najpierw ramkę danych, którą będziemy się bawić."
   ]
  },
  {
   "cell_type": "code",
   "execution_count": 1,
   "metadata": {},
   "outputs": [
    {
     "data": {
      "text/html": [
       "<div>\n",
       "<style scoped>\n",
       "    .dataframe tbody tr th:only-of-type {\n",
       "        vertical-align: middle;\n",
       "    }\n",
       "\n",
       "    .dataframe tbody tr th {\n",
       "        vertical-align: top;\n",
       "    }\n",
       "\n",
       "    .dataframe thead th {\n",
       "        text-align: right;\n",
       "    }\n",
       "</style>\n",
       "<table border=\"1\" class=\"dataframe\">\n",
       "  <thead>\n",
       "    <tr style=\"text-align: right;\">\n",
       "      <th></th>\n",
       "      <th>binarne</th>\n",
       "      <th>key</th>\n",
       "      <th>data</th>\n",
       "      <th>losowe</th>\n",
       "      <th>losowe2</th>\n",
       "      <th>losowe3</th>\n",
       "    </tr>\n",
       "  </thead>\n",
       "  <tbody>\n",
       "    <tr>\n",
       "      <th>0</th>\n",
       "      <td>1</td>\n",
       "      <td>A</td>\n",
       "      <td>0</td>\n",
       "      <td>0.916874</td>\n",
       "      <td>0.727951</td>\n",
       "      <td>0.122291</td>\n",
       "    </tr>\n",
       "    <tr>\n",
       "      <th>1</th>\n",
       "      <td>1</td>\n",
       "      <td>B</td>\n",
       "      <td>1</td>\n",
       "      <td>0.588542</td>\n",
       "      <td>0.260480</td>\n",
       "      <td>0.386006</td>\n",
       "    </tr>\n",
       "    <tr>\n",
       "      <th>2</th>\n",
       "      <td>1</td>\n",
       "      <td>C</td>\n",
       "      <td>2</td>\n",
       "      <td>0.265048</td>\n",
       "      <td>0.911763</td>\n",
       "      <td>0.840081</td>\n",
       "    </tr>\n",
       "    <tr>\n",
       "      <th>3</th>\n",
       "      <td>0</td>\n",
       "      <td>A</td>\n",
       "      <td>3</td>\n",
       "      <td>0.783205</td>\n",
       "      <td>0.260757</td>\n",
       "      <td>0.278179</td>\n",
       "    </tr>\n",
       "    <tr>\n",
       "      <th>4</th>\n",
       "      <td>0</td>\n",
       "      <td>B</td>\n",
       "      <td>4</td>\n",
       "      <td>0.918001</td>\n",
       "      <td>0.766376</td>\n",
       "      <td>0.069914</td>\n",
       "    </tr>\n",
       "    <tr>\n",
       "      <th>5</th>\n",
       "      <td>0</td>\n",
       "      <td>C</td>\n",
       "      <td>5</td>\n",
       "      <td>0.827355</td>\n",
       "      <td>0.261531</td>\n",
       "      <td>0.633110</td>\n",
       "    </tr>\n",
       "  </tbody>\n",
       "</table>\n",
       "</div>"
      ],
      "text/plain": [
       "   binarne key  data    losowe   losowe2   losowe3\n",
       "0        1   A     0  0.916874  0.727951  0.122291\n",
       "1        1   B     1  0.588542  0.260480  0.386006\n",
       "2        1   C     2  0.265048  0.911763  0.840081\n",
       "3        0   A     3  0.783205  0.260757  0.278179\n",
       "4        0   B     4  0.918001  0.766376  0.069914\n",
       "5        0   C     5  0.827355  0.261531  0.633110"
      ]
     },
     "execution_count": 1,
     "metadata": {},
     "output_type": "execute_result"
    }
   ],
   "source": [
    "import pandas as pd\n",
    "import numpy as np\n",
    "rng = np.random.RandomState(314) #ustalamy ziarno aby mieć odtwarzalne wyniki\n",
    "\n",
    "df = pd.DataFrame(\n",
    "    {\n",
    "        'binarne': [1,1,1,0,0,0],\n",
    "        'key': ['A', 'B', 'C', 'A', 'B', 'C'],\n",
    "        'data': range(6),\n",
    "        'losowe': rng.rand(6), # 6 wartości losowych\n",
    "        'losowe2': rng.rand(6),\n",
    "        'losowe3': rng.rand(6)\n",
    "    },\n",
    "    columns=['binarne','key', 'data','losowe','losowe2','losowe3']\n",
    ")\n",
    "df.head(6) #df #df.head()"
   ]
  },
  {
   "cell_type": "markdown",
   "metadata": {},
   "source": [
    "Wypisanie podstawowych statystyka opisowych"
   ]
  },
  {
   "cell_type": "code",
   "execution_count": 2,
   "metadata": {},
   "outputs": [
    {
     "data": {
      "text/html": [
       "<div>\n",
       "<style scoped>\n",
       "    .dataframe tbody tr th:only-of-type {\n",
       "        vertical-align: middle;\n",
       "    }\n",
       "\n",
       "    .dataframe tbody tr th {\n",
       "        vertical-align: top;\n",
       "    }\n",
       "\n",
       "    .dataframe thead th {\n",
       "        text-align: right;\n",
       "    }\n",
       "</style>\n",
       "<table border=\"1\" class=\"dataframe\">\n",
       "  <thead>\n",
       "    <tr style=\"text-align: right;\">\n",
       "      <th></th>\n",
       "      <th>binarne</th>\n",
       "      <th>data</th>\n",
       "      <th>losowe</th>\n",
       "      <th>losowe2</th>\n",
       "      <th>losowe3</th>\n",
       "    </tr>\n",
       "  </thead>\n",
       "  <tbody>\n",
       "    <tr>\n",
       "      <th>count</th>\n",
       "      <td>6.000000</td>\n",
       "      <td>6.000000</td>\n",
       "      <td>6.000000</td>\n",
       "      <td>6.000000</td>\n",
       "      <td>6.000000</td>\n",
       "    </tr>\n",
       "    <tr>\n",
       "      <th>mean</th>\n",
       "      <td>0.500000</td>\n",
       "      <td>2.500000</td>\n",
       "      <td>0.716504</td>\n",
       "      <td>0.531477</td>\n",
       "      <td>0.388263</td>\n",
       "    </tr>\n",
       "    <tr>\n",
       "      <th>std</th>\n",
       "      <td>0.547723</td>\n",
       "      <td>1.870829</td>\n",
       "      <td>0.252061</td>\n",
       "      <td>0.302654</td>\n",
       "      <td>0.299433</td>\n",
       "    </tr>\n",
       "    <tr>\n",
       "      <th>min</th>\n",
       "      <td>0.000000</td>\n",
       "      <td>0.000000</td>\n",
       "      <td>0.265048</td>\n",
       "      <td>0.260480</td>\n",
       "      <td>0.069914</td>\n",
       "    </tr>\n",
       "    <tr>\n",
       "      <th>25%</th>\n",
       "      <td>0.000000</td>\n",
       "      <td>1.250000</td>\n",
       "      <td>0.637208</td>\n",
       "      <td>0.260950</td>\n",
       "      <td>0.161263</td>\n",
       "    </tr>\n",
       "    <tr>\n",
       "      <th>50%</th>\n",
       "      <td>0.500000</td>\n",
       "      <td>2.500000</td>\n",
       "      <td>0.805280</td>\n",
       "      <td>0.494741</td>\n",
       "      <td>0.332092</td>\n",
       "    </tr>\n",
       "    <tr>\n",
       "      <th>75%</th>\n",
       "      <td>1.000000</td>\n",
       "      <td>3.750000</td>\n",
       "      <td>0.894494</td>\n",
       "      <td>0.756770</td>\n",
       "      <td>0.571334</td>\n",
       "    </tr>\n",
       "    <tr>\n",
       "      <th>max</th>\n",
       "      <td>1.000000</td>\n",
       "      <td>5.000000</td>\n",
       "      <td>0.918001</td>\n",
       "      <td>0.911763</td>\n",
       "      <td>0.840081</td>\n",
       "    </tr>\n",
       "  </tbody>\n",
       "</table>\n",
       "</div>"
      ],
      "text/plain": [
       "        binarne      data    losowe   losowe2   losowe3\n",
       "count  6.000000  6.000000  6.000000  6.000000  6.000000\n",
       "mean   0.500000  2.500000  0.716504  0.531477  0.388263\n",
       "std    0.547723  1.870829  0.252061  0.302654  0.299433\n",
       "min    0.000000  0.000000  0.265048  0.260480  0.069914\n",
       "25%    0.000000  1.250000  0.637208  0.260950  0.161263\n",
       "50%    0.500000  2.500000  0.805280  0.494741  0.332092\n",
       "75%    1.000000  3.750000  0.894494  0.756770  0.571334\n",
       "max    1.000000  5.000000  0.918001  0.911763  0.840081"
      ]
     },
     "execution_count": 2,
     "metadata": {},
     "output_type": "execute_result"
    }
   ],
   "source": [
    "df.describe()"
   ]
  },
  {
   "cell_type": "markdown",
   "metadata": {},
   "source": [
    "Czasem potrzeba jest zamienić wartości zmiennych. Poniżej zamiana wartości całkowitych na ciągi znaków"
   ]
  },
  {
   "cell_type": "code",
   "execution_count": 3,
   "metadata": {},
   "outputs": [
    {
     "data": {
      "text/html": [
       "<div>\n",
       "<style scoped>\n",
       "    .dataframe tbody tr th:only-of-type {\n",
       "        vertical-align: middle;\n",
       "    }\n",
       "\n",
       "    .dataframe tbody tr th {\n",
       "        vertical-align: top;\n",
       "    }\n",
       "\n",
       "    .dataframe thead th {\n",
       "        text-align: right;\n",
       "    }\n",
       "</style>\n",
       "<table border=\"1\" class=\"dataframe\">\n",
       "  <thead>\n",
       "    <tr style=\"text-align: right;\">\n",
       "      <th></th>\n",
       "      <th>binarne</th>\n",
       "      <th>key</th>\n",
       "      <th>data</th>\n",
       "      <th>losowe</th>\n",
       "      <th>losowe2</th>\n",
       "      <th>losowe3</th>\n",
       "      <th>binarne_str</th>\n",
       "    </tr>\n",
       "  </thead>\n",
       "  <tbody>\n",
       "    <tr>\n",
       "      <th>0</th>\n",
       "      <td>1</td>\n",
       "      <td>A</td>\n",
       "      <td>0</td>\n",
       "      <td>0.916874</td>\n",
       "      <td>0.727951</td>\n",
       "      <td>0.122291</td>\n",
       "      <td>val1</td>\n",
       "    </tr>\n",
       "    <tr>\n",
       "      <th>1</th>\n",
       "      <td>1</td>\n",
       "      <td>B</td>\n",
       "      <td>1</td>\n",
       "      <td>0.588542</td>\n",
       "      <td>0.260480</td>\n",
       "      <td>0.386006</td>\n",
       "      <td>val1</td>\n",
       "    </tr>\n",
       "    <tr>\n",
       "      <th>2</th>\n",
       "      <td>1</td>\n",
       "      <td>C</td>\n",
       "      <td>2</td>\n",
       "      <td>0.265048</td>\n",
       "      <td>0.911763</td>\n",
       "      <td>0.840081</td>\n",
       "      <td>val1</td>\n",
       "    </tr>\n",
       "    <tr>\n",
       "      <th>3</th>\n",
       "      <td>0</td>\n",
       "      <td>A</td>\n",
       "      <td>3</td>\n",
       "      <td>0.783205</td>\n",
       "      <td>0.260757</td>\n",
       "      <td>0.278179</td>\n",
       "      <td>val0</td>\n",
       "    </tr>\n",
       "    <tr>\n",
       "      <th>4</th>\n",
       "      <td>0</td>\n",
       "      <td>B</td>\n",
       "      <td>4</td>\n",
       "      <td>0.918001</td>\n",
       "      <td>0.766376</td>\n",
       "      <td>0.069914</td>\n",
       "      <td>val0</td>\n",
       "    </tr>\n",
       "    <tr>\n",
       "      <th>5</th>\n",
       "      <td>0</td>\n",
       "      <td>C</td>\n",
       "      <td>5</td>\n",
       "      <td>0.827355</td>\n",
       "      <td>0.261531</td>\n",
       "      <td>0.633110</td>\n",
       "      <td>val0</td>\n",
       "    </tr>\n",
       "  </tbody>\n",
       "</table>\n",
       "</div>"
      ],
      "text/plain": [
       "   binarne key  data    losowe   losowe2   losowe3 binarne_str\n",
       "0        1   A     0  0.916874  0.727951  0.122291        val1\n",
       "1        1   B     1  0.588542  0.260480  0.386006        val1\n",
       "2        1   C     2  0.265048  0.911763  0.840081        val1\n",
       "3        0   A     3  0.783205  0.260757  0.278179        val0\n",
       "4        0   B     4  0.918001  0.766376  0.069914        val0\n",
       "5        0   C     5  0.827355  0.261531  0.633110        val0"
      ]
     },
     "execution_count": 3,
     "metadata": {},
     "output_type": "execute_result"
    }
   ],
   "source": [
    "mapToGroup = {0 : 'val0', \n",
    "              1 : 'val1'}\n",
    "df[\"binarne_str\"] = df['binarne'].map(mapToGroup)\n",
    "df"
   ]
  },
  {
   "cell_type": "markdown",
   "metadata": {},
   "source": [
    "Dyskretyzacja"
   ]
  },
  {
   "cell_type": "code",
   "execution_count": 4,
   "metadata": {},
   "outputs": [
    {
     "data": {
      "text/html": [
       "<div>\n",
       "<style scoped>\n",
       "    .dataframe tbody tr th:only-of-type {\n",
       "        vertical-align: middle;\n",
       "    }\n",
       "\n",
       "    .dataframe tbody tr th {\n",
       "        vertical-align: top;\n",
       "    }\n",
       "\n",
       "    .dataframe thead th {\n",
       "        text-align: right;\n",
       "    }\n",
       "</style>\n",
       "<table border=\"1\" class=\"dataframe\">\n",
       "  <thead>\n",
       "    <tr style=\"text-align: right;\">\n",
       "      <th></th>\n",
       "      <th>binarne</th>\n",
       "      <th>key</th>\n",
       "      <th>data</th>\n",
       "      <th>losowe</th>\n",
       "      <th>losowe2</th>\n",
       "      <th>losowe3</th>\n",
       "      <th>binarne_str</th>\n",
       "      <th>losoweDysk1</th>\n",
       "    </tr>\n",
       "  </thead>\n",
       "  <tbody>\n",
       "    <tr>\n",
       "      <th>0</th>\n",
       "      <td>1</td>\n",
       "      <td>A</td>\n",
       "      <td>0</td>\n",
       "      <td>0.916874</td>\n",
       "      <td>0.727951</td>\n",
       "      <td>0.122291</td>\n",
       "      <td>val1</td>\n",
       "      <td>veryhigh</td>\n",
       "    </tr>\n",
       "    <tr>\n",
       "      <th>1</th>\n",
       "      <td>1</td>\n",
       "      <td>B</td>\n",
       "      <td>1</td>\n",
       "      <td>0.588542</td>\n",
       "      <td>0.260480</td>\n",
       "      <td>0.386006</td>\n",
       "      <td>val1</td>\n",
       "      <td>high</td>\n",
       "    </tr>\n",
       "    <tr>\n",
       "      <th>2</th>\n",
       "      <td>1</td>\n",
       "      <td>C</td>\n",
       "      <td>2</td>\n",
       "      <td>0.265048</td>\n",
       "      <td>0.911763</td>\n",
       "      <td>0.840081</td>\n",
       "      <td>val1</td>\n",
       "      <td>below</td>\n",
       "    </tr>\n",
       "    <tr>\n",
       "      <th>3</th>\n",
       "      <td>0</td>\n",
       "      <td>A</td>\n",
       "      <td>3</td>\n",
       "      <td>0.783205</td>\n",
       "      <td>0.260757</td>\n",
       "      <td>0.278179</td>\n",
       "      <td>val0</td>\n",
       "      <td>veryhigh</td>\n",
       "    </tr>\n",
       "    <tr>\n",
       "      <th>4</th>\n",
       "      <td>0</td>\n",
       "      <td>B</td>\n",
       "      <td>4</td>\n",
       "      <td>0.918001</td>\n",
       "      <td>0.766376</td>\n",
       "      <td>0.069914</td>\n",
       "      <td>val0</td>\n",
       "      <td>veryhigh</td>\n",
       "    </tr>\n",
       "    <tr>\n",
       "      <th>5</th>\n",
       "      <td>0</td>\n",
       "      <td>C</td>\n",
       "      <td>5</td>\n",
       "      <td>0.827355</td>\n",
       "      <td>0.261531</td>\n",
       "      <td>0.633110</td>\n",
       "      <td>val0</td>\n",
       "      <td>veryhigh</td>\n",
       "    </tr>\n",
       "  </tbody>\n",
       "</table>\n",
       "</div>"
      ],
      "text/plain": [
       "   binarne key  data    losowe   losowe2   losowe3 binarne_str losoweDysk1\n",
       "0        1   A     0  0.916874  0.727951  0.122291        val1    veryhigh\n",
       "1        1   B     1  0.588542  0.260480  0.386006        val1        high\n",
       "2        1   C     2  0.265048  0.911763  0.840081        val1       below\n",
       "3        0   A     3  0.783205  0.260757  0.278179        val0    veryhigh\n",
       "4        0   B     4  0.918001  0.766376  0.069914        val0    veryhigh\n",
       "5        0   C     5  0.827355  0.261531  0.633110        val0    veryhigh"
      ]
     },
     "execution_count": 4,
     "metadata": {},
     "output_type": "execute_result"
    }
   ],
   "source": [
    "df['losoweDysk1'] = pd.cut(df['losowe'],\n",
    "                           [0, 0.5, 0.75, 1], \n",
    "                           labels = ['below', 'high', 'veryhigh'])\n",
    "df"
   ]
  },
  {
   "cell_type": "code",
   "execution_count": 5,
   "metadata": {},
   "outputs": [
    {
     "data": {
      "text/plain": [
       "0    medium\n",
       "1       low\n",
       "2      high\n",
       "3       low\n",
       "4      high\n",
       "5    medium\n",
       "Name: losowe2, dtype: category\n",
       "Categories (3, object): ['low' < 'medium' < 'high']"
      ]
     },
     "execution_count": 5,
     "metadata": {},
     "output_type": "execute_result"
    }
   ],
   "source": [
    "#Dyskretyzacja na kwantylach:\n",
    "pd.qcut(df['losowe2'],\n",
    "        [0.0, 0.25, 0.75, 1.0], \n",
    "        labels = ['low','medium','high'])\n",
    "#df[column]=pd.qcut(df[column].astype('float', errors='ignore'),[0.0,0.25,0.75,1.0], labels=['low','medium','high'])"
   ]
  },
  {
   "cell_type": "markdown",
   "metadata": {},
   "source": [
    "Wypisanie liczebności występowania wartości w zadanej kolumnie"
   ]
  },
  {
   "cell_type": "code",
   "execution_count": 6,
   "metadata": {},
   "outputs": [
    {
     "data": {
      "text/plain": [
       "losoweDysk1\n",
       "veryhigh    4\n",
       "below       1\n",
       "high        1\n",
       "Name: count, dtype: int64"
      ]
     },
     "execution_count": 6,
     "metadata": {},
     "output_type": "execute_result"
    }
   ],
   "source": [
    "df[\"losoweDysk1\"].value_counts()"
   ]
  },
  {
   "cell_type": "markdown",
   "metadata": {},
   "source": [
    "Proszę zwrócić uwagę na typy danych wynikające z różnych działań. np. cut/qcut -> category"
   ]
  },
  {
   "cell_type": "code",
   "execution_count": 7,
   "metadata": {},
   "outputs": [
    {
     "data": {
      "text/plain": [
       "binarne           int64\n",
       "key              object\n",
       "data              int64\n",
       "losowe          float64\n",
       "losowe2         float64\n",
       "losowe3         float64\n",
       "binarne_str      object\n",
       "losoweDysk1    category\n",
       "dtype: object"
      ]
     },
     "execution_count": 7,
     "metadata": {},
     "output_type": "execute_result"
    }
   ],
   "source": [
    "df.dtypes\n"
   ]
  },
  {
   "cell_type": "markdown",
   "metadata": {},
   "source": [
    "Wiecie już, że mamy dostęp do ciągów znaków i operujemy na jednej kolumnie danych (zmiennej) jak byśmy operowali na jednym ciągu znaków."
   ]
  },
  {
   "cell_type": "code",
   "execution_count": 8,
   "metadata": {},
   "outputs": [
    {
     "data": {
      "text/plain": [
       "0    1\n",
       "1    1\n",
       "2    1\n",
       "3    0\n",
       "4    0\n",
       "5    0\n",
       "Name: binarne_str, dtype: object"
      ]
     },
     "execution_count": 8,
     "metadata": {},
     "output_type": "execute_result"
    }
   ],
   "source": [
    "df[\"binarne_str\"].str[3:]"
   ]
  },
  {
   "cell_type": "code",
   "execution_count": 9,
   "metadata": {},
   "outputs": [
    {
     "data": {
      "text/plain": [
       "0    1\n",
       "1    1\n",
       "2    1\n",
       "3    0\n",
       "4    0\n",
       "5    0\n",
       "Name: binarne_str, dtype: int32"
      ]
     },
     "execution_count": 9,
     "metadata": {},
     "output_type": "execute_result"
    }
   ],
   "source": [
    "df[\"binarne_str\"].str[3:].astype('int', errors='ignore')"
   ]
  },
  {
   "cell_type": "code",
   "execution_count": 10,
   "metadata": {},
   "outputs": [
    {
     "data": {
      "text/plain": [
       "0    VAL1\n",
       "1    VAL1\n",
       "2    VAL1\n",
       "3    VAL0\n",
       "4    VAL0\n",
       "5    VAL0\n",
       "Name: binarne_str, dtype: object"
      ]
     },
     "execution_count": 10,
     "metadata": {},
     "output_type": "execute_result"
    }
   ],
   "source": [
    "df[\"binarne_str\"].str.upper()"
   ]
  },
  {
   "cell_type": "markdown",
   "metadata": {},
   "source": [
    "Wydobycie unikalnych wartosci"
   ]
  },
  {
   "cell_type": "code",
   "execution_count": 11,
   "metadata": {},
   "outputs": [
    {
     "data": {
      "text/plain": [
       "array(['VAL1', 'VAL0'], dtype=object)"
      ]
     },
     "execution_count": 11,
     "metadata": {},
     "output_type": "execute_result"
    }
   ],
   "source": [
    "df[\"binarne_str\"].str.upper().unique()"
   ]
  },
  {
   "cell_type": "code",
   "execution_count": 12,
   "metadata": {},
   "outputs": [
    {
     "data": {
      "text/plain": [
       "Index(['below', 'high', 'veryhigh'], dtype='object')"
      ]
     },
     "execution_count": 12,
     "metadata": {},
     "output_type": "execute_result"
    }
   ],
   "source": [
    "df.losoweDysk1.cat.categories\n"
   ]
  },
  {
   "cell_type": "markdown",
   "metadata": {},
   "source": [
    "Przypomnijmy, że możemy też odwoływać się do kolumny na zasadzie pola w obiekcie"
   ]
  },
  {
   "cell_type": "code",
   "execution_count": 13,
   "metadata": {},
   "outputs": [
    {
     "data": {
      "text/plain": [
       "array([1, 0], dtype=int64)"
      ]
     },
     "execution_count": 13,
     "metadata": {},
     "output_type": "execute_result"
    }
   ],
   "source": [
    "df.binarne.unique()"
   ]
  },
  {
   "cell_type": "code",
   "execution_count": 14,
   "metadata": {},
   "outputs": [
    {
     "data": {
      "text/plain": [
       "binarne\n",
       "1    3\n",
       "0    3\n",
       "Name: count, dtype: int64"
      ]
     },
     "execution_count": 14,
     "metadata": {},
     "output_type": "execute_result"
    }
   ],
   "source": [
    "df[\"binarne\"].value_counts()"
   ]
  },
  {
   "cell_type": "markdown",
   "metadata": {},
   "source": [
    "Liczebności poszczególnych kombinacji wartości w formie tabeli"
   ]
  },
  {
   "cell_type": "code",
   "execution_count": 15,
   "metadata": {},
   "outputs": [
    {
     "data": {
      "text/html": [
       "<div>\n",
       "<style scoped>\n",
       "    .dataframe tbody tr th:only-of-type {\n",
       "        vertical-align: middle;\n",
       "    }\n",
       "\n",
       "    .dataframe tbody tr th {\n",
       "        vertical-align: top;\n",
       "    }\n",
       "\n",
       "    .dataframe thead th {\n",
       "        text-align: right;\n",
       "    }\n",
       "</style>\n",
       "<table border=\"1\" class=\"dataframe\">\n",
       "  <thead>\n",
       "    <tr style=\"text-align: right;\">\n",
       "      <th>key</th>\n",
       "      <th>A</th>\n",
       "      <th>B</th>\n",
       "      <th>C</th>\n",
       "    </tr>\n",
       "    <tr>\n",
       "      <th>binarne</th>\n",
       "      <th></th>\n",
       "      <th></th>\n",
       "      <th></th>\n",
       "    </tr>\n",
       "  </thead>\n",
       "  <tbody>\n",
       "    <tr>\n",
       "      <th>0</th>\n",
       "      <td>1</td>\n",
       "      <td>1</td>\n",
       "      <td>1</td>\n",
       "    </tr>\n",
       "    <tr>\n",
       "      <th>1</th>\n",
       "      <td>1</td>\n",
       "      <td>1</td>\n",
       "      <td>1</td>\n",
       "    </tr>\n",
       "  </tbody>\n",
       "</table>\n",
       "</div>"
      ],
      "text/plain": [
       "key      A  B  C\n",
       "binarne         \n",
       "0        1  1  1\n",
       "1        1  1  1"
      ]
     },
     "execution_count": 15,
     "metadata": {},
     "output_type": "execute_result"
    }
   ],
   "source": [
    "pd.crosstab(df[\"binarne\"], df[\"key\"])"
   ]
  },
  {
   "cell_type": "code",
   "execution_count": 16,
   "metadata": {},
   "outputs": [
    {
     "data": {
      "text/html": [
       "<div>\n",
       "<style scoped>\n",
       "    .dataframe tbody tr th:only-of-type {\n",
       "        vertical-align: middle;\n",
       "    }\n",
       "\n",
       "    .dataframe tbody tr th {\n",
       "        vertical-align: top;\n",
       "    }\n",
       "\n",
       "    .dataframe thead tr th {\n",
       "        text-align: left;\n",
       "    }\n",
       "\n",
       "    .dataframe thead tr:last-of-type th {\n",
       "        text-align: right;\n",
       "    }\n",
       "</style>\n",
       "<table border=\"1\" class=\"dataframe\">\n",
       "  <thead>\n",
       "    <tr>\n",
       "      <th>key</th>\n",
       "      <th>A</th>\n",
       "      <th colspan=\"2\" halign=\"left\">B</th>\n",
       "      <th colspan=\"2\" halign=\"left\">C</th>\n",
       "    </tr>\n",
       "    <tr>\n",
       "      <th>losoweDysk1</th>\n",
       "      <th>veryhigh</th>\n",
       "      <th>high</th>\n",
       "      <th>veryhigh</th>\n",
       "      <th>below</th>\n",
       "      <th>veryhigh</th>\n",
       "    </tr>\n",
       "    <tr>\n",
       "      <th>binarne</th>\n",
       "      <th></th>\n",
       "      <th></th>\n",
       "      <th></th>\n",
       "      <th></th>\n",
       "      <th></th>\n",
       "    </tr>\n",
       "  </thead>\n",
       "  <tbody>\n",
       "    <tr>\n",
       "      <th>0</th>\n",
       "      <td>1</td>\n",
       "      <td>0</td>\n",
       "      <td>1</td>\n",
       "      <td>0</td>\n",
       "      <td>1</td>\n",
       "    </tr>\n",
       "    <tr>\n",
       "      <th>1</th>\n",
       "      <td>1</td>\n",
       "      <td>1</td>\n",
       "      <td>0</td>\n",
       "      <td>1</td>\n",
       "      <td>0</td>\n",
       "    </tr>\n",
       "  </tbody>\n",
       "</table>\n",
       "</div>"
      ],
      "text/plain": [
       "key                A    B              C         \n",
       "losoweDysk1 veryhigh high veryhigh below veryhigh\n",
       "binarne                                          \n",
       "0                  1    0        1     0        1\n",
       "1                  1    1        0     1        0"
      ]
     },
     "execution_count": 16,
     "metadata": {},
     "output_type": "execute_result"
    }
   ],
   "source": [
    "pd.crosstab(df[\"binarne\"], [df[\"key\"], df[\"losoweDysk1\"]])"
   ]
  },
  {
   "cell_type": "code",
   "execution_count": 17,
   "metadata": {},
   "outputs": [
    {
     "data": {
      "text/html": [
       "<div>\n",
       "<style scoped>\n",
       "    .dataframe tbody tr th:only-of-type {\n",
       "        vertical-align: middle;\n",
       "    }\n",
       "\n",
       "    .dataframe tbody tr th {\n",
       "        vertical-align: top;\n",
       "    }\n",
       "\n",
       "    .dataframe thead th {\n",
       "        text-align: right;\n",
       "    }\n",
       "</style>\n",
       "<table border=\"1\" class=\"dataframe\">\n",
       "  <thead>\n",
       "    <tr style=\"text-align: right;\">\n",
       "      <th></th>\n",
       "      <th>binarne</th>\n",
       "      <th>key</th>\n",
       "      <th>data</th>\n",
       "      <th>losowe</th>\n",
       "      <th>losowe2</th>\n",
       "      <th>losowe3</th>\n",
       "      <th>binarne_str</th>\n",
       "      <th>losoweDysk1</th>\n",
       "    </tr>\n",
       "  </thead>\n",
       "  <tbody>\n",
       "    <tr>\n",
       "      <th>0</th>\n",
       "      <td>1</td>\n",
       "      <td>A</td>\n",
       "      <td>0</td>\n",
       "      <td>0.916874</td>\n",
       "      <td>0.727951</td>\n",
       "      <td>0.122291</td>\n",
       "      <td>val1</td>\n",
       "      <td>veryhigh</td>\n",
       "    </tr>\n",
       "    <tr>\n",
       "      <th>1</th>\n",
       "      <td>1</td>\n",
       "      <td>B</td>\n",
       "      <td>1</td>\n",
       "      <td>0.588542</td>\n",
       "      <td>0.260480</td>\n",
       "      <td>0.386006</td>\n",
       "      <td>val1</td>\n",
       "      <td>high</td>\n",
       "    </tr>\n",
       "    <tr>\n",
       "      <th>2</th>\n",
       "      <td>1</td>\n",
       "      <td>C</td>\n",
       "      <td>2</td>\n",
       "      <td>0.265048</td>\n",
       "      <td>0.911763</td>\n",
       "      <td>0.840081</td>\n",
       "      <td>val1</td>\n",
       "      <td>below</td>\n",
       "    </tr>\n",
       "    <tr>\n",
       "      <th>3</th>\n",
       "      <td>0</td>\n",
       "      <td>A</td>\n",
       "      <td>3</td>\n",
       "      <td>0.783205</td>\n",
       "      <td>0.260757</td>\n",
       "      <td>0.278179</td>\n",
       "      <td>val0</td>\n",
       "      <td>veryhigh</td>\n",
       "    </tr>\n",
       "    <tr>\n",
       "      <th>4</th>\n",
       "      <td>0</td>\n",
       "      <td>B</td>\n",
       "      <td>4</td>\n",
       "      <td>0.918001</td>\n",
       "      <td>0.766376</td>\n",
       "      <td>0.069914</td>\n",
       "      <td>val0</td>\n",
       "      <td>veryhigh</td>\n",
       "    </tr>\n",
       "  </tbody>\n",
       "</table>\n",
       "</div>"
      ],
      "text/plain": [
       "   binarne key  data    losowe   losowe2   losowe3 binarne_str losoweDysk1\n",
       "0        1   A     0  0.916874  0.727951  0.122291        val1    veryhigh\n",
       "1        1   B     1  0.588542  0.260480  0.386006        val1        high\n",
       "2        1   C     2  0.265048  0.911763  0.840081        val1       below\n",
       "3        0   A     3  0.783205  0.260757  0.278179        val0    veryhigh\n",
       "4        0   B     4  0.918001  0.766376  0.069914        val0    veryhigh"
      ]
     },
     "execution_count": 17,
     "metadata": {},
     "output_type": "execute_result"
    }
   ],
   "source": [
    "df.head()"
   ]
  },
  {
   "cell_type": "code",
   "execution_count": 18,
   "metadata": {},
   "outputs": [
    {
     "data": {
      "text/html": [
       "<div>\n",
       "<style scoped>\n",
       "    .dataframe tbody tr th:only-of-type {\n",
       "        vertical-align: middle;\n",
       "    }\n",
       "\n",
       "    .dataframe tbody tr th {\n",
       "        vertical-align: top;\n",
       "    }\n",
       "\n",
       "    .dataframe thead th {\n",
       "        text-align: right;\n",
       "    }\n",
       "</style>\n",
       "<table border=\"1\" class=\"dataframe\">\n",
       "  <thead>\n",
       "    <tr style=\"text-align: right;\">\n",
       "      <th></th>\n",
       "      <th>binarne</th>\n",
       "      <th>key</th>\n",
       "      <th>data</th>\n",
       "      <th>losowe</th>\n",
       "      <th>losowe2</th>\n",
       "      <th>losowe3</th>\n",
       "      <th>binarne_str</th>\n",
       "      <th>losoweDysk1</th>\n",
       "    </tr>\n",
       "  </thead>\n",
       "  <tbody>\n",
       "    <tr>\n",
       "      <th>5</th>\n",
       "      <td>0</td>\n",
       "      <td>C</td>\n",
       "      <td>5</td>\n",
       "      <td>0.827355</td>\n",
       "      <td>0.261531</td>\n",
       "      <td>0.63311</td>\n",
       "      <td>val0</td>\n",
       "      <td>veryhigh</td>\n",
       "    </tr>\n",
       "  </tbody>\n",
       "</table>\n",
       "</div>"
      ],
      "text/plain": [
       "   binarne key  data    losowe   losowe2  losowe3 binarne_str losoweDysk1\n",
       "5        0   C     5  0.827355  0.261531  0.63311        val0    veryhigh"
      ]
     },
     "execution_count": 18,
     "metadata": {},
     "output_type": "execute_result"
    }
   ],
   "source": [
    "df.sample()"
   ]
  },
  {
   "cell_type": "code",
   "execution_count": 19,
   "metadata": {},
   "outputs": [
    {
     "data": {
      "text/html": [
       "<div>\n",
       "<style scoped>\n",
       "    .dataframe tbody tr th:only-of-type {\n",
       "        vertical-align: middle;\n",
       "    }\n",
       "\n",
       "    .dataframe tbody tr th {\n",
       "        vertical-align: top;\n",
       "    }\n",
       "\n",
       "    .dataframe thead th {\n",
       "        text-align: right;\n",
       "    }\n",
       "</style>\n",
       "<table border=\"1\" class=\"dataframe\">\n",
       "  <thead>\n",
       "    <tr style=\"text-align: right;\">\n",
       "      <th></th>\n",
       "      <th>binarne</th>\n",
       "      <th>key</th>\n",
       "      <th>data</th>\n",
       "      <th>losowe</th>\n",
       "      <th>losowe2</th>\n",
       "      <th>losowe3</th>\n",
       "      <th>binarne_str</th>\n",
       "      <th>losoweDysk1</th>\n",
       "    </tr>\n",
       "  </thead>\n",
       "  <tbody>\n",
       "    <tr>\n",
       "      <th>5</th>\n",
       "      <td>0</td>\n",
       "      <td>C</td>\n",
       "      <td>5</td>\n",
       "      <td>0.827355</td>\n",
       "      <td>0.261531</td>\n",
       "      <td>0.633110</td>\n",
       "      <td>val0</td>\n",
       "      <td>veryhigh</td>\n",
       "    </tr>\n",
       "    <tr>\n",
       "      <th>1</th>\n",
       "      <td>1</td>\n",
       "      <td>B</td>\n",
       "      <td>1</td>\n",
       "      <td>0.588542</td>\n",
       "      <td>0.260480</td>\n",
       "      <td>0.386006</td>\n",
       "      <td>val1</td>\n",
       "      <td>high</td>\n",
       "    </tr>\n",
       "    <tr>\n",
       "      <th>2</th>\n",
       "      <td>1</td>\n",
       "      <td>C</td>\n",
       "      <td>2</td>\n",
       "      <td>0.265048</td>\n",
       "      <td>0.911763</td>\n",
       "      <td>0.840081</td>\n",
       "      <td>val1</td>\n",
       "      <td>below</td>\n",
       "    </tr>\n",
       "  </tbody>\n",
       "</table>\n",
       "</div>"
      ],
      "text/plain": [
       "   binarne key  data    losowe   losowe2   losowe3 binarne_str losoweDysk1\n",
       "5        0   C     5  0.827355  0.261531  0.633110        val0    veryhigh\n",
       "1        1   B     1  0.588542  0.260480  0.386006        val1        high\n",
       "2        1   C     2  0.265048  0.911763  0.840081        val1       below"
      ]
     },
     "execution_count": 19,
     "metadata": {},
     "output_type": "execute_result"
    }
   ],
   "source": [
    "df.sample(3)"
   ]
  },
  {
   "cell_type": "code",
   "execution_count": 21,
   "metadata": {},
   "outputs": [
    {
     "data": {
      "text/html": [
       "<div>\n",
       "<style scoped>\n",
       "    .dataframe tbody tr th:only-of-type {\n",
       "        vertical-align: middle;\n",
       "    }\n",
       "\n",
       "    .dataframe tbody tr th {\n",
       "        vertical-align: top;\n",
       "    }\n",
       "\n",
       "    .dataframe thead th {\n",
       "        text-align: right;\n",
       "    }\n",
       "</style>\n",
       "<table border=\"1\" class=\"dataframe\">\n",
       "  <thead>\n",
       "    <tr style=\"text-align: right;\">\n",
       "      <th></th>\n",
       "      <th>losowe</th>\n",
       "      <th>losowe2</th>\n",
       "      <th>losowe3</th>\n",
       "    </tr>\n",
       "  </thead>\n",
       "  <tbody>\n",
       "    <tr>\n",
       "      <th>0</th>\n",
       "      <td>0.916874</td>\n",
       "      <td>0.727951</td>\n",
       "      <td>0.122291</td>\n",
       "    </tr>\n",
       "    <tr>\n",
       "      <th>1</th>\n",
       "      <td>0.588542</td>\n",
       "      <td>0.260480</td>\n",
       "      <td>0.386006</td>\n",
       "    </tr>\n",
       "    <tr>\n",
       "      <th>2</th>\n",
       "      <td>0.265048</td>\n",
       "      <td>0.911763</td>\n",
       "      <td>0.840081</td>\n",
       "    </tr>\n",
       "    <tr>\n",
       "      <th>3</th>\n",
       "      <td>0.783205</td>\n",
       "      <td>0.260757</td>\n",
       "      <td>0.278179</td>\n",
       "    </tr>\n",
       "    <tr>\n",
       "      <th>4</th>\n",
       "      <td>0.918001</td>\n",
       "      <td>0.766376</td>\n",
       "      <td>0.069914</td>\n",
       "    </tr>\n",
       "    <tr>\n",
       "      <th>5</th>\n",
       "      <td>0.827355</td>\n",
       "      <td>0.261531</td>\n",
       "      <td>0.633110</td>\n",
       "    </tr>\n",
       "  </tbody>\n",
       "</table>\n",
       "</div>"
      ],
      "text/plain": [
       "     losowe   losowe2   losowe3\n",
       "0  0.916874  0.727951  0.122291\n",
       "1  0.588542  0.260480  0.386006\n",
       "2  0.265048  0.911763  0.840081\n",
       "3  0.783205  0.260757  0.278179\n",
       "4  0.918001  0.766376  0.069914\n",
       "5  0.827355  0.261531  0.633110"
      ]
     },
     "execution_count": 21,
     "metadata": {},
     "output_type": "execute_result"
    }
   ],
   "source": [
    "df[['losowe','losowe2','losowe3']]"
   ]
  },
  {
   "cell_type": "markdown",
   "metadata": {},
   "source": [
    "Operacja wykonana w kolumnach (w tym wypadku wybieramy kolumny na których chcemy wykonać operację za pomocą listy)"
   ]
  },
  {
   "cell_type": "code",
   "execution_count": 22,
   "metadata": {},
   "outputs": [
    {
     "data": {
      "text/plain": [
       "losowe     4.299025\n",
       "losowe2    3.188859\n",
       "losowe3    2.329581\n",
       "dtype: float64"
      ]
     },
     "execution_count": 22,
     "metadata": {},
     "output_type": "execute_result"
    }
   ],
   "source": [
    "df[['losowe','losowe2','losowe3']].sum()"
   ]
  },
  {
   "cell_type": "markdown",
   "metadata": {},
   "source": [
    "Tym razem chcemy wykonać tą operację na wierszach"
   ]
  },
  {
   "cell_type": "code",
   "execution_count": 23,
   "metadata": {},
   "outputs": [
    {
     "data": {
      "text/plain": [
       "0    1.767116\n",
       "1    1.235028\n",
       "2    2.016892\n",
       "3    1.322141\n",
       "4    1.754291\n",
       "5    1.721996\n",
       "dtype: float64"
      ]
     },
     "execution_count": 23,
     "metadata": {},
     "output_type": "execute_result"
    }
   ],
   "source": [
    "df[['losowe','losowe2','losowe3']].sum(axis=1)"
   ]
  },
  {
   "cell_type": "markdown",
   "metadata": {},
   "source": [
    "### Brakujące dane\n",
    "Wiecie już jak uzupełniać brakujące dane w kolumnie. Jednak istnieje kilka przypadków, gdzie trzeba trochę się nagimnastykować aby uzyskać porządany efekt."
   ]
  },
  {
   "cell_type": "code",
   "execution_count": 24,
   "metadata": {
    "scrolled": true
   },
   "outputs": [
    {
     "name": "stdout",
     "output_type": "stream",
     "text": [
      "binarne           int64\n",
      "key              object\n",
      "data              int64\n",
      "losowe          float64\n",
      "losowe2         float64\n",
      "losowe3         float64\n",
      "binarne_str      object\n",
      "losoweDysk1    category\n",
      "dtype: object\n"
     ]
    },
    {
     "data": {
      "text/html": [
       "<div>\n",
       "<style scoped>\n",
       "    .dataframe tbody tr th:only-of-type {\n",
       "        vertical-align: middle;\n",
       "    }\n",
       "\n",
       "    .dataframe tbody tr th {\n",
       "        vertical-align: top;\n",
       "    }\n",
       "\n",
       "    .dataframe thead th {\n",
       "        text-align: right;\n",
       "    }\n",
       "</style>\n",
       "<table border=\"1\" class=\"dataframe\">\n",
       "  <thead>\n",
       "    <tr style=\"text-align: right;\">\n",
       "      <th></th>\n",
       "      <th>binarne</th>\n",
       "      <th>key</th>\n",
       "      <th>data</th>\n",
       "      <th>losowe</th>\n",
       "      <th>losowe2</th>\n",
       "      <th>losowe3</th>\n",
       "      <th>binarne_str</th>\n",
       "      <th>losoweDysk1</th>\n",
       "    </tr>\n",
       "  </thead>\n",
       "  <tbody>\n",
       "    <tr>\n",
       "      <th>0</th>\n",
       "      <td>1</td>\n",
       "      <td>A</td>\n",
       "      <td>0</td>\n",
       "      <td>0.916874</td>\n",
       "      <td>0.727951</td>\n",
       "      <td>0.122291</td>\n",
       "      <td>val1</td>\n",
       "      <td>veryhigh</td>\n",
       "    </tr>\n",
       "    <tr>\n",
       "      <th>1</th>\n",
       "      <td>1</td>\n",
       "      <td>B</td>\n",
       "      <td>1</td>\n",
       "      <td>0.588542</td>\n",
       "      <td>0.260480</td>\n",
       "      <td>0.386006</td>\n",
       "      <td>val1</td>\n",
       "      <td>high</td>\n",
       "    </tr>\n",
       "    <tr>\n",
       "      <th>2</th>\n",
       "      <td>1</td>\n",
       "      <td>C</td>\n",
       "      <td>2</td>\n",
       "      <td>0.265048</td>\n",
       "      <td>0.911763</td>\n",
       "      <td>0.840081</td>\n",
       "      <td>val1</td>\n",
       "      <td>below</td>\n",
       "    </tr>\n",
       "    <tr>\n",
       "      <th>3</th>\n",
       "      <td>0</td>\n",
       "      <td>A</td>\n",
       "      <td>3</td>\n",
       "      <td>0.783205</td>\n",
       "      <td>0.260757</td>\n",
       "      <td>0.278179</td>\n",
       "      <td>val0</td>\n",
       "      <td>NaN</td>\n",
       "    </tr>\n",
       "    <tr>\n",
       "      <th>4</th>\n",
       "      <td>0</td>\n",
       "      <td>B</td>\n",
       "      <td>4</td>\n",
       "      <td>0.918001</td>\n",
       "      <td>0.766376</td>\n",
       "      <td>0.069914</td>\n",
       "      <td>val0</td>\n",
       "      <td>veryhigh</td>\n",
       "    </tr>\n",
       "    <tr>\n",
       "      <th>5</th>\n",
       "      <td>0</td>\n",
       "      <td>C</td>\n",
       "      <td>5</td>\n",
       "      <td>0.827355</td>\n",
       "      <td>0.261531</td>\n",
       "      <td>0.633110</td>\n",
       "      <td>val0</td>\n",
       "      <td>veryhigh</td>\n",
       "    </tr>\n",
       "  </tbody>\n",
       "</table>\n",
       "</div>"
      ],
      "text/plain": [
       "   binarne key  data    losowe   losowe2   losowe3 binarne_str losoweDysk1\n",
       "0        1   A     0  0.916874  0.727951  0.122291        val1    veryhigh\n",
       "1        1   B     1  0.588542  0.260480  0.386006        val1        high\n",
       "2        1   C     2  0.265048  0.911763  0.840081        val1       below\n",
       "3        0   A     3  0.783205  0.260757  0.278179        val0         NaN\n",
       "4        0   B     4  0.918001  0.766376  0.069914        val0    veryhigh\n",
       "5        0   C     5  0.827355  0.261531  0.633110        val0    veryhigh"
      ]
     },
     "execution_count": 24,
     "metadata": {},
     "output_type": "execute_result"
    }
   ],
   "source": [
    "df.loc[3,\"losoweDysk1\"] = np.NaN\n",
    "print(df.dtypes)\n",
    "df"
   ]
  },
  {
   "cell_type": "code",
   "execution_count": 25,
   "metadata": {},
   "outputs": [
    {
     "data": {
      "text/plain": [
       "0    veryhigh\n",
       "1        high\n",
       "2       below\n",
       "3        high\n",
       "4    veryhigh\n",
       "5    veryhigh\n",
       "Name: losoweDysk1, dtype: category\n",
       "Categories (3, object): ['below' < 'high' < 'veryhigh']"
      ]
     },
     "execution_count": 25,
     "metadata": {},
     "output_type": "execute_result"
    }
   ],
   "source": [
    "df[\"losoweDysk1\"].fillna('high')\n"
   ]
  },
  {
   "cell_type": "code",
   "execution_count": 26,
   "metadata": {},
   "outputs": [
    {
     "data": {
      "text/html": [
       "<div>\n",
       "<style scoped>\n",
       "    .dataframe tbody tr th:only-of-type {\n",
       "        vertical-align: middle;\n",
       "    }\n",
       "\n",
       "    .dataframe tbody tr th {\n",
       "        vertical-align: top;\n",
       "    }\n",
       "\n",
       "    .dataframe thead th {\n",
       "        text-align: right;\n",
       "    }\n",
       "</style>\n",
       "<table border=\"1\" class=\"dataframe\">\n",
       "  <thead>\n",
       "    <tr style=\"text-align: right;\">\n",
       "      <th></th>\n",
       "      <th>binarne</th>\n",
       "      <th>key</th>\n",
       "      <th>data</th>\n",
       "      <th>losowe</th>\n",
       "      <th>losowe2</th>\n",
       "      <th>losowe3</th>\n",
       "      <th>binarne_str</th>\n",
       "      <th>losoweDysk1</th>\n",
       "    </tr>\n",
       "  </thead>\n",
       "  <tbody>\n",
       "    <tr>\n",
       "      <th>0</th>\n",
       "      <td>1</td>\n",
       "      <td>A</td>\n",
       "      <td>0</td>\n",
       "      <td>0.916874</td>\n",
       "      <td>0.727951</td>\n",
       "      <td>0.122291</td>\n",
       "      <td>val1</td>\n",
       "      <td>veryhigh</td>\n",
       "    </tr>\n",
       "    <tr>\n",
       "      <th>1</th>\n",
       "      <td>1</td>\n",
       "      <td>B</td>\n",
       "      <td>1</td>\n",
       "      <td>0.588542</td>\n",
       "      <td>0.260480</td>\n",
       "      <td>0.386006</td>\n",
       "      <td>val1</td>\n",
       "      <td>high</td>\n",
       "    </tr>\n",
       "    <tr>\n",
       "      <th>2</th>\n",
       "      <td>1</td>\n",
       "      <td>C</td>\n",
       "      <td>2</td>\n",
       "      <td>0.265048</td>\n",
       "      <td>0.911763</td>\n",
       "      <td>0.840081</td>\n",
       "      <td>val1</td>\n",
       "      <td>below</td>\n",
       "    </tr>\n",
       "    <tr>\n",
       "      <th>3</th>\n",
       "      <td>0</td>\n",
       "      <td>A</td>\n",
       "      <td>3</td>\n",
       "      <td>0.783205</td>\n",
       "      <td>0.260757</td>\n",
       "      <td>0.278179</td>\n",
       "      <td>val0</td>\n",
       "      <td>NaN</td>\n",
       "    </tr>\n",
       "    <tr>\n",
       "      <th>4</th>\n",
       "      <td>0</td>\n",
       "      <td>B</td>\n",
       "      <td>4</td>\n",
       "      <td>0.918001</td>\n",
       "      <td>0.766376</td>\n",
       "      <td>0.069914</td>\n",
       "      <td>val0</td>\n",
       "      <td>veryhigh</td>\n",
       "    </tr>\n",
       "    <tr>\n",
       "      <th>5</th>\n",
       "      <td>0</td>\n",
       "      <td>C</td>\n",
       "      <td>5</td>\n",
       "      <td>0.827355</td>\n",
       "      <td>0.261531</td>\n",
       "      <td>0.633110</td>\n",
       "      <td>val0</td>\n",
       "      <td>veryhigh</td>\n",
       "    </tr>\n",
       "  </tbody>\n",
       "</table>\n",
       "</div>"
      ],
      "text/plain": [
       "   binarne key  data    losowe   losowe2   losowe3 binarne_str losoweDysk1\n",
       "0        1   A     0  0.916874  0.727951  0.122291        val1    veryhigh\n",
       "1        1   B     1  0.588542  0.260480  0.386006        val1        high\n",
       "2        1   C     2  0.265048  0.911763  0.840081        val1       below\n",
       "3        0   A     3  0.783205  0.260757  0.278179        val0         NaN\n",
       "4        0   B     4  0.918001  0.766376  0.069914        val0    veryhigh\n",
       "5        0   C     5  0.827355  0.261531  0.633110        val0    veryhigh"
      ]
     },
     "execution_count": 26,
     "metadata": {},
     "output_type": "execute_result"
    }
   ],
   "source": [
    "df"
   ]
  },
  {
   "cell_type": "markdown",
   "metadata": {},
   "source": [
    "Czasem jednak chcemy zastąpić brakujące dane inną etykietą. Dlatego trzeba dodać tą etykietę do zbioru możliwych kategorii"
   ]
  },
  {
   "cell_type": "code",
   "execution_count": 29,
   "metadata": {},
   "outputs": [
    {
     "data": {
      "text/plain": [
       "0    veryhigh\n",
       "1        high\n",
       "2       below\n",
       "3     missing\n",
       "4    veryhigh\n",
       "5    veryhigh\n",
       "Name: losoweDysk1, dtype: category\n",
       "Categories (4, object): ['below' < 'high' < 'veryhigh' < 'missing']"
      ]
     },
     "execution_count": 29,
     "metadata": {},
     "output_type": "execute_result"
    }
   ],
   "source": [
    "#df[\"losoweDysk1\"].fillna('missing')\n",
    "df[\"losoweDysk1\"].cat.add_categories(['missing']).fillna('missing')"
   ]
  },
  {
   "cell_type": "markdown",
   "metadata": {},
   "source": [
    "Widzimy, że kategoria jest uporządkowana a przy dodaniu wartości missing to uporządkowanie może nie mieć sensu. Dlatego możemy skorzystać z metody `as_unordered()`\n",
    "\n",
    "Istnieje też bliźniacza metoda `as_ordered()`"
   ]
  },
  {
   "cell_type": "code",
   "execution_count": 30,
   "metadata": {},
   "outputs": [
    {
     "data": {
      "text/plain": [
       "0    veryhigh\n",
       "1        high\n",
       "2       below\n",
       "3     missing\n",
       "4    veryhigh\n",
       "5    veryhigh\n",
       "Name: losoweDysk1, dtype: category\n",
       "Categories (4, object): ['below', 'high', 'veryhigh', 'missing']"
      ]
     },
     "execution_count": 30,
     "metadata": {},
     "output_type": "execute_result"
    }
   ],
   "source": [
    "df[\"losoweDysk1\"].cat.add_categories(['missing']).fillna('missing').cat.as_unordered()"
   ]
  },
  {
   "cell_type": "markdown",
   "metadata": {},
   "source": [
    "Powyższe operacje wykonywaliśmy w ten sposób, że można uzyskaną kolumnę przypisać do nowej kolumny bądź zastąpić już istniejącą. Jednak bez wskazania co ma być zastąpione pandas pozostawi ramkę bez zmian."
   ]
  },
  {
   "cell_type": "code",
   "execution_count": 31,
   "metadata": {},
   "outputs": [
    {
     "data": {
      "text/html": [
       "<div>\n",
       "<style scoped>\n",
       "    .dataframe tbody tr th:only-of-type {\n",
       "        vertical-align: middle;\n",
       "    }\n",
       "\n",
       "    .dataframe tbody tr th {\n",
       "        vertical-align: top;\n",
       "    }\n",
       "\n",
       "    .dataframe thead th {\n",
       "        text-align: right;\n",
       "    }\n",
       "</style>\n",
       "<table border=\"1\" class=\"dataframe\">\n",
       "  <thead>\n",
       "    <tr style=\"text-align: right;\">\n",
       "      <th></th>\n",
       "      <th>binarne</th>\n",
       "      <th>key</th>\n",
       "      <th>data</th>\n",
       "      <th>losowe</th>\n",
       "      <th>losowe2</th>\n",
       "      <th>losowe3</th>\n",
       "      <th>binarne_str</th>\n",
       "      <th>losoweDysk1</th>\n",
       "    </tr>\n",
       "  </thead>\n",
       "  <tbody>\n",
       "    <tr>\n",
       "      <th>0</th>\n",
       "      <td>1</td>\n",
       "      <td>A</td>\n",
       "      <td>0</td>\n",
       "      <td>0.916874</td>\n",
       "      <td>0.727951</td>\n",
       "      <td>0.122291</td>\n",
       "      <td>val1</td>\n",
       "      <td>veryhigh</td>\n",
       "    </tr>\n",
       "    <tr>\n",
       "      <th>1</th>\n",
       "      <td>1</td>\n",
       "      <td>B</td>\n",
       "      <td>1</td>\n",
       "      <td>0.588542</td>\n",
       "      <td>0.260480</td>\n",
       "      <td>0.386006</td>\n",
       "      <td>val1</td>\n",
       "      <td>high</td>\n",
       "    </tr>\n",
       "    <tr>\n",
       "      <th>2</th>\n",
       "      <td>1</td>\n",
       "      <td>C</td>\n",
       "      <td>2</td>\n",
       "      <td>0.265048</td>\n",
       "      <td>0.911763</td>\n",
       "      <td>0.840081</td>\n",
       "      <td>val1</td>\n",
       "      <td>below</td>\n",
       "    </tr>\n",
       "    <tr>\n",
       "      <th>3</th>\n",
       "      <td>0</td>\n",
       "      <td>A</td>\n",
       "      <td>3</td>\n",
       "      <td>0.783205</td>\n",
       "      <td>0.260757</td>\n",
       "      <td>0.278179</td>\n",
       "      <td>val0</td>\n",
       "      <td>NaN</td>\n",
       "    </tr>\n",
       "    <tr>\n",
       "      <th>4</th>\n",
       "      <td>0</td>\n",
       "      <td>B</td>\n",
       "      <td>4</td>\n",
       "      <td>0.918001</td>\n",
       "      <td>0.766376</td>\n",
       "      <td>0.069914</td>\n",
       "      <td>val0</td>\n",
       "      <td>veryhigh</td>\n",
       "    </tr>\n",
       "    <tr>\n",
       "      <th>5</th>\n",
       "      <td>0</td>\n",
       "      <td>C</td>\n",
       "      <td>5</td>\n",
       "      <td>0.827355</td>\n",
       "      <td>0.261531</td>\n",
       "      <td>0.633110</td>\n",
       "      <td>val0</td>\n",
       "      <td>veryhigh</td>\n",
       "    </tr>\n",
       "  </tbody>\n",
       "</table>\n",
       "</div>"
      ],
      "text/plain": [
       "   binarne key  data    losowe   losowe2   losowe3 binarne_str losoweDysk1\n",
       "0        1   A     0  0.916874  0.727951  0.122291        val1    veryhigh\n",
       "1        1   B     1  0.588542  0.260480  0.386006        val1        high\n",
       "2        1   C     2  0.265048  0.911763  0.840081        val1       below\n",
       "3        0   A     3  0.783205  0.260757  0.278179        val0         NaN\n",
       "4        0   B     4  0.918001  0.766376  0.069914        val0    veryhigh\n",
       "5        0   C     5  0.827355  0.261531  0.633110        val0    veryhigh"
      ]
     },
     "execution_count": 31,
     "metadata": {},
     "output_type": "execute_result"
    }
   ],
   "source": [
    "df"
   ]
  },
  {
   "cell_type": "markdown",
   "metadata": {},
   "source": [
    "Wiele metod w pandas operujących na kolumnach bądź wierszach pozwala na operację \"w miejscu\" bez potrzeby przypisywania kolumny"
   ]
  },
  {
   "cell_type": "code",
   "execution_count": 32,
   "metadata": {},
   "outputs": [
    {
     "data": {
      "text/html": [
       "<div>\n",
       "<style scoped>\n",
       "    .dataframe tbody tr th:only-of-type {\n",
       "        vertical-align: middle;\n",
       "    }\n",
       "\n",
       "    .dataframe tbody tr th {\n",
       "        vertical-align: top;\n",
       "    }\n",
       "\n",
       "    .dataframe thead th {\n",
       "        text-align: right;\n",
       "    }\n",
       "</style>\n",
       "<table border=\"1\" class=\"dataframe\">\n",
       "  <thead>\n",
       "    <tr style=\"text-align: right;\">\n",
       "      <th></th>\n",
       "      <th>binarne</th>\n",
       "      <th>key</th>\n",
       "      <th>data</th>\n",
       "      <th>losowe</th>\n",
       "      <th>losowe2</th>\n",
       "      <th>losowe3</th>\n",
       "      <th>binarne_str</th>\n",
       "      <th>losoweDysk1</th>\n",
       "    </tr>\n",
       "  </thead>\n",
       "  <tbody>\n",
       "    <tr>\n",
       "      <th>0</th>\n",
       "      <td>1</td>\n",
       "      <td>A</td>\n",
       "      <td>0</td>\n",
       "      <td>0.916874</td>\n",
       "      <td>0.727951</td>\n",
       "      <td>0.122291</td>\n",
       "      <td>val1</td>\n",
       "      <td>veryhigh</td>\n",
       "    </tr>\n",
       "    <tr>\n",
       "      <th>1</th>\n",
       "      <td>1</td>\n",
       "      <td>B</td>\n",
       "      <td>1</td>\n",
       "      <td>0.588542</td>\n",
       "      <td>0.260480</td>\n",
       "      <td>0.386006</td>\n",
       "      <td>val1</td>\n",
       "      <td>high</td>\n",
       "    </tr>\n",
       "    <tr>\n",
       "      <th>2</th>\n",
       "      <td>1</td>\n",
       "      <td>C</td>\n",
       "      <td>2</td>\n",
       "      <td>0.265048</td>\n",
       "      <td>0.911763</td>\n",
       "      <td>0.840081</td>\n",
       "      <td>val1</td>\n",
       "      <td>below</td>\n",
       "    </tr>\n",
       "    <tr>\n",
       "      <th>3</th>\n",
       "      <td>0</td>\n",
       "      <td>A</td>\n",
       "      <td>3</td>\n",
       "      <td>0.783205</td>\n",
       "      <td>0.260757</td>\n",
       "      <td>0.278179</td>\n",
       "      <td>val0</td>\n",
       "      <td>high</td>\n",
       "    </tr>\n",
       "    <tr>\n",
       "      <th>4</th>\n",
       "      <td>0</td>\n",
       "      <td>B</td>\n",
       "      <td>4</td>\n",
       "      <td>0.918001</td>\n",
       "      <td>0.766376</td>\n",
       "      <td>0.069914</td>\n",
       "      <td>val0</td>\n",
       "      <td>veryhigh</td>\n",
       "    </tr>\n",
       "    <tr>\n",
       "      <th>5</th>\n",
       "      <td>0</td>\n",
       "      <td>C</td>\n",
       "      <td>5</td>\n",
       "      <td>0.827355</td>\n",
       "      <td>0.261531</td>\n",
       "      <td>0.633110</td>\n",
       "      <td>val0</td>\n",
       "      <td>veryhigh</td>\n",
       "    </tr>\n",
       "  </tbody>\n",
       "</table>\n",
       "</div>"
      ],
      "text/plain": [
       "   binarne key  data    losowe   losowe2   losowe3 binarne_str losoweDysk1\n",
       "0        1   A     0  0.916874  0.727951  0.122291        val1    veryhigh\n",
       "1        1   B     1  0.588542  0.260480  0.386006        val1        high\n",
       "2        1   C     2  0.265048  0.911763  0.840081        val1       below\n",
       "3        0   A     3  0.783205  0.260757  0.278179        val0        high\n",
       "4        0   B     4  0.918001  0.766376  0.069914        val0    veryhigh\n",
       "5        0   C     5  0.827355  0.261531  0.633110        val0    veryhigh"
      ]
     },
     "execution_count": 32,
     "metadata": {},
     "output_type": "execute_result"
    }
   ],
   "source": [
    "df[\"losoweDysk1\"].fillna('high', inplace=True)\n",
    "df"
   ]
  },
  {
   "cell_type": "markdown",
   "metadata": {},
   "source": [
    "to samo tyczy się operacji na całych ramkach"
   ]
  },
  {
   "cell_type": "code",
   "execution_count": 33,
   "metadata": {},
   "outputs": [
    {
     "data": {
      "text/html": [
       "<div>\n",
       "<style scoped>\n",
       "    .dataframe tbody tr th:only-of-type {\n",
       "        vertical-align: middle;\n",
       "    }\n",
       "\n",
       "    .dataframe tbody tr th {\n",
       "        vertical-align: top;\n",
       "    }\n",
       "\n",
       "    .dataframe thead th {\n",
       "        text-align: right;\n",
       "    }\n",
       "</style>\n",
       "<table border=\"1\" class=\"dataframe\">\n",
       "  <thead>\n",
       "    <tr style=\"text-align: right;\">\n",
       "      <th></th>\n",
       "      <th>key</th>\n",
       "      <th>data</th>\n",
       "      <th>losowe</th>\n",
       "      <th>losowe2</th>\n",
       "      <th>losowe3</th>\n",
       "      <th>binarne_str</th>\n",
       "      <th>losoweDysk1</th>\n",
       "    </tr>\n",
       "  </thead>\n",
       "  <tbody>\n",
       "    <tr>\n",
       "      <th>0</th>\n",
       "      <td>A</td>\n",
       "      <td>0</td>\n",
       "      <td>0.916874</td>\n",
       "      <td>0.727951</td>\n",
       "      <td>0.122291</td>\n",
       "      <td>val1</td>\n",
       "      <td>veryhigh</td>\n",
       "    </tr>\n",
       "    <tr>\n",
       "      <th>1</th>\n",
       "      <td>B</td>\n",
       "      <td>1</td>\n",
       "      <td>0.588542</td>\n",
       "      <td>0.260480</td>\n",
       "      <td>0.386006</td>\n",
       "      <td>val1</td>\n",
       "      <td>high</td>\n",
       "    </tr>\n",
       "    <tr>\n",
       "      <th>2</th>\n",
       "      <td>C</td>\n",
       "      <td>2</td>\n",
       "      <td>0.265048</td>\n",
       "      <td>0.911763</td>\n",
       "      <td>0.840081</td>\n",
       "      <td>val1</td>\n",
       "      <td>below</td>\n",
       "    </tr>\n",
       "    <tr>\n",
       "      <th>3</th>\n",
       "      <td>A</td>\n",
       "      <td>3</td>\n",
       "      <td>0.783205</td>\n",
       "      <td>0.260757</td>\n",
       "      <td>0.278179</td>\n",
       "      <td>val0</td>\n",
       "      <td>high</td>\n",
       "    </tr>\n",
       "    <tr>\n",
       "      <th>4</th>\n",
       "      <td>B</td>\n",
       "      <td>4</td>\n",
       "      <td>0.918001</td>\n",
       "      <td>0.766376</td>\n",
       "      <td>0.069914</td>\n",
       "      <td>val0</td>\n",
       "      <td>veryhigh</td>\n",
       "    </tr>\n",
       "    <tr>\n",
       "      <th>5</th>\n",
       "      <td>C</td>\n",
       "      <td>5</td>\n",
       "      <td>0.827355</td>\n",
       "      <td>0.261531</td>\n",
       "      <td>0.633110</td>\n",
       "      <td>val0</td>\n",
       "      <td>veryhigh</td>\n",
       "    </tr>\n",
       "  </tbody>\n",
       "</table>\n",
       "</div>"
      ],
      "text/plain": [
       "  key  data    losowe   losowe2   losowe3 binarne_str losoweDysk1\n",
       "0   A     0  0.916874  0.727951  0.122291        val1    veryhigh\n",
       "1   B     1  0.588542  0.260480  0.386006        val1        high\n",
       "2   C     2  0.265048  0.911763  0.840081        val1       below\n",
       "3   A     3  0.783205  0.260757  0.278179        val0        high\n",
       "4   B     4  0.918001  0.766376  0.069914        val0    veryhigh\n",
       "5   C     5  0.827355  0.261531  0.633110        val0    veryhigh"
      ]
     },
     "execution_count": 33,
     "metadata": {},
     "output_type": "execute_result"
    }
   ],
   "source": [
    "df.drop(\"binarne\", axis=1)"
   ]
  },
  {
   "cell_type": "code",
   "execution_count": 34,
   "metadata": {},
   "outputs": [
    {
     "data": {
      "text/html": [
       "<div>\n",
       "<style scoped>\n",
       "    .dataframe tbody tr th:only-of-type {\n",
       "        vertical-align: middle;\n",
       "    }\n",
       "\n",
       "    .dataframe tbody tr th {\n",
       "        vertical-align: top;\n",
       "    }\n",
       "\n",
       "    .dataframe thead th {\n",
       "        text-align: right;\n",
       "    }\n",
       "</style>\n",
       "<table border=\"1\" class=\"dataframe\">\n",
       "  <thead>\n",
       "    <tr style=\"text-align: right;\">\n",
       "      <th></th>\n",
       "      <th>binarne</th>\n",
       "      <th>key</th>\n",
       "      <th>data</th>\n",
       "      <th>losowe</th>\n",
       "      <th>losowe2</th>\n",
       "      <th>losowe3</th>\n",
       "      <th>binarne_str</th>\n",
       "      <th>losoweDysk1</th>\n",
       "    </tr>\n",
       "  </thead>\n",
       "  <tbody>\n",
       "    <tr>\n",
       "      <th>0</th>\n",
       "      <td>1</td>\n",
       "      <td>A</td>\n",
       "      <td>0</td>\n",
       "      <td>0.916874</td>\n",
       "      <td>0.727951</td>\n",
       "      <td>0.122291</td>\n",
       "      <td>val1</td>\n",
       "      <td>veryhigh</td>\n",
       "    </tr>\n",
       "    <tr>\n",
       "      <th>1</th>\n",
       "      <td>1</td>\n",
       "      <td>B</td>\n",
       "      <td>1</td>\n",
       "      <td>0.588542</td>\n",
       "      <td>0.260480</td>\n",
       "      <td>0.386006</td>\n",
       "      <td>val1</td>\n",
       "      <td>high</td>\n",
       "    </tr>\n",
       "    <tr>\n",
       "      <th>2</th>\n",
       "      <td>1</td>\n",
       "      <td>C</td>\n",
       "      <td>2</td>\n",
       "      <td>0.265048</td>\n",
       "      <td>0.911763</td>\n",
       "      <td>0.840081</td>\n",
       "      <td>val1</td>\n",
       "      <td>below</td>\n",
       "    </tr>\n",
       "    <tr>\n",
       "      <th>3</th>\n",
       "      <td>0</td>\n",
       "      <td>A</td>\n",
       "      <td>3</td>\n",
       "      <td>0.783205</td>\n",
       "      <td>0.260757</td>\n",
       "      <td>0.278179</td>\n",
       "      <td>val0</td>\n",
       "      <td>high</td>\n",
       "    </tr>\n",
       "    <tr>\n",
       "      <th>4</th>\n",
       "      <td>0</td>\n",
       "      <td>B</td>\n",
       "      <td>4</td>\n",
       "      <td>0.918001</td>\n",
       "      <td>0.766376</td>\n",
       "      <td>0.069914</td>\n",
       "      <td>val0</td>\n",
       "      <td>veryhigh</td>\n",
       "    </tr>\n",
       "    <tr>\n",
       "      <th>5</th>\n",
       "      <td>0</td>\n",
       "      <td>C</td>\n",
       "      <td>5</td>\n",
       "      <td>0.827355</td>\n",
       "      <td>0.261531</td>\n",
       "      <td>0.633110</td>\n",
       "      <td>val0</td>\n",
       "      <td>veryhigh</td>\n",
       "    </tr>\n",
       "  </tbody>\n",
       "</table>\n",
       "</div>"
      ],
      "text/plain": [
       "   binarne key  data    losowe   losowe2   losowe3 binarne_str losoweDysk1\n",
       "0        1   A     0  0.916874  0.727951  0.122291        val1    veryhigh\n",
       "1        1   B     1  0.588542  0.260480  0.386006        val1        high\n",
       "2        1   C     2  0.265048  0.911763  0.840081        val1       below\n",
       "3        0   A     3  0.783205  0.260757  0.278179        val0        high\n",
       "4        0   B     4  0.918001  0.766376  0.069914        val0    veryhigh\n",
       "5        0   C     5  0.827355  0.261531  0.633110        val0    veryhigh"
      ]
     },
     "execution_count": 34,
     "metadata": {},
     "output_type": "execute_result"
    }
   ],
   "source": [
    "df"
   ]
  },
  {
   "cell_type": "code",
   "execution_count": 35,
   "metadata": {},
   "outputs": [],
   "source": [
    "df.drop(\"binarne\", axis=1, inplace=True)"
   ]
  },
  {
   "cell_type": "code",
   "execution_count": 36,
   "metadata": {},
   "outputs": [
    {
     "data": {
      "text/html": [
       "<div>\n",
       "<style scoped>\n",
       "    .dataframe tbody tr th:only-of-type {\n",
       "        vertical-align: middle;\n",
       "    }\n",
       "\n",
       "    .dataframe tbody tr th {\n",
       "        vertical-align: top;\n",
       "    }\n",
       "\n",
       "    .dataframe thead th {\n",
       "        text-align: right;\n",
       "    }\n",
       "</style>\n",
       "<table border=\"1\" class=\"dataframe\">\n",
       "  <thead>\n",
       "    <tr style=\"text-align: right;\">\n",
       "      <th></th>\n",
       "      <th>key</th>\n",
       "      <th>data</th>\n",
       "      <th>losowe</th>\n",
       "      <th>losowe2</th>\n",
       "      <th>losowe3</th>\n",
       "      <th>binarne_str</th>\n",
       "      <th>losoweDysk1</th>\n",
       "    </tr>\n",
       "  </thead>\n",
       "  <tbody>\n",
       "    <tr>\n",
       "      <th>0</th>\n",
       "      <td>A</td>\n",
       "      <td>0</td>\n",
       "      <td>0.916874</td>\n",
       "      <td>0.727951</td>\n",
       "      <td>0.122291</td>\n",
       "      <td>val1</td>\n",
       "      <td>veryhigh</td>\n",
       "    </tr>\n",
       "    <tr>\n",
       "      <th>1</th>\n",
       "      <td>B</td>\n",
       "      <td>1</td>\n",
       "      <td>0.588542</td>\n",
       "      <td>0.260480</td>\n",
       "      <td>0.386006</td>\n",
       "      <td>val1</td>\n",
       "      <td>high</td>\n",
       "    </tr>\n",
       "    <tr>\n",
       "      <th>2</th>\n",
       "      <td>C</td>\n",
       "      <td>2</td>\n",
       "      <td>0.265048</td>\n",
       "      <td>0.911763</td>\n",
       "      <td>0.840081</td>\n",
       "      <td>val1</td>\n",
       "      <td>below</td>\n",
       "    </tr>\n",
       "    <tr>\n",
       "      <th>3</th>\n",
       "      <td>A</td>\n",
       "      <td>3</td>\n",
       "      <td>0.783205</td>\n",
       "      <td>0.260757</td>\n",
       "      <td>0.278179</td>\n",
       "      <td>val0</td>\n",
       "      <td>high</td>\n",
       "    </tr>\n",
       "    <tr>\n",
       "      <th>4</th>\n",
       "      <td>B</td>\n",
       "      <td>4</td>\n",
       "      <td>0.918001</td>\n",
       "      <td>0.766376</td>\n",
       "      <td>0.069914</td>\n",
       "      <td>val0</td>\n",
       "      <td>veryhigh</td>\n",
       "    </tr>\n",
       "    <tr>\n",
       "      <th>5</th>\n",
       "      <td>C</td>\n",
       "      <td>5</td>\n",
       "      <td>0.827355</td>\n",
       "      <td>0.261531</td>\n",
       "      <td>0.633110</td>\n",
       "      <td>val0</td>\n",
       "      <td>veryhigh</td>\n",
       "    </tr>\n",
       "  </tbody>\n",
       "</table>\n",
       "</div>"
      ],
      "text/plain": [
       "  key  data    losowe   losowe2   losowe3 binarne_str losoweDysk1\n",
       "0   A     0  0.916874  0.727951  0.122291        val1    veryhigh\n",
       "1   B     1  0.588542  0.260480  0.386006        val1        high\n",
       "2   C     2  0.265048  0.911763  0.840081        val1       below\n",
       "3   A     3  0.783205  0.260757  0.278179        val0        high\n",
       "4   B     4  0.918001  0.766376  0.069914        val0    veryhigh\n",
       "5   C     5  0.827355  0.261531  0.633110        val0    veryhigh"
      ]
     },
     "execution_count": 36,
     "metadata": {},
     "output_type": "execute_result"
    }
   ],
   "source": [
    "df"
   ]
  },
  {
   "cell_type": "markdown",
   "metadata": {},
   "source": [
    "Grupowanie i agregacja"
   ]
  },
  {
   "cell_type": "code",
   "execution_count": 39,
   "metadata": {},
   "outputs": [
    {
     "data": {
      "text/html": [
       "<div>\n",
       "<style scoped>\n",
       "    .dataframe tbody tr th:only-of-type {\n",
       "        vertical-align: middle;\n",
       "    }\n",
       "\n",
       "    .dataframe tbody tr th {\n",
       "        vertical-align: top;\n",
       "    }\n",
       "\n",
       "    .dataframe thead th {\n",
       "        text-align: right;\n",
       "    }\n",
       "</style>\n",
       "<table border=\"1\" class=\"dataframe\">\n",
       "  <thead>\n",
       "    <tr style=\"text-align: right;\">\n",
       "      <th></th>\n",
       "      <th>losowe</th>\n",
       "      <th>losowe2</th>\n",
       "      <th>losowe3</th>\n",
       "    </tr>\n",
       "    <tr>\n",
       "      <th>key</th>\n",
       "      <th></th>\n",
       "      <th></th>\n",
       "      <th></th>\n",
       "    </tr>\n",
       "  </thead>\n",
       "  <tbody>\n",
       "    <tr>\n",
       "      <th>A</th>\n",
       "      <td>0.850039</td>\n",
       "      <td>0.494354</td>\n",
       "      <td>0.200235</td>\n",
       "    </tr>\n",
       "    <tr>\n",
       "      <th>B</th>\n",
       "      <td>0.753271</td>\n",
       "      <td>0.513428</td>\n",
       "      <td>0.227960</td>\n",
       "    </tr>\n",
       "    <tr>\n",
       "      <th>C</th>\n",
       "      <td>0.546201</td>\n",
       "      <td>0.586647</td>\n",
       "      <td>0.736595</td>\n",
       "    </tr>\n",
       "  </tbody>\n",
       "</table>\n",
       "</div>"
      ],
      "text/plain": [
       "       losowe   losowe2   losowe3\n",
       "key                              \n",
       "A    0.850039  0.494354  0.200235\n",
       "B    0.753271  0.513428  0.227960\n",
       "C    0.546201  0.586647  0.736595"
      ]
     },
     "execution_count": 39,
     "metadata": {},
     "output_type": "execute_result"
    }
   ],
   "source": [
    "df[['key','losowe','losowe2','losowe3']].groupby(\"key\").aggregate(\"mean\")"
   ]
  },
  {
   "cell_type": "code",
   "execution_count": 40,
   "metadata": {},
   "outputs": [
    {
     "data": {
      "text/html": [
       "<div>\n",
       "<style scoped>\n",
       "    .dataframe tbody tr th:only-of-type {\n",
       "        vertical-align: middle;\n",
       "    }\n",
       "\n",
       "    .dataframe tbody tr th {\n",
       "        vertical-align: top;\n",
       "    }\n",
       "\n",
       "    .dataframe thead tr th {\n",
       "        text-align: left;\n",
       "    }\n",
       "\n",
       "    .dataframe thead tr:last-of-type th {\n",
       "        text-align: right;\n",
       "    }\n",
       "</style>\n",
       "<table border=\"1\" class=\"dataframe\">\n",
       "  <thead>\n",
       "    <tr>\n",
       "      <th></th>\n",
       "      <th colspan=\"3\" halign=\"left\">losowe</th>\n",
       "    </tr>\n",
       "    <tr>\n",
       "      <th></th>\n",
       "      <th>sum</th>\n",
       "      <th>min</th>\n",
       "      <th>max</th>\n",
       "    </tr>\n",
       "    <tr>\n",
       "      <th>key</th>\n",
       "      <th></th>\n",
       "      <th></th>\n",
       "      <th></th>\n",
       "    </tr>\n",
       "  </thead>\n",
       "  <tbody>\n",
       "    <tr>\n",
       "      <th>A</th>\n",
       "      <td>1.700079</td>\n",
       "      <td>0.783205</td>\n",
       "      <td>0.916874</td>\n",
       "    </tr>\n",
       "    <tr>\n",
       "      <th>B</th>\n",
       "      <td>1.506543</td>\n",
       "      <td>0.588542</td>\n",
       "      <td>0.918001</td>\n",
       "    </tr>\n",
       "    <tr>\n",
       "      <th>C</th>\n",
       "      <td>1.092403</td>\n",
       "      <td>0.265048</td>\n",
       "      <td>0.827355</td>\n",
       "    </tr>\n",
       "  </tbody>\n",
       "</table>\n",
       "</div>"
      ],
      "text/plain": [
       "       losowe                    \n",
       "          sum       min       max\n",
       "key                              \n",
       "A    1.700079  0.783205  0.916874\n",
       "B    1.506543  0.588542  0.918001\n",
       "C    1.092403  0.265048  0.827355"
      ]
     },
     "execution_count": 40,
     "metadata": {},
     "output_type": "execute_result"
    }
   ],
   "source": [
    "df[['key','losowe','losowe2','losowe3']].groupby(\"key\").agg({\"losowe\":[\"sum\",\"min\",\"max\"]})"
   ]
  },
  {
   "cell_type": "code",
   "execution_count": 41,
   "metadata": {},
   "outputs": [
    {
     "data": {
      "text/html": [
       "<div>\n",
       "<style scoped>\n",
       "    .dataframe tbody tr th:only-of-type {\n",
       "        vertical-align: middle;\n",
       "    }\n",
       "\n",
       "    .dataframe tbody tr th {\n",
       "        vertical-align: top;\n",
       "    }\n",
       "\n",
       "    .dataframe thead tr th {\n",
       "        text-align: left;\n",
       "    }\n",
       "\n",
       "    .dataframe thead tr:last-of-type th {\n",
       "        text-align: right;\n",
       "    }\n",
       "</style>\n",
       "<table border=\"1\" class=\"dataframe\">\n",
       "  <thead>\n",
       "    <tr>\n",
       "      <th></th>\n",
       "      <th colspan=\"3\" halign=\"left\">losowe</th>\n",
       "      <th colspan=\"2\" halign=\"left\">losowe2</th>\n",
       "    </tr>\n",
       "    <tr>\n",
       "      <th></th>\n",
       "      <th>sum</th>\n",
       "      <th>min</th>\n",
       "      <th>max</th>\n",
       "      <th>mean</th>\n",
       "      <th>var</th>\n",
       "    </tr>\n",
       "    <tr>\n",
       "      <th>key</th>\n",
       "      <th></th>\n",
       "      <th></th>\n",
       "      <th></th>\n",
       "      <th></th>\n",
       "      <th></th>\n",
       "    </tr>\n",
       "  </thead>\n",
       "  <tbody>\n",
       "    <tr>\n",
       "      <th>A</th>\n",
       "      <td>1.700079</td>\n",
       "      <td>0.783205</td>\n",
       "      <td>0.916874</td>\n",
       "      <td>0.494354</td>\n",
       "      <td>0.109136</td>\n",
       "    </tr>\n",
       "    <tr>\n",
       "      <th>B</th>\n",
       "      <td>1.506543</td>\n",
       "      <td>0.588542</td>\n",
       "      <td>0.918001</td>\n",
       "      <td>0.513428</td>\n",
       "      <td>0.127965</td>\n",
       "    </tr>\n",
       "    <tr>\n",
       "      <th>C</th>\n",
       "      <td>1.092403</td>\n",
       "      <td>0.265048</td>\n",
       "      <td>0.827355</td>\n",
       "      <td>0.586647</td>\n",
       "      <td>0.211401</td>\n",
       "    </tr>\n",
       "  </tbody>\n",
       "</table>\n",
       "</div>"
      ],
      "text/plain": [
       "       losowe                       losowe2          \n",
       "          sum       min       max      mean       var\n",
       "key                                                  \n",
       "A    1.700079  0.783205  0.916874  0.494354  0.109136\n",
       "B    1.506543  0.588542  0.918001  0.513428  0.127965\n",
       "C    1.092403  0.265048  0.827355  0.586647  0.211401"
      ]
     },
     "execution_count": 41,
     "metadata": {},
     "output_type": "execute_result"
    }
   ],
   "source": [
    "df.groupby(\"key\").agg({\"losowe\":[\"sum\",\"min\",\"max\"], \"losowe2\":[\"mean\",\"var\"]})"
   ]
  },
  {
   "cell_type": "markdown",
   "metadata": {},
   "source": [
    "### Rzutowanie wyniku na różną reprezentację"
   ]
  },
  {
   "cell_type": "code",
   "execution_count": 42,
   "metadata": {},
   "outputs": [
    {
     "data": {
      "text/plain": [
       "{('losowe', 'sum'): {'A': 1.700078961034706,\n",
       "  'B': 1.5065429761826934,\n",
       "  'C': 1.0924027631368878},\n",
       " ('losowe', 'min'): {'A': 0.7832053795417385,\n",
       "  'B': 0.5885419136419221,\n",
       "  'C': 0.26504775117246204},\n",
       " ('losowe', 'max'): {'A': 0.9168735814929675,\n",
       "  'B': 0.9180010625407714,\n",
       "  'C': 0.8273550119644258},\n",
       " ('losowe2', 'mean'): {'A': 0.4943540189094261,\n",
       "  'B': 0.5134282237641317,\n",
       "  'C': 0.5866472677598009},\n",
       " ('losowe2', 'var'): {'A': 0.10913554977633626,\n",
       "  'B': 0.12796517846703895,\n",
       "  'C': 0.2114009980943989}}"
      ]
     },
     "execution_count": 42,
     "metadata": {},
     "output_type": "execute_result"
    }
   ],
   "source": [
    "df.groupby(\"key\").agg({\"losowe\":[\"sum\",\"min\",\"max\"], \"losowe2\":[\"mean\",\"var\"]}).to_dict()"
   ]
  },
  {
   "cell_type": "code",
   "execution_count": 43,
   "metadata": {},
   "outputs": [
    {
     "data": {
      "text/plain": [
       "'\\\\begin{tabular}{lrrrrr}\\n\\\\toprule\\n & \\\\multicolumn{3}{r}{losowe} & \\\\multicolumn{2}{r}{losowe2} \\\\\\\\\\n & sum & min & max & mean & var \\\\\\\\\\nkey &  &  &  &  &  \\\\\\\\\\n\\\\midrule\\nA & 1.700079 & 0.783205 & 0.916874 & 0.494354 & 0.109136 \\\\\\\\\\nB & 1.506543 & 0.588542 & 0.918001 & 0.513428 & 0.127965 \\\\\\\\\\nC & 1.092403 & 0.265048 & 0.827355 & 0.586647 & 0.211401 \\\\\\\\\\n\\\\bottomrule\\n\\\\end{tabular}\\n'"
      ]
     },
     "execution_count": 43,
     "metadata": {},
     "output_type": "execute_result"
    }
   ],
   "source": [
    "df.groupby(\"key\").agg({\"losowe\":[\"sum\",\"min\",\"max\"], \"losowe2\":[\"mean\",\"var\"]}).to_latex()"
   ]
  },
  {
   "cell_type": "code",
   "execution_count": 44,
   "metadata": {},
   "outputs": [
    {
     "data": {
      "text/plain": [
       "rec.array([('A', 1.70007896, 0.78320538, 0.91687358, 0.49435402, 0.10913555),\n",
       "           ('B', 1.50654298, 0.58854191, 0.91800106, 0.51342822, 0.12796518),\n",
       "           ('C', 1.09240276, 0.26504775, 0.82735501, 0.58664727, 0.211401  )],\n",
       "          dtype=[('key', 'O'), (\"('losowe', 'sum')\", '<f8'), (\"('losowe', 'min')\", '<f8'), (\"('losowe', 'max')\", '<f8'), (\"('losowe2', 'mean')\", '<f8'), (\"('losowe2', 'var')\", '<f8')])"
      ]
     },
     "execution_count": 44,
     "metadata": {},
     "output_type": "execute_result"
    }
   ],
   "source": [
    "df.groupby(\"key\").agg({\"losowe\":[\"sum\",\"min\",\"max\"], \"losowe2\":[\"mean\",\"var\"]}).to_records()"
   ]
  },
  {
   "cell_type": "code",
   "execution_count": 45,
   "metadata": {},
   "outputs": [
    {
     "data": {
      "text/plain": [
       "'<table border=\"1\" class=\"dataframe\">\\n  <thead>\\n    <tr>\\n      <th></th>\\n      <th colspan=\"3\" halign=\"left\">losowe</th>\\n      <th colspan=\"2\" halign=\"left\">losowe2</th>\\n    </tr>\\n    <tr>\\n      <th></th>\\n      <th>sum</th>\\n      <th>min</th>\\n      <th>max</th>\\n      <th>mean</th>\\n      <th>var</th>\\n    </tr>\\n    <tr>\\n      <th>key</th>\\n      <th></th>\\n      <th></th>\\n      <th></th>\\n      <th></th>\\n      <th></th>\\n    </tr>\\n  </thead>\\n  <tbody>\\n    <tr>\\n      <th>A</th>\\n      <td>1.700079</td>\\n      <td>0.783205</td>\\n      <td>0.916874</td>\\n      <td>0.494354</td>\\n      <td>0.109136</td>\\n    </tr>\\n    <tr>\\n      <th>B</th>\\n      <td>1.506543</td>\\n      <td>0.588542</td>\\n      <td>0.918001</td>\\n      <td>0.513428</td>\\n      <td>0.127965</td>\\n    </tr>\\n    <tr>\\n      <th>C</th>\\n      <td>1.092403</td>\\n      <td>0.265048</td>\\n      <td>0.827355</td>\\n      <td>0.586647</td>\\n      <td>0.211401</td>\\n    </tr>\\n  </tbody>\\n</table>'"
      ]
     },
     "execution_count": 45,
     "metadata": {},
     "output_type": "execute_result"
    }
   ],
   "source": [
    "df.groupby(\"key\").agg({\"losowe\":[\"sum\",\"min\",\"max\"], \"losowe2\":[\"mean\",\"var\"]}).to_html()"
   ]
  },
  {
   "cell_type": "markdown",
   "metadata": {},
   "source": [
    "### Łączenie tabel"
   ]
  },
  {
   "cell_type": "code",
   "execution_count": 46,
   "metadata": {},
   "outputs": [
    {
     "data": {
      "text/html": [
       "<div>\n",
       "<style scoped>\n",
       "    .dataframe tbody tr th:only-of-type {\n",
       "        vertical-align: middle;\n",
       "    }\n",
       "\n",
       "    .dataframe tbody tr th {\n",
       "        vertical-align: top;\n",
       "    }\n",
       "\n",
       "    .dataframe thead th {\n",
       "        text-align: right;\n",
       "    }\n",
       "</style>\n",
       "<table border=\"1\" class=\"dataframe\">\n",
       "  <thead>\n",
       "    <tr style=\"text-align: right;\">\n",
       "      <th></th>\n",
       "      <th>key</th>\n",
       "      <th>val</th>\n",
       "    </tr>\n",
       "  </thead>\n",
       "  <tbody>\n",
       "    <tr>\n",
       "      <th>0</th>\n",
       "      <td>A</td>\n",
       "      <td>0.584766</td>\n",
       "    </tr>\n",
       "    <tr>\n",
       "      <th>1</th>\n",
       "      <td>B</td>\n",
       "      <td>0.581232</td>\n",
       "    </tr>\n",
       "    <tr>\n",
       "      <th>2</th>\n",
       "      <td>C</td>\n",
       "      <td>0.677205</td>\n",
       "    </tr>\n",
       "  </tbody>\n",
       "</table>\n",
       "</div>"
      ],
      "text/plain": [
       "  key       val\n",
       "0   A  0.584766\n",
       "1   B  0.581232\n",
       "2   C  0.677205"
      ]
     },
     "execution_count": 46,
     "metadata": {},
     "output_type": "execute_result"
    }
   ],
   "source": [
    "df2 = pd.DataFrame(\n",
    "    {\n",
    "        'key': ['A', 'B', 'C'],\n",
    "        'val': rng.rand(3) \n",
    "    },\n",
    "    columns=['key', 'val']\n",
    ")\n",
    "df2"
   ]
  },
  {
   "cell_type": "markdown",
   "metadata": {},
   "source": [
    "Łączenie po indeksie. (muszą być ustawione indeksy!)"
   ]
  },
  {
   "cell_type": "code",
   "execution_count": 49,
   "metadata": {},
   "outputs": [
    {
     "data": {
      "text/html": [
       "<div>\n",
       "<style scoped>\n",
       "    .dataframe tbody tr th:only-of-type {\n",
       "        vertical-align: middle;\n",
       "    }\n",
       "\n",
       "    .dataframe tbody tr th {\n",
       "        vertical-align: top;\n",
       "    }\n",
       "\n",
       "    .dataframe thead th {\n",
       "        text-align: right;\n",
       "    }\n",
       "</style>\n",
       "<table border=\"1\" class=\"dataframe\">\n",
       "  <thead>\n",
       "    <tr style=\"text-align: right;\">\n",
       "      <th></th>\n",
       "      <th>data</th>\n",
       "      <th>losowe</th>\n",
       "      <th>losowe2</th>\n",
       "      <th>losowe3</th>\n",
       "      <th>binarne_str</th>\n",
       "      <th>losoweDysk1</th>\n",
       "      <th>val</th>\n",
       "    </tr>\n",
       "    <tr>\n",
       "      <th>key</th>\n",
       "      <th></th>\n",
       "      <th></th>\n",
       "      <th></th>\n",
       "      <th></th>\n",
       "      <th></th>\n",
       "      <th></th>\n",
       "      <th></th>\n",
       "    </tr>\n",
       "  </thead>\n",
       "  <tbody>\n",
       "    <tr>\n",
       "      <th>A</th>\n",
       "      <td>0</td>\n",
       "      <td>0.916874</td>\n",
       "      <td>0.727951</td>\n",
       "      <td>0.122291</td>\n",
       "      <td>val1</td>\n",
       "      <td>veryhigh</td>\n",
       "      <td>0.584766</td>\n",
       "    </tr>\n",
       "    <tr>\n",
       "      <th>B</th>\n",
       "      <td>1</td>\n",
       "      <td>0.588542</td>\n",
       "      <td>0.260480</td>\n",
       "      <td>0.386006</td>\n",
       "      <td>val1</td>\n",
       "      <td>high</td>\n",
       "      <td>0.581232</td>\n",
       "    </tr>\n",
       "    <tr>\n",
       "      <th>C</th>\n",
       "      <td>2</td>\n",
       "      <td>0.265048</td>\n",
       "      <td>0.911763</td>\n",
       "      <td>0.840081</td>\n",
       "      <td>val1</td>\n",
       "      <td>below</td>\n",
       "      <td>0.677205</td>\n",
       "    </tr>\n",
       "    <tr>\n",
       "      <th>A</th>\n",
       "      <td>3</td>\n",
       "      <td>0.783205</td>\n",
       "      <td>0.260757</td>\n",
       "      <td>0.278179</td>\n",
       "      <td>val0</td>\n",
       "      <td>high</td>\n",
       "      <td>0.584766</td>\n",
       "    </tr>\n",
       "    <tr>\n",
       "      <th>B</th>\n",
       "      <td>4</td>\n",
       "      <td>0.918001</td>\n",
       "      <td>0.766376</td>\n",
       "      <td>0.069914</td>\n",
       "      <td>val0</td>\n",
       "      <td>veryhigh</td>\n",
       "      <td>0.581232</td>\n",
       "    </tr>\n",
       "    <tr>\n",
       "      <th>C</th>\n",
       "      <td>5</td>\n",
       "      <td>0.827355</td>\n",
       "      <td>0.261531</td>\n",
       "      <td>0.633110</td>\n",
       "      <td>val0</td>\n",
       "      <td>veryhigh</td>\n",
       "      <td>0.677205</td>\n",
       "    </tr>\n",
       "  </tbody>\n",
       "</table>\n",
       "</div>"
      ],
      "text/plain": [
       "     data    losowe   losowe2   losowe3 binarne_str losoweDysk1       val\n",
       "key                                                                      \n",
       "A       0  0.916874  0.727951  0.122291        val1    veryhigh  0.584766\n",
       "B       1  0.588542  0.260480  0.386006        val1        high  0.581232\n",
       "C       2  0.265048  0.911763  0.840081        val1       below  0.677205\n",
       "A       3  0.783205  0.260757  0.278179        val0        high  0.584766\n",
       "B       4  0.918001  0.766376  0.069914        val0    veryhigh  0.581232\n",
       "C       5  0.827355  0.261531  0.633110        val0    veryhigh  0.677205"
      ]
     },
     "execution_count": 49,
     "metadata": {},
     "output_type": "execute_result"
    }
   ],
   "source": [
    "#df.join(df2)\n",
    "#df.set_index('key')\n",
    "df.set_index('key').join(df2.set_index('key'))"
   ]
  },
  {
   "cell_type": "markdown",
   "metadata": {},
   "source": [
    "Łączenie bez indeksów możemy wykonać za pomocą `merge`\n",
    "\n",
    "```Python\n",
    "DataFrame.merge(right, \n",
    "                how='inner', \n",
    "                on=None, \n",
    "                left_on=None,\n",
    "                right_on=None, \n",
    "                left_index=False, \n",
    "                right_index=False, \n",
    "                sort=False, \n",
    "                suffixes=('_x', '_y'), #gdy powtarzają się nazwy kolumn\n",
    "                copy=True, \n",
    "                indicator=False, \n",
    "                validate=None)```"
   ]
  },
  {
   "cell_type": "code",
   "execution_count": 50,
   "metadata": {},
   "outputs": [
    {
     "data": {
      "text/html": [
       "<div>\n",
       "<style scoped>\n",
       "    .dataframe tbody tr th:only-of-type {\n",
       "        vertical-align: middle;\n",
       "    }\n",
       "\n",
       "    .dataframe tbody tr th {\n",
       "        vertical-align: top;\n",
       "    }\n",
       "\n",
       "    .dataframe thead th {\n",
       "        text-align: right;\n",
       "    }\n",
       "</style>\n",
       "<table border=\"1\" class=\"dataframe\">\n",
       "  <thead>\n",
       "    <tr style=\"text-align: right;\">\n",
       "      <th></th>\n",
       "      <th>key</th>\n",
       "      <th>data</th>\n",
       "      <th>losowe</th>\n",
       "      <th>losowe2</th>\n",
       "      <th>losowe3</th>\n",
       "      <th>binarne_str</th>\n",
       "      <th>losoweDysk1</th>\n",
       "      <th>val</th>\n",
       "    </tr>\n",
       "  </thead>\n",
       "  <tbody>\n",
       "    <tr>\n",
       "      <th>0</th>\n",
       "      <td>A</td>\n",
       "      <td>0</td>\n",
       "      <td>0.916874</td>\n",
       "      <td>0.727951</td>\n",
       "      <td>0.122291</td>\n",
       "      <td>val1</td>\n",
       "      <td>veryhigh</td>\n",
       "      <td>0.584766</td>\n",
       "    </tr>\n",
       "    <tr>\n",
       "      <th>1</th>\n",
       "      <td>B</td>\n",
       "      <td>1</td>\n",
       "      <td>0.588542</td>\n",
       "      <td>0.260480</td>\n",
       "      <td>0.386006</td>\n",
       "      <td>val1</td>\n",
       "      <td>high</td>\n",
       "      <td>0.581232</td>\n",
       "    </tr>\n",
       "    <tr>\n",
       "      <th>2</th>\n",
       "      <td>C</td>\n",
       "      <td>2</td>\n",
       "      <td>0.265048</td>\n",
       "      <td>0.911763</td>\n",
       "      <td>0.840081</td>\n",
       "      <td>val1</td>\n",
       "      <td>below</td>\n",
       "      <td>0.677205</td>\n",
       "    </tr>\n",
       "    <tr>\n",
       "      <th>3</th>\n",
       "      <td>A</td>\n",
       "      <td>3</td>\n",
       "      <td>0.783205</td>\n",
       "      <td>0.260757</td>\n",
       "      <td>0.278179</td>\n",
       "      <td>val0</td>\n",
       "      <td>high</td>\n",
       "      <td>0.584766</td>\n",
       "    </tr>\n",
       "    <tr>\n",
       "      <th>4</th>\n",
       "      <td>B</td>\n",
       "      <td>4</td>\n",
       "      <td>0.918001</td>\n",
       "      <td>0.766376</td>\n",
       "      <td>0.069914</td>\n",
       "      <td>val0</td>\n",
       "      <td>veryhigh</td>\n",
       "      <td>0.581232</td>\n",
       "    </tr>\n",
       "    <tr>\n",
       "      <th>5</th>\n",
       "      <td>C</td>\n",
       "      <td>5</td>\n",
       "      <td>0.827355</td>\n",
       "      <td>0.261531</td>\n",
       "      <td>0.633110</td>\n",
       "      <td>val0</td>\n",
       "      <td>veryhigh</td>\n",
       "      <td>0.677205</td>\n",
       "    </tr>\n",
       "  </tbody>\n",
       "</table>\n",
       "</div>"
      ],
      "text/plain": [
       "  key  data    losowe   losowe2   losowe3 binarne_str losoweDysk1       val\n",
       "0   A     0  0.916874  0.727951  0.122291        val1    veryhigh  0.584766\n",
       "1   B     1  0.588542  0.260480  0.386006        val1        high  0.581232\n",
       "2   C     2  0.265048  0.911763  0.840081        val1       below  0.677205\n",
       "3   A     3  0.783205  0.260757  0.278179        val0        high  0.584766\n",
       "4   B     4  0.918001  0.766376  0.069914        val0    veryhigh  0.581232\n",
       "5   C     5  0.827355  0.261531  0.633110        val0    veryhigh  0.677205"
      ]
     },
     "execution_count": 50,
     "metadata": {},
     "output_type": "execute_result"
    }
   ],
   "source": [
    "df.merge(df2, on='key')"
   ]
  },
  {
   "cell_type": "code",
   "execution_count": 51,
   "metadata": {},
   "outputs": [
    {
     "data": {
      "text/html": [
       "<div>\n",
       "<style scoped>\n",
       "    .dataframe tbody tr th:only-of-type {\n",
       "        vertical-align: middle;\n",
       "    }\n",
       "\n",
       "    .dataframe tbody tr th {\n",
       "        vertical-align: top;\n",
       "    }\n",
       "\n",
       "    .dataframe thead th {\n",
       "        text-align: right;\n",
       "    }\n",
       "</style>\n",
       "<table border=\"1\" class=\"dataframe\">\n",
       "  <thead>\n",
       "    <tr style=\"text-align: right;\">\n",
       "      <th></th>\n",
       "      <th>key</th>\n",
       "      <th>data</th>\n",
       "      <th>losowe</th>\n",
       "      <th>losowe2</th>\n",
       "      <th>losowe3</th>\n",
       "      <th>binarne_str</th>\n",
       "      <th>losoweDysk1</th>\n",
       "    </tr>\n",
       "  </thead>\n",
       "  <tbody>\n",
       "    <tr>\n",
       "      <th>0</th>\n",
       "      <td>A</td>\n",
       "      <td>0</td>\n",
       "      <td>0.916874</td>\n",
       "      <td>0.727951</td>\n",
       "      <td>0.122291</td>\n",
       "      <td>val1</td>\n",
       "      <td>veryhigh</td>\n",
       "    </tr>\n",
       "    <tr>\n",
       "      <th>1</th>\n",
       "      <td>B</td>\n",
       "      <td>1</td>\n",
       "      <td>0.588542</td>\n",
       "      <td>0.260480</td>\n",
       "      <td>0.386006</td>\n",
       "      <td>val1</td>\n",
       "      <td>high</td>\n",
       "    </tr>\n",
       "    <tr>\n",
       "      <th>2</th>\n",
       "      <td>C</td>\n",
       "      <td>2</td>\n",
       "      <td>0.265048</td>\n",
       "      <td>0.911763</td>\n",
       "      <td>0.840081</td>\n",
       "      <td>val1</td>\n",
       "      <td>below</td>\n",
       "    </tr>\n",
       "    <tr>\n",
       "      <th>3</th>\n",
       "      <td>A</td>\n",
       "      <td>3</td>\n",
       "      <td>0.783205</td>\n",
       "      <td>0.260757</td>\n",
       "      <td>0.278179</td>\n",
       "      <td>val0</td>\n",
       "      <td>high</td>\n",
       "    </tr>\n",
       "    <tr>\n",
       "      <th>4</th>\n",
       "      <td>B</td>\n",
       "      <td>4</td>\n",
       "      <td>0.918001</td>\n",
       "      <td>0.766376</td>\n",
       "      <td>0.069914</td>\n",
       "      <td>val0</td>\n",
       "      <td>veryhigh</td>\n",
       "    </tr>\n",
       "    <tr>\n",
       "      <th>5</th>\n",
       "      <td>C</td>\n",
       "      <td>5</td>\n",
       "      <td>0.827355</td>\n",
       "      <td>0.261531</td>\n",
       "      <td>0.633110</td>\n",
       "      <td>val0</td>\n",
       "      <td>veryhigh</td>\n",
       "    </tr>\n",
       "  </tbody>\n",
       "</table>\n",
       "</div>"
      ],
      "text/plain": [
       "  key  data    losowe   losowe2   losowe3 binarne_str losoweDysk1\n",
       "0   A     0  0.916874  0.727951  0.122291        val1    veryhigh\n",
       "1   B     1  0.588542  0.260480  0.386006        val1        high\n",
       "2   C     2  0.265048  0.911763  0.840081        val1       below\n",
       "3   A     3  0.783205  0.260757  0.278179        val0        high\n",
       "4   B     4  0.918001  0.766376  0.069914        val0    veryhigh\n",
       "5   C     5  0.827355  0.261531  0.633110        val0    veryhigh"
      ]
     },
     "execution_count": 51,
     "metadata": {},
     "output_type": "execute_result"
    }
   ],
   "source": [
    "df"
   ]
  },
  {
   "cell_type": "markdown",
   "metadata": {},
   "source": [
    "### Pivotowanie\n",
    "\n",
    "```Python\n",
    "DataFrame.pivot(index=None, \n",
    "                columns=None, \n",
    "                values=None)\n",
    "```"
   ]
  },
  {
   "cell_type": "code",
   "execution_count": 52,
   "metadata": {},
   "outputs": [
    {
     "data": {
      "text/html": [
       "<div>\n",
       "<style scoped>\n",
       "    .dataframe tbody tr th:only-of-type {\n",
       "        vertical-align: middle;\n",
       "    }\n",
       "\n",
       "    .dataframe tbody tr th {\n",
       "        vertical-align: top;\n",
       "    }\n",
       "\n",
       "    .dataframe thead th {\n",
       "        text-align: right;\n",
       "    }\n",
       "</style>\n",
       "<table border=\"1\" class=\"dataframe\">\n",
       "  <thead>\n",
       "    <tr style=\"text-align: right;\">\n",
       "      <th>binarne_str</th>\n",
       "      <th>val0</th>\n",
       "      <th>val1</th>\n",
       "    </tr>\n",
       "    <tr>\n",
       "      <th>key</th>\n",
       "      <th></th>\n",
       "      <th></th>\n",
       "    </tr>\n",
       "  </thead>\n",
       "  <tbody>\n",
       "    <tr>\n",
       "      <th>A</th>\n",
       "      <td>0.783205</td>\n",
       "      <td>0.916874</td>\n",
       "    </tr>\n",
       "    <tr>\n",
       "      <th>B</th>\n",
       "      <td>0.918001</td>\n",
       "      <td>0.588542</td>\n",
       "    </tr>\n",
       "    <tr>\n",
       "      <th>C</th>\n",
       "      <td>0.827355</td>\n",
       "      <td>0.265048</td>\n",
       "    </tr>\n",
       "  </tbody>\n",
       "</table>\n",
       "</div>"
      ],
      "text/plain": [
       "binarne_str      val0      val1\n",
       "key                            \n",
       "A            0.783205  0.916874\n",
       "B            0.918001  0.588542\n",
       "C            0.827355  0.265048"
      ]
     },
     "execution_count": 52,
     "metadata": {},
     "output_type": "execute_result"
    }
   ],
   "source": [
    "df.pivot(index=\"key\",columns='binarne_str',values='losowe')"
   ]
  },
  {
   "cell_type": "markdown",
   "metadata": {},
   "source": [
    "Alternatywnie można użyć metody pozwalającej na podanie więcej parametrów, m.in. agregację dzięki czemu wartości dla poszczególnych kombinacji może być więcej a nie potrzeba pivotowania poprzedzać grupowaniem i agregacją.\n",
    "\n",
    "```Python\n",
    "DataFrame.pivot_table(index=None, \n",
    "                columns=None, \n",
    "                values=None,\n",
    "                aggfunc='mean',\n",
    "                fill_value=None,\n",
    "                #...\n",
    "                )\n",
    "```"
   ]
  },
  {
   "cell_type": "code",
   "execution_count": 53,
   "metadata": {},
   "outputs": [
    {
     "data": {
      "text/html": [
       "<div>\n",
       "<style scoped>\n",
       "    .dataframe tbody tr th:only-of-type {\n",
       "        vertical-align: middle;\n",
       "    }\n",
       "\n",
       "    .dataframe tbody tr th {\n",
       "        vertical-align: top;\n",
       "    }\n",
       "\n",
       "    .dataframe thead th {\n",
       "        text-align: right;\n",
       "    }\n",
       "</style>\n",
       "<table border=\"1\" class=\"dataframe\">\n",
       "  <thead>\n",
       "    <tr style=\"text-align: right;\">\n",
       "      <th>binarne_str</th>\n",
       "      <th>val0</th>\n",
       "      <th>val1</th>\n",
       "    </tr>\n",
       "    <tr>\n",
       "      <th>key</th>\n",
       "      <th></th>\n",
       "      <th></th>\n",
       "    </tr>\n",
       "  </thead>\n",
       "  <tbody>\n",
       "    <tr>\n",
       "      <th>A</th>\n",
       "      <td>0.783205</td>\n",
       "      <td>0.916874</td>\n",
       "    </tr>\n",
       "    <tr>\n",
       "      <th>B</th>\n",
       "      <td>0.918001</td>\n",
       "      <td>0.588542</td>\n",
       "    </tr>\n",
       "    <tr>\n",
       "      <th>C</th>\n",
       "      <td>0.827355</td>\n",
       "      <td>0.265048</td>\n",
       "    </tr>\n",
       "  </tbody>\n",
       "</table>\n",
       "</div>"
      ],
      "text/plain": [
       "binarne_str      val0      val1\n",
       "key                            \n",
       "A            0.783205  0.916874\n",
       "B            0.918001  0.588542\n",
       "C            0.827355  0.265048"
      ]
     },
     "execution_count": 53,
     "metadata": {},
     "output_type": "execute_result"
    }
   ],
   "source": [
    "df.pivot_table(index=\"key\",columns='binarne_str',values='losowe', aggfunc=\"min\")"
   ]
  },
  {
   "cell_type": "code",
   "execution_count": 54,
   "metadata": {},
   "outputs": [
    {
     "data": {
      "text/plain": [
       "rec.array([('A', 0.78320538, 0.91687358), ('B', 0.91800106, 0.58854191),\n",
       "           ('C', 0.82735501, 0.26504775)],\n",
       "          dtype=[('key', 'O'), ('val0', '<f8'), ('val1', '<f8')])"
      ]
     },
     "execution_count": 54,
     "metadata": {},
     "output_type": "execute_result"
    }
   ],
   "source": [
    "arrres = df.pivot(index=\"key\",columns='binarne_str',values='losowe').to_records()\n",
    "arrres"
   ]
  },
  {
   "cell_type": "code",
   "execution_count": 55,
   "metadata": {},
   "outputs": [
    {
     "data": {
      "text/html": [
       "<div>\n",
       "<style scoped>\n",
       "    .dataframe tbody tr th:only-of-type {\n",
       "        vertical-align: middle;\n",
       "    }\n",
       "\n",
       "    .dataframe tbody tr th {\n",
       "        vertical-align: top;\n",
       "    }\n",
       "\n",
       "    .dataframe thead th {\n",
       "        text-align: right;\n",
       "    }\n",
       "</style>\n",
       "<table border=\"1\" class=\"dataframe\">\n",
       "  <thead>\n",
       "    <tr style=\"text-align: right;\">\n",
       "      <th></th>\n",
       "      <th>key</th>\n",
       "      <th>val0</th>\n",
       "      <th>val1</th>\n",
       "    </tr>\n",
       "  </thead>\n",
       "  <tbody>\n",
       "    <tr>\n",
       "      <th>0</th>\n",
       "      <td>A</td>\n",
       "      <td>0.783205</td>\n",
       "      <td>0.916874</td>\n",
       "    </tr>\n",
       "    <tr>\n",
       "      <th>1</th>\n",
       "      <td>B</td>\n",
       "      <td>0.918001</td>\n",
       "      <td>0.588542</td>\n",
       "    </tr>\n",
       "    <tr>\n",
       "      <th>2</th>\n",
       "      <td>C</td>\n",
       "      <td>0.827355</td>\n",
       "      <td>0.265048</td>\n",
       "    </tr>\n",
       "  </tbody>\n",
       "</table>\n",
       "</div>"
      ],
      "text/plain": [
       "  key      val0      val1\n",
       "0   A  0.783205  0.916874\n",
       "1   B  0.918001  0.588542\n",
       "2   C  0.827355  0.265048"
      ]
     },
     "execution_count": 55,
     "metadata": {},
     "output_type": "execute_result"
    }
   ],
   "source": [
    "pd.DataFrame(arrres)"
   ]
  },
  {
   "cell_type": "code",
   "execution_count": 56,
   "metadata": {},
   "outputs": [
    {
     "data": {
      "text/html": [
       "<div>\n",
       "<style scoped>\n",
       "    .dataframe tbody tr th:only-of-type {\n",
       "        vertical-align: middle;\n",
       "    }\n",
       "\n",
       "    .dataframe tbody tr th {\n",
       "        vertical-align: top;\n",
       "    }\n",
       "\n",
       "    .dataframe thead th {\n",
       "        text-align: right;\n",
       "    }\n",
       "</style>\n",
       "<table border=\"1\" class=\"dataframe\">\n",
       "  <thead>\n",
       "    <tr style=\"text-align: right;\">\n",
       "      <th></th>\n",
       "      <th>losowe</th>\n",
       "      <th>losowe2</th>\n",
       "      <th>losowe3</th>\n",
       "    </tr>\n",
       "  </thead>\n",
       "  <tbody>\n",
       "    <tr>\n",
       "      <th>losowe</th>\n",
       "      <td>1.000000</td>\n",
       "      <td>-0.257678</td>\n",
       "      <td>-0.798480</td>\n",
       "    </tr>\n",
       "    <tr>\n",
       "      <th>losowe2</th>\n",
       "      <td>-0.257678</td>\n",
       "      <td>1.000000</td>\n",
       "      <td>0.020087</td>\n",
       "    </tr>\n",
       "    <tr>\n",
       "      <th>losowe3</th>\n",
       "      <td>-0.798480</td>\n",
       "      <td>0.020087</td>\n",
       "      <td>1.000000</td>\n",
       "    </tr>\n",
       "  </tbody>\n",
       "</table>\n",
       "</div>"
      ],
      "text/plain": [
       "           losowe   losowe2   losowe3\n",
       "losowe   1.000000 -0.257678 -0.798480\n",
       "losowe2 -0.257678  1.000000  0.020087\n",
       "losowe3 -0.798480  0.020087  1.000000"
      ]
     },
     "execution_count": 56,
     "metadata": {},
     "output_type": "execute_result"
    }
   ],
   "source": [
    "df[['losowe','losowe2','losowe3']].corr()\n"
   ]
  },
  {
   "cell_type": "code",
   "execution_count": 57,
   "metadata": {},
   "outputs": [
    {
     "data": {
      "text/plain": [
       "0    0.916874\n",
       "1    0.588542\n",
       "2    0.265048\n",
       "3    0.783205\n",
       "4    0.918001\n",
       "5    0.827355\n",
       "Name: losowe, dtype: float64"
      ]
     },
     "execution_count": 57,
     "metadata": {},
     "output_type": "execute_result"
    }
   ],
   "source": [
    "df.loc[:,'losowe']\n"
   ]
  },
  {
   "cell_type": "markdown",
   "metadata": {},
   "source": [
    "Łączenie wierszy tabel w jedną tabelę"
   ]
  },
  {
   "cell_type": "code",
   "execution_count": 58,
   "metadata": {},
   "outputs": [
    {
     "data": {
      "text/html": [
       "<div>\n",
       "<style scoped>\n",
       "    .dataframe tbody tr th:only-of-type {\n",
       "        vertical-align: middle;\n",
       "    }\n",
       "\n",
       "    .dataframe tbody tr th {\n",
       "        vertical-align: top;\n",
       "    }\n",
       "\n",
       "    .dataframe thead th {\n",
       "        text-align: right;\n",
       "    }\n",
       "</style>\n",
       "<table border=\"1\" class=\"dataframe\">\n",
       "  <thead>\n",
       "    <tr style=\"text-align: right;\">\n",
       "      <th></th>\n",
       "      <th>key</th>\n",
       "      <th>data</th>\n",
       "      <th>losowe</th>\n",
       "      <th>losowe2</th>\n",
       "      <th>losowe3</th>\n",
       "      <th>binarne_str</th>\n",
       "      <th>losoweDysk1</th>\n",
       "    </tr>\n",
       "  </thead>\n",
       "  <tbody>\n",
       "    <tr>\n",
       "      <th>0</th>\n",
       "      <td>A</td>\n",
       "      <td>0</td>\n",
       "      <td>0.916874</td>\n",
       "      <td>0.727951</td>\n",
       "      <td>0.122291</td>\n",
       "      <td>val1</td>\n",
       "      <td>veryhigh</td>\n",
       "    </tr>\n",
       "    <tr>\n",
       "      <th>1</th>\n",
       "      <td>B</td>\n",
       "      <td>1</td>\n",
       "      <td>0.588542</td>\n",
       "      <td>0.260480</td>\n",
       "      <td>0.386006</td>\n",
       "      <td>val1</td>\n",
       "      <td>high</td>\n",
       "    </tr>\n",
       "    <tr>\n",
       "      <th>2</th>\n",
       "      <td>C</td>\n",
       "      <td>2</td>\n",
       "      <td>0.265048</td>\n",
       "      <td>0.911763</td>\n",
       "      <td>0.840081</td>\n",
       "      <td>val1</td>\n",
       "      <td>below</td>\n",
       "    </tr>\n",
       "    <tr>\n",
       "      <th>3</th>\n",
       "      <td>A</td>\n",
       "      <td>3</td>\n",
       "      <td>0.783205</td>\n",
       "      <td>0.260757</td>\n",
       "      <td>0.278179</td>\n",
       "      <td>val0</td>\n",
       "      <td>high</td>\n",
       "    </tr>\n",
       "    <tr>\n",
       "      <th>4</th>\n",
       "      <td>B</td>\n",
       "      <td>4</td>\n",
       "      <td>0.918001</td>\n",
       "      <td>0.766376</td>\n",
       "      <td>0.069914</td>\n",
       "      <td>val0</td>\n",
       "      <td>veryhigh</td>\n",
       "    </tr>\n",
       "    <tr>\n",
       "      <th>5</th>\n",
       "      <td>C</td>\n",
       "      <td>5</td>\n",
       "      <td>0.827355</td>\n",
       "      <td>0.261531</td>\n",
       "      <td>0.633110</td>\n",
       "      <td>val0</td>\n",
       "      <td>veryhigh</td>\n",
       "    </tr>\n",
       "    <tr>\n",
       "      <th>6</th>\n",
       "      <td>A</td>\n",
       "      <td>0</td>\n",
       "      <td>0.916874</td>\n",
       "      <td>0.727951</td>\n",
       "      <td>0.122291</td>\n",
       "      <td>val1</td>\n",
       "      <td>veryhigh</td>\n",
       "    </tr>\n",
       "    <tr>\n",
       "      <th>7</th>\n",
       "      <td>B</td>\n",
       "      <td>1</td>\n",
       "      <td>0.588542</td>\n",
       "      <td>0.260480</td>\n",
       "      <td>0.386006</td>\n",
       "      <td>val1</td>\n",
       "      <td>high</td>\n",
       "    </tr>\n",
       "    <tr>\n",
       "      <th>8</th>\n",
       "      <td>C</td>\n",
       "      <td>2</td>\n",
       "      <td>0.265048</td>\n",
       "      <td>0.911763</td>\n",
       "      <td>0.840081</td>\n",
       "      <td>val1</td>\n",
       "      <td>below</td>\n",
       "    </tr>\n",
       "    <tr>\n",
       "      <th>9</th>\n",
       "      <td>A</td>\n",
       "      <td>3</td>\n",
       "      <td>0.783205</td>\n",
       "      <td>0.260757</td>\n",
       "      <td>0.278179</td>\n",
       "      <td>val0</td>\n",
       "      <td>high</td>\n",
       "    </tr>\n",
       "    <tr>\n",
       "      <th>10</th>\n",
       "      <td>B</td>\n",
       "      <td>4</td>\n",
       "      <td>0.918001</td>\n",
       "      <td>0.766376</td>\n",
       "      <td>0.069914</td>\n",
       "      <td>val0</td>\n",
       "      <td>veryhigh</td>\n",
       "    </tr>\n",
       "    <tr>\n",
       "      <th>11</th>\n",
       "      <td>C</td>\n",
       "      <td>5</td>\n",
       "      <td>0.827355</td>\n",
       "      <td>0.261531</td>\n",
       "      <td>0.633110</td>\n",
       "      <td>val0</td>\n",
       "      <td>veryhigh</td>\n",
       "    </tr>\n",
       "  </tbody>\n",
       "</table>\n",
       "</div>"
      ],
      "text/plain": [
       "   key  data    losowe   losowe2   losowe3 binarne_str losoweDysk1\n",
       "0    A     0  0.916874  0.727951  0.122291        val1    veryhigh\n",
       "1    B     1  0.588542  0.260480  0.386006        val1        high\n",
       "2    C     2  0.265048  0.911763  0.840081        val1       below\n",
       "3    A     3  0.783205  0.260757  0.278179        val0        high\n",
       "4    B     4  0.918001  0.766376  0.069914        val0    veryhigh\n",
       "5    C     5  0.827355  0.261531  0.633110        val0    veryhigh\n",
       "6    A     0  0.916874  0.727951  0.122291        val1    veryhigh\n",
       "7    B     1  0.588542  0.260480  0.386006        val1        high\n",
       "8    C     2  0.265048  0.911763  0.840081        val1       below\n",
       "9    A     3  0.783205  0.260757  0.278179        val0        high\n",
       "10   B     4  0.918001  0.766376  0.069914        val0    veryhigh\n",
       "11   C     5  0.827355  0.261531  0.633110        val0    veryhigh"
      ]
     },
     "execution_count": 58,
     "metadata": {},
     "output_type": "execute_result"
    }
   ],
   "source": [
    "df2 = pd.concat([df,df], ignore_index=True)\n",
    "df2"
   ]
  },
  {
   "cell_type": "markdown",
   "metadata": {},
   "source": [
    "Usuwanie duplikatów"
   ]
  },
  {
   "cell_type": "code",
   "execution_count": 59,
   "metadata": {},
   "outputs": [
    {
     "data": {
      "text/html": [
       "<div>\n",
       "<style scoped>\n",
       "    .dataframe tbody tr th:only-of-type {\n",
       "        vertical-align: middle;\n",
       "    }\n",
       "\n",
       "    .dataframe tbody tr th {\n",
       "        vertical-align: top;\n",
       "    }\n",
       "\n",
       "    .dataframe thead th {\n",
       "        text-align: right;\n",
       "    }\n",
       "</style>\n",
       "<table border=\"1\" class=\"dataframe\">\n",
       "  <thead>\n",
       "    <tr style=\"text-align: right;\">\n",
       "      <th></th>\n",
       "      <th>key</th>\n",
       "      <th>data</th>\n",
       "      <th>losowe</th>\n",
       "      <th>losowe2</th>\n",
       "      <th>losowe3</th>\n",
       "      <th>binarne_str</th>\n",
       "      <th>losoweDysk1</th>\n",
       "    </tr>\n",
       "  </thead>\n",
       "  <tbody>\n",
       "    <tr>\n",
       "      <th>0</th>\n",
       "      <td>A</td>\n",
       "      <td>0</td>\n",
       "      <td>0.916874</td>\n",
       "      <td>0.727951</td>\n",
       "      <td>0.122291</td>\n",
       "      <td>val1</td>\n",
       "      <td>veryhigh</td>\n",
       "    </tr>\n",
       "    <tr>\n",
       "      <th>1</th>\n",
       "      <td>B</td>\n",
       "      <td>1</td>\n",
       "      <td>0.588542</td>\n",
       "      <td>0.260480</td>\n",
       "      <td>0.386006</td>\n",
       "      <td>val1</td>\n",
       "      <td>high</td>\n",
       "    </tr>\n",
       "    <tr>\n",
       "      <th>2</th>\n",
       "      <td>C</td>\n",
       "      <td>2</td>\n",
       "      <td>0.265048</td>\n",
       "      <td>0.911763</td>\n",
       "      <td>0.840081</td>\n",
       "      <td>val1</td>\n",
       "      <td>below</td>\n",
       "    </tr>\n",
       "    <tr>\n",
       "      <th>3</th>\n",
       "      <td>A</td>\n",
       "      <td>3</td>\n",
       "      <td>0.783205</td>\n",
       "      <td>0.260757</td>\n",
       "      <td>0.278179</td>\n",
       "      <td>val0</td>\n",
       "      <td>high</td>\n",
       "    </tr>\n",
       "    <tr>\n",
       "      <th>4</th>\n",
       "      <td>B</td>\n",
       "      <td>4</td>\n",
       "      <td>0.918001</td>\n",
       "      <td>0.766376</td>\n",
       "      <td>0.069914</td>\n",
       "      <td>val0</td>\n",
       "      <td>veryhigh</td>\n",
       "    </tr>\n",
       "    <tr>\n",
       "      <th>5</th>\n",
       "      <td>C</td>\n",
       "      <td>5</td>\n",
       "      <td>0.827355</td>\n",
       "      <td>0.261531</td>\n",
       "      <td>0.633110</td>\n",
       "      <td>val0</td>\n",
       "      <td>veryhigh</td>\n",
       "    </tr>\n",
       "  </tbody>\n",
       "</table>\n",
       "</div>"
      ],
      "text/plain": [
       "  key  data    losowe   losowe2   losowe3 binarne_str losoweDysk1\n",
       "0   A     0  0.916874  0.727951  0.122291        val1    veryhigh\n",
       "1   B     1  0.588542  0.260480  0.386006        val1        high\n",
       "2   C     2  0.265048  0.911763  0.840081        val1       below\n",
       "3   A     3  0.783205  0.260757  0.278179        val0        high\n",
       "4   B     4  0.918001  0.766376  0.069914        val0    veryhigh\n",
       "5   C     5  0.827355  0.261531  0.633110        val0    veryhigh"
      ]
     },
     "execution_count": 59,
     "metadata": {},
     "output_type": "execute_result"
    }
   ],
   "source": [
    "\n",
    "df2.drop_duplicates(subset=[\"key\", \"binarne_str\"])"
   ]
  },
  {
   "cell_type": "markdown",
   "metadata": {},
   "source": [
    "Bibliografia:\n",
    "https://pandas.pydata.org/docs/index.html\n",
    "\n"
   ]
  },
  {
   "cell_type": "markdown",
   "metadata": {},
   "source": [
    "## Operacje na ciągach znaków"
   ]
  },
  {
   "cell_type": "code",
   "execution_count": 60,
   "metadata": {},
   "outputs": [
    {
     "data": {
      "text/html": [
       "<div>\n",
       "<style scoped>\n",
       "    .dataframe tbody tr th:only-of-type {\n",
       "        vertical-align: middle;\n",
       "    }\n",
       "\n",
       "    .dataframe tbody tr th {\n",
       "        vertical-align: top;\n",
       "    }\n",
       "\n",
       "    .dataframe thead th {\n",
       "        text-align: right;\n",
       "    }\n",
       "</style>\n",
       "<table border=\"1\" class=\"dataframe\">\n",
       "  <thead>\n",
       "    <tr style=\"text-align: right;\">\n",
       "      <th></th>\n",
       "      <th>imiona</th>\n",
       "      <th>wagon</th>\n",
       "      <th>miejsce</th>\n",
       "      <th>dodatki</th>\n",
       "      <th>bagaz</th>\n",
       "    </tr>\n",
       "  </thead>\n",
       "  <tbody>\n",
       "    <tr>\n",
       "      <th>0</th>\n",
       "      <td>Pan Andrzej Macierzowy</td>\n",
       "      <td>A</td>\n",
       "      <td>34</td>\n",
       "      <td>wars</td>\n",
       "      <td>maly</td>\n",
       "    </tr>\n",
       "    <tr>\n",
       "      <th>1</th>\n",
       "      <td>Pani Gertruda Losowa</td>\n",
       "      <td>B</td>\n",
       "      <td>12</td>\n",
       "      <td>kawka</td>\n",
       "      <td>Duzy</td>\n",
       "    </tr>\n",
       "    <tr>\n",
       "      <th>2</th>\n",
       "      <td>Pani Antonina Wektorowa</td>\n",
       "      <td>C</td>\n",
       "      <td>23</td>\n",
       "      <td>NaN</td>\n",
       "      <td>maly</td>\n",
       "    </tr>\n",
       "    <tr>\n",
       "      <th>3</th>\n",
       "      <td>Pan Alojzy Kod</td>\n",
       "      <td>A</td>\n",
       "      <td>8</td>\n",
       "      <td>kawka</td>\n",
       "      <td>duzy</td>\n",
       "    </tr>\n",
       "    <tr>\n",
       "      <th>4</th>\n",
       "      <td>Pan Antoni Data</td>\n",
       "      <td>B</td>\n",
       "      <td>21</td>\n",
       "      <td>SNAK</td>\n",
       "      <td>brak</td>\n",
       "    </tr>\n",
       "    <tr>\n",
       "      <th>5</th>\n",
       "      <td>Pani Anastazja Frejm</td>\n",
       "      <td>C</td>\n",
       "      <td>23</td>\n",
       "      <td>wars</td>\n",
       "      <td>duzy</td>\n",
       "    </tr>\n",
       "  </tbody>\n",
       "</table>\n",
       "</div>"
      ],
      "text/plain": [
       "                    imiona wagon  miejsce dodatki bagaz\n",
       "0   Pan Andrzej Macierzowy     A       34    wars  maly\n",
       "1     Pani Gertruda Losowa    B        12   kawka  Duzy\n",
       "2  Pani Antonina Wektorowa     C       23     NaN  maly\n",
       "3           Pan Alojzy Kod     A        8   kawka  duzy\n",
       "4          Pan Antoni Data     B       21    SNAK  brak\n",
       "5     Pani Anastazja Frejm   C         23    wars  duzy"
      ]
     },
     "execution_count": 60,
     "metadata": {},
     "output_type": "execute_result"
    }
   ],
   "source": [
    "df = pd.DataFrame(\n",
    "    {\n",
    "        'imiona': [\"Pan Andrzej Macierzowy\", \"Pani Gertruda Losowa\", \"Pani Antonina Wektorowa\", \"Pan Alojzy Kod\", \"Pan Antoni Data\", \"Pani Anastazja Frejm\"],\n",
    "        'wagon': [' A', ' B ', '  C', ' A', '  B', 'C  '],\n",
    "        'miejsce': [34,12,23,8,21,23],\n",
    "        'dodatki': [\"wars\",\"kawka\",np.NaN,\"kawka\",\"SNAK\",\"wars\"],\n",
    "        'bagaz': [\"maly\",\"Duzy\",\"maly\",\"duzy\",\"brak\",\"duzy\"]\n",
    "    },\n",
    "    columns=['imiona', 'wagon','miejsce','dodatki','bagaz']\n",
    ")\n",
    "df"
   ]
  },
  {
   "cell_type": "code",
   "execution_count": 61,
   "metadata": {},
   "outputs": [
    {
     "data": {
      "text/plain": [
       "Index(['imiona', 'wagon', 'miejsce', 'dodatki', 'bagaz'], dtype='object')"
      ]
     },
     "execution_count": 61,
     "metadata": {},
     "output_type": "execute_result"
    }
   ],
   "source": [
    "df.columns"
   ]
  },
  {
   "cell_type": "code",
   "execution_count": 62,
   "metadata": {},
   "outputs": [
    {
     "data": {
      "text/plain": [
       "Index(['IMIONA', 'WAGON', 'MIEJSCE', 'DODATKI', 'BAGAZ'], dtype='object')"
      ]
     },
     "execution_count": 62,
     "metadata": {},
     "output_type": "execute_result"
    }
   ],
   "source": [
    "df.columns.str.upper()"
   ]
  },
  {
   "cell_type": "code",
   "execution_count": 63,
   "metadata": {},
   "outputs": [],
   "source": [
    "df.columns = df.columns.str.upper()"
   ]
  },
  {
   "cell_type": "code",
   "execution_count": 64,
   "metadata": {},
   "outputs": [
    {
     "data": {
      "text/html": [
       "<div>\n",
       "<style scoped>\n",
       "    .dataframe tbody tr th:only-of-type {\n",
       "        vertical-align: middle;\n",
       "    }\n",
       "\n",
       "    .dataframe tbody tr th {\n",
       "        vertical-align: top;\n",
       "    }\n",
       "\n",
       "    .dataframe thead th {\n",
       "        text-align: right;\n",
       "    }\n",
       "</style>\n",
       "<table border=\"1\" class=\"dataframe\">\n",
       "  <thead>\n",
       "    <tr style=\"text-align: right;\">\n",
       "      <th></th>\n",
       "      <th>IMIONA</th>\n",
       "      <th>WAGON</th>\n",
       "      <th>MIEJSCE</th>\n",
       "      <th>DODATKI</th>\n",
       "      <th>BAGAZ</th>\n",
       "    </tr>\n",
       "  </thead>\n",
       "  <tbody>\n",
       "    <tr>\n",
       "      <th>0</th>\n",
       "      <td>Pan Andrzej Macierzowy</td>\n",
       "      <td>A</td>\n",
       "      <td>34</td>\n",
       "      <td>wars</td>\n",
       "      <td>maly</td>\n",
       "    </tr>\n",
       "    <tr>\n",
       "      <th>1</th>\n",
       "      <td>Pani Gertruda Losowa</td>\n",
       "      <td>B</td>\n",
       "      <td>12</td>\n",
       "      <td>kawka</td>\n",
       "      <td>Duzy</td>\n",
       "    </tr>\n",
       "    <tr>\n",
       "      <th>2</th>\n",
       "      <td>Pani Antonina Wektorowa</td>\n",
       "      <td>C</td>\n",
       "      <td>23</td>\n",
       "      <td>NaN</td>\n",
       "      <td>maly</td>\n",
       "    </tr>\n",
       "    <tr>\n",
       "      <th>3</th>\n",
       "      <td>Pan Alojzy Kod</td>\n",
       "      <td>A</td>\n",
       "      <td>8</td>\n",
       "      <td>kawka</td>\n",
       "      <td>duzy</td>\n",
       "    </tr>\n",
       "    <tr>\n",
       "      <th>4</th>\n",
       "      <td>Pan Antoni Data</td>\n",
       "      <td>B</td>\n",
       "      <td>21</td>\n",
       "      <td>SNAK</td>\n",
       "      <td>brak</td>\n",
       "    </tr>\n",
       "    <tr>\n",
       "      <th>5</th>\n",
       "      <td>Pani Anastazja Frejm</td>\n",
       "      <td>C</td>\n",
       "      <td>23</td>\n",
       "      <td>wars</td>\n",
       "      <td>duzy</td>\n",
       "    </tr>\n",
       "  </tbody>\n",
       "</table>\n",
       "</div>"
      ],
      "text/plain": [
       "                    IMIONA WAGON  MIEJSCE DODATKI BAGAZ\n",
       "0   Pan Andrzej Macierzowy     A       34    wars  maly\n",
       "1     Pani Gertruda Losowa    B        12   kawka  Duzy\n",
       "2  Pani Antonina Wektorowa     C       23     NaN  maly\n",
       "3           Pan Alojzy Kod     A        8   kawka  duzy\n",
       "4          Pan Antoni Data     B       21    SNAK  brak\n",
       "5     Pani Anastazja Frejm   C         23    wars  duzy"
      ]
     },
     "execution_count": 64,
     "metadata": {},
     "output_type": "execute_result"
    }
   ],
   "source": [
    "df"
   ]
  },
  {
   "cell_type": "code",
   "execution_count": 65,
   "metadata": {},
   "outputs": [
    {
     "data": {
      "text/plain": [
       "0    False\n",
       "1    False\n",
       "2    False\n",
       "3    False\n",
       "4    False\n",
       "5    False\n",
       "Name: WAGON, dtype: bool"
      ]
     },
     "execution_count": 65,
     "metadata": {},
     "output_type": "execute_result"
    }
   ],
   "source": [
    "df.WAGON == \"B\""
   ]
  },
  {
   "cell_type": "code",
   "execution_count": 66,
   "metadata": {},
   "outputs": [
    {
     "data": {
      "text/plain": [
       "0      A\n",
       "1     B \n",
       "2      C\n",
       "3      A\n",
       "4      B\n",
       "5    C  \n",
       "Name: WAGON, dtype: object"
      ]
     },
     "execution_count": 66,
     "metadata": {},
     "output_type": "execute_result"
    }
   ],
   "source": [
    "df.WAGON"
   ]
  },
  {
   "cell_type": "code",
   "execution_count": 67,
   "metadata": {},
   "outputs": [
    {
     "data": {
      "text/plain": [
       "0     \" A\"\n",
       "1    \" B \"\n",
       "2    \"  C\"\n",
       "3     \" A\"\n",
       "4    \"  B\"\n",
       "5    \"C  \"\n",
       "Name: WAGON, dtype: object"
      ]
     },
     "execution_count": 67,
     "metadata": {},
     "output_type": "execute_result"
    }
   ],
   "source": [
    "\"\\\"\" + df.WAGON + \"\\\"\""
   ]
  },
  {
   "cell_type": "code",
   "execution_count": 68,
   "metadata": {},
   "outputs": [
    {
     "data": {
      "text/plain": [
       "0    \"A\"\n",
       "1    \"B\"\n",
       "2    \"C\"\n",
       "3    \"A\"\n",
       "4    \"B\"\n",
       "5    \"C\"\n",
       "Name: WAGON, dtype: object"
      ]
     },
     "execution_count": 68,
     "metadata": {},
     "output_type": "execute_result"
    }
   ],
   "source": [
    "\"\\\"\" + df.WAGON.str.strip() + \"\\\"\""
   ]
  },
  {
   "cell_type": "code",
   "execution_count": 69,
   "metadata": {},
   "outputs": [],
   "source": [
    "df.WAGON = df.WAGON.str.strip()"
   ]
  },
  {
   "cell_type": "code",
   "execution_count": 70,
   "metadata": {},
   "outputs": [
    {
     "data": {
      "text/html": [
       "<div>\n",
       "<style scoped>\n",
       "    .dataframe tbody tr th:only-of-type {\n",
       "        vertical-align: middle;\n",
       "    }\n",
       "\n",
       "    .dataframe tbody tr th {\n",
       "        vertical-align: top;\n",
       "    }\n",
       "\n",
       "    .dataframe thead th {\n",
       "        text-align: right;\n",
       "    }\n",
       "</style>\n",
       "<table border=\"1\" class=\"dataframe\">\n",
       "  <thead>\n",
       "    <tr style=\"text-align: right;\">\n",
       "      <th></th>\n",
       "      <th>IMIONA</th>\n",
       "      <th>WAGON</th>\n",
       "      <th>MIEJSCE</th>\n",
       "      <th>DODATKI</th>\n",
       "      <th>BAGAZ</th>\n",
       "    </tr>\n",
       "  </thead>\n",
       "  <tbody>\n",
       "    <tr>\n",
       "      <th>0</th>\n",
       "      <td>Pan Andrzej Macierzowy</td>\n",
       "      <td>A</td>\n",
       "      <td>34</td>\n",
       "      <td>wars</td>\n",
       "      <td>maly</td>\n",
       "    </tr>\n",
       "    <tr>\n",
       "      <th>1</th>\n",
       "      <td>Pani Gertruda Losowa</td>\n",
       "      <td>B</td>\n",
       "      <td>12</td>\n",
       "      <td>kawka</td>\n",
       "      <td>Duzy</td>\n",
       "    </tr>\n",
       "    <tr>\n",
       "      <th>2</th>\n",
       "      <td>Pani Antonina Wektorowa</td>\n",
       "      <td>C</td>\n",
       "      <td>23</td>\n",
       "      <td>NaN</td>\n",
       "      <td>maly</td>\n",
       "    </tr>\n",
       "    <tr>\n",
       "      <th>3</th>\n",
       "      <td>Pan Alojzy Kod</td>\n",
       "      <td>A</td>\n",
       "      <td>8</td>\n",
       "      <td>kawka</td>\n",
       "      <td>duzy</td>\n",
       "    </tr>\n",
       "    <tr>\n",
       "      <th>4</th>\n",
       "      <td>Pan Antoni Data</td>\n",
       "      <td>B</td>\n",
       "      <td>21</td>\n",
       "      <td>SNAK</td>\n",
       "      <td>brak</td>\n",
       "    </tr>\n",
       "    <tr>\n",
       "      <th>5</th>\n",
       "      <td>Pani Anastazja Frejm</td>\n",
       "      <td>C</td>\n",
       "      <td>23</td>\n",
       "      <td>wars</td>\n",
       "      <td>duzy</td>\n",
       "    </tr>\n",
       "  </tbody>\n",
       "</table>\n",
       "</div>"
      ],
      "text/plain": [
       "                    IMIONA WAGON  MIEJSCE DODATKI BAGAZ\n",
       "0   Pan Andrzej Macierzowy     A       34    wars  maly\n",
       "1     Pani Gertruda Losowa     B       12   kawka  Duzy\n",
       "2  Pani Antonina Wektorowa     C       23     NaN  maly\n",
       "3           Pan Alojzy Kod     A        8   kawka  duzy\n",
       "4          Pan Antoni Data     B       21    SNAK  brak\n",
       "5     Pani Anastazja Frejm     C       23    wars  duzy"
      ]
     },
     "execution_count": 70,
     "metadata": {},
     "output_type": "execute_result"
    }
   ],
   "source": [
    "df"
   ]
  },
  {
   "cell_type": "code",
   "execution_count": 71,
   "metadata": {},
   "outputs": [
    {
     "data": {
      "text/plain": [
       "0     [Pan, Andrzej, Macierzowy]\n",
       "1       [Pani, Gertruda, Losowa]\n",
       "2    [Pani, Antonina, Wektorowa]\n",
       "3             [Pan, Alojzy, Kod]\n",
       "4            [Pan, Antoni, Data]\n",
       "5       [Pani, Anastazja, Frejm]\n",
       "Name: IMIONA, dtype: object"
      ]
     },
     "execution_count": 71,
     "metadata": {},
     "output_type": "execute_result"
    }
   ],
   "source": [
    "df.IMIONA.str.split(\" \")"
   ]
  },
  {
   "cell_type": "code",
   "execution_count": 72,
   "metadata": {},
   "outputs": [
    {
     "data": {
      "text/plain": [
       "['Pan', 'Andrzej', 'Macierzowy']"
      ]
     },
     "execution_count": 72,
     "metadata": {},
     "output_type": "execute_result"
    }
   ],
   "source": [
    "df.IMIONA.str.split(\" \")[0]"
   ]
  },
  {
   "cell_type": "code",
   "execution_count": 73,
   "metadata": {},
   "outputs": [
    {
     "data": {
      "text/plain": [
       "0     Pan\n",
       "1    Pani\n",
       "2    Pani\n",
       "3     Pan\n",
       "4     Pan\n",
       "5    Pani\n",
       "Name: IMIONA, dtype: object"
      ]
     },
     "execution_count": 73,
     "metadata": {},
     "output_type": "execute_result"
    }
   ],
   "source": [
    "df.IMIONA.str.split(\" \").str[0]"
   ]
  },
  {
   "cell_type": "code",
   "execution_count": 74,
   "metadata": {},
   "outputs": [],
   "source": [
    "df[\"TYTUL\"] = df.IMIONA.str.split(\" \").str[0]\n",
    "df[\"IMIE\"] = df.IMIONA.str.split(\" \").str[1]\n",
    "df[\"NAZWISKO\"] = df.IMIONA.str.split(\" \").str[-1]"
   ]
  },
  {
   "cell_type": "code",
   "execution_count": 75,
   "metadata": {},
   "outputs": [
    {
     "data": {
      "text/html": [
       "<div>\n",
       "<style scoped>\n",
       "    .dataframe tbody tr th:only-of-type {\n",
       "        vertical-align: middle;\n",
       "    }\n",
       "\n",
       "    .dataframe tbody tr th {\n",
       "        vertical-align: top;\n",
       "    }\n",
       "\n",
       "    .dataframe thead th {\n",
       "        text-align: right;\n",
       "    }\n",
       "</style>\n",
       "<table border=\"1\" class=\"dataframe\">\n",
       "  <thead>\n",
       "    <tr style=\"text-align: right;\">\n",
       "      <th></th>\n",
       "      <th>IMIONA</th>\n",
       "      <th>WAGON</th>\n",
       "      <th>MIEJSCE</th>\n",
       "      <th>DODATKI</th>\n",
       "      <th>BAGAZ</th>\n",
       "      <th>TYTUL</th>\n",
       "      <th>IMIE</th>\n",
       "      <th>NAZWISKO</th>\n",
       "    </tr>\n",
       "  </thead>\n",
       "  <tbody>\n",
       "    <tr>\n",
       "      <th>0</th>\n",
       "      <td>Pan Andrzej Macierzowy</td>\n",
       "      <td>A</td>\n",
       "      <td>34</td>\n",
       "      <td>wars</td>\n",
       "      <td>maly</td>\n",
       "      <td>Pan</td>\n",
       "      <td>Andrzej</td>\n",
       "      <td>Macierzowy</td>\n",
       "    </tr>\n",
       "    <tr>\n",
       "      <th>1</th>\n",
       "      <td>Pani Gertruda Losowa</td>\n",
       "      <td>B</td>\n",
       "      <td>12</td>\n",
       "      <td>kawka</td>\n",
       "      <td>Duzy</td>\n",
       "      <td>Pani</td>\n",
       "      <td>Gertruda</td>\n",
       "      <td>Losowa</td>\n",
       "    </tr>\n",
       "    <tr>\n",
       "      <th>2</th>\n",
       "      <td>Pani Antonina Wektorowa</td>\n",
       "      <td>C</td>\n",
       "      <td>23</td>\n",
       "      <td>NaN</td>\n",
       "      <td>maly</td>\n",
       "      <td>Pani</td>\n",
       "      <td>Antonina</td>\n",
       "      <td>Wektorowa</td>\n",
       "    </tr>\n",
       "    <tr>\n",
       "      <th>3</th>\n",
       "      <td>Pan Alojzy Kod</td>\n",
       "      <td>A</td>\n",
       "      <td>8</td>\n",
       "      <td>kawka</td>\n",
       "      <td>duzy</td>\n",
       "      <td>Pan</td>\n",
       "      <td>Alojzy</td>\n",
       "      <td>Kod</td>\n",
       "    </tr>\n",
       "    <tr>\n",
       "      <th>4</th>\n",
       "      <td>Pan Antoni Data</td>\n",
       "      <td>B</td>\n",
       "      <td>21</td>\n",
       "      <td>SNAK</td>\n",
       "      <td>brak</td>\n",
       "      <td>Pan</td>\n",
       "      <td>Antoni</td>\n",
       "      <td>Data</td>\n",
       "    </tr>\n",
       "    <tr>\n",
       "      <th>5</th>\n",
       "      <td>Pani Anastazja Frejm</td>\n",
       "      <td>C</td>\n",
       "      <td>23</td>\n",
       "      <td>wars</td>\n",
       "      <td>duzy</td>\n",
       "      <td>Pani</td>\n",
       "      <td>Anastazja</td>\n",
       "      <td>Frejm</td>\n",
       "    </tr>\n",
       "  </tbody>\n",
       "</table>\n",
       "</div>"
      ],
      "text/plain": [
       "                    IMIONA WAGON  MIEJSCE DODATKI BAGAZ TYTUL       IMIE  \\\n",
       "0   Pan Andrzej Macierzowy     A       34    wars  maly   Pan    Andrzej   \n",
       "1     Pani Gertruda Losowa     B       12   kawka  Duzy  Pani   Gertruda   \n",
       "2  Pani Antonina Wektorowa     C       23     NaN  maly  Pani   Antonina   \n",
       "3           Pan Alojzy Kod     A        8   kawka  duzy   Pan     Alojzy   \n",
       "4          Pan Antoni Data     B       21    SNAK  brak   Pan     Antoni   \n",
       "5     Pani Anastazja Frejm     C       23    wars  duzy  Pani  Anastazja   \n",
       "\n",
       "     NAZWISKO  \n",
       "0  Macierzowy  \n",
       "1      Losowa  \n",
       "2   Wektorowa  \n",
       "3         Kod  \n",
       "4        Data  \n",
       "5       Frejm  "
      ]
     },
     "execution_count": 75,
     "metadata": {},
     "output_type": "execute_result"
    }
   ],
   "source": [
    "df"
   ]
  },
  {
   "cell_type": "code",
   "execution_count": 76,
   "metadata": {},
   "outputs": [
    {
     "data": {
      "text/html": [
       "<div>\n",
       "<style scoped>\n",
       "    .dataframe tbody tr th:only-of-type {\n",
       "        vertical-align: middle;\n",
       "    }\n",
       "\n",
       "    .dataframe tbody tr th {\n",
       "        vertical-align: top;\n",
       "    }\n",
       "\n",
       "    .dataframe thead th {\n",
       "        text-align: right;\n",
       "    }\n",
       "</style>\n",
       "<table border=\"1\" class=\"dataframe\">\n",
       "  <thead>\n",
       "    <tr style=\"text-align: right;\">\n",
       "      <th></th>\n",
       "      <th>A</th>\n",
       "      <th>B</th>\n",
       "      <th>CC</th>\n",
       "    </tr>\n",
       "  </thead>\n",
       "  <tbody>\n",
       "    <tr>\n",
       "      <th>0</th>\n",
       "      <td>Pan</td>\n",
       "      <td>Andrzej</td>\n",
       "      <td>Macierzowy</td>\n",
       "    </tr>\n",
       "    <tr>\n",
       "      <th>1</th>\n",
       "      <td>Pani</td>\n",
       "      <td>Gertruda</td>\n",
       "      <td>Losowa</td>\n",
       "    </tr>\n",
       "    <tr>\n",
       "      <th>2</th>\n",
       "      <td>Pani</td>\n",
       "      <td>Antonina</td>\n",
       "      <td>Wektorowa</td>\n",
       "    </tr>\n",
       "    <tr>\n",
       "      <th>3</th>\n",
       "      <td>Pan</td>\n",
       "      <td>Alojzy</td>\n",
       "      <td>Kod</td>\n",
       "    </tr>\n",
       "    <tr>\n",
       "      <th>4</th>\n",
       "      <td>Pan</td>\n",
       "      <td>Antoni</td>\n",
       "      <td>Data</td>\n",
       "    </tr>\n",
       "    <tr>\n",
       "      <th>5</th>\n",
       "      <td>Pani</td>\n",
       "      <td>Anastazja</td>\n",
       "      <td>Frejm</td>\n",
       "    </tr>\n",
       "  </tbody>\n",
       "</table>\n",
       "</div>"
      ],
      "text/plain": [
       "      A          B          CC\n",
       "0   Pan    Andrzej  Macierzowy\n",
       "1  Pani   Gertruda      Losowa\n",
       "2  Pani   Antonina   Wektorowa\n",
       "3   Pan     Alojzy         Kod\n",
       "4   Pan     Antoni        Data\n",
       "5  Pani  Anastazja       Frejm"
      ]
     },
     "execution_count": 76,
     "metadata": {},
     "output_type": "execute_result"
    }
   ],
   "source": [
    "ddf = df.IMIONA.str.split(\" \", expand=True) #od razu robi ramkę\n",
    "ddf.columns = [\"A\",\"B\", \"CC\"]\n",
    "ddf"
   ]
  },
  {
   "cell_type": "code",
   "execution_count": 77,
   "metadata": {},
   "outputs": [
    {
     "data": {
      "text/plain": [
       "0    3\n",
       "1    4\n",
       "2    4\n",
       "3    3\n",
       "4    3\n",
       "5    4\n",
       "Name: TYTUL, dtype: int64"
      ]
     },
     "execution_count": 77,
     "metadata": {},
     "output_type": "execute_result"
    }
   ],
   "source": [
    "df.TYTUL.str.len()"
   ]
  },
  {
   "cell_type": "code",
   "execution_count": 78,
   "metadata": {},
   "outputs": [
    {
     "data": {
      "text/plain": [
       "0      Pan\n",
       "1    Panią\n",
       "2    Panią\n",
       "3      Pan\n",
       "4      Pan\n",
       "5    Panią\n",
       "Name: TYTUL, dtype: object"
      ]
     },
     "execution_count": 78,
     "metadata": {},
     "output_type": "execute_result"
    }
   ],
   "source": [
    "df.TYTUL.replace(\"Pani\", \"Panią\")"
   ]
  },
  {
   "cell_type": "code",
   "execution_count": 79,
   "metadata": {},
   "outputs": [],
   "source": [
    "df[\"ODMIANA\"] = df.TYTUL.replace(\"Pani\", \"Panią\") # dopasowuje regexp z pierwszego argumentu"
   ]
  },
  {
   "cell_type": "code",
   "execution_count": 80,
   "metadata": {},
   "outputs": [
    {
     "data": {
      "text/plain": [
       "0     True\n",
       "1    False\n",
       "2    False\n",
       "3     True\n",
       "4     True\n",
       "5    False\n",
       "Name: ODMIANA, dtype: bool"
      ]
     },
     "execution_count": 80,
     "metadata": {},
     "output_type": "execute_result"
    }
   ],
   "source": [
    "df.ODMIANA==\"Pan\""
   ]
  },
  {
   "cell_type": "code",
   "execution_count": 81,
   "metadata": {},
   "outputs": [
    {
     "data": {
      "text/html": [
       "<div>\n",
       "<style scoped>\n",
       "    .dataframe tbody tr th:only-of-type {\n",
       "        vertical-align: middle;\n",
       "    }\n",
       "\n",
       "    .dataframe tbody tr th {\n",
       "        vertical-align: top;\n",
       "    }\n",
       "\n",
       "    .dataframe thead th {\n",
       "        text-align: right;\n",
       "    }\n",
       "</style>\n",
       "<table border=\"1\" class=\"dataframe\">\n",
       "  <thead>\n",
       "    <tr style=\"text-align: right;\">\n",
       "      <th></th>\n",
       "      <th>IMIONA</th>\n",
       "      <th>WAGON</th>\n",
       "      <th>MIEJSCE</th>\n",
       "      <th>DODATKI</th>\n",
       "      <th>BAGAZ</th>\n",
       "      <th>TYTUL</th>\n",
       "      <th>IMIE</th>\n",
       "      <th>NAZWISKO</th>\n",
       "      <th>ODMIANA</th>\n",
       "    </tr>\n",
       "  </thead>\n",
       "  <tbody>\n",
       "    <tr>\n",
       "      <th>0</th>\n",
       "      <td>Pan Andrzej Macierzowy</td>\n",
       "      <td>A</td>\n",
       "      <td>34</td>\n",
       "      <td>wars</td>\n",
       "      <td>maly</td>\n",
       "      <td>Pan</td>\n",
       "      <td>Andrzej</td>\n",
       "      <td>Macierzowy</td>\n",
       "      <td>Panem</td>\n",
       "    </tr>\n",
       "    <tr>\n",
       "      <th>1</th>\n",
       "      <td>Pani Gertruda Losowa</td>\n",
       "      <td>B</td>\n",
       "      <td>12</td>\n",
       "      <td>kawka</td>\n",
       "      <td>Duzy</td>\n",
       "      <td>Pani</td>\n",
       "      <td>Gertruda</td>\n",
       "      <td>Losowa</td>\n",
       "      <td>Panią</td>\n",
       "    </tr>\n",
       "    <tr>\n",
       "      <th>2</th>\n",
       "      <td>Pani Antonina Wektorowa</td>\n",
       "      <td>C</td>\n",
       "      <td>23</td>\n",
       "      <td>NaN</td>\n",
       "      <td>maly</td>\n",
       "      <td>Pani</td>\n",
       "      <td>Antonina</td>\n",
       "      <td>Wektorowa</td>\n",
       "      <td>Panią</td>\n",
       "    </tr>\n",
       "    <tr>\n",
       "      <th>3</th>\n",
       "      <td>Pan Alojzy Kod</td>\n",
       "      <td>A</td>\n",
       "      <td>8</td>\n",
       "      <td>kawka</td>\n",
       "      <td>duzy</td>\n",
       "      <td>Pan</td>\n",
       "      <td>Alojzy</td>\n",
       "      <td>Kod</td>\n",
       "      <td>Panem</td>\n",
       "    </tr>\n",
       "    <tr>\n",
       "      <th>4</th>\n",
       "      <td>Pan Antoni Data</td>\n",
       "      <td>B</td>\n",
       "      <td>21</td>\n",
       "      <td>SNAK</td>\n",
       "      <td>brak</td>\n",
       "      <td>Pan</td>\n",
       "      <td>Antoni</td>\n",
       "      <td>Data</td>\n",
       "      <td>Panem</td>\n",
       "    </tr>\n",
       "    <tr>\n",
       "      <th>5</th>\n",
       "      <td>Pani Anastazja Frejm</td>\n",
       "      <td>C</td>\n",
       "      <td>23</td>\n",
       "      <td>wars</td>\n",
       "      <td>duzy</td>\n",
       "      <td>Pani</td>\n",
       "      <td>Anastazja</td>\n",
       "      <td>Frejm</td>\n",
       "      <td>Panią</td>\n",
       "    </tr>\n",
       "  </tbody>\n",
       "</table>\n",
       "</div>"
      ],
      "text/plain": [
       "                    IMIONA WAGON  MIEJSCE DODATKI BAGAZ TYTUL       IMIE  \\\n",
       "0   Pan Andrzej Macierzowy     A       34    wars  maly   Pan    Andrzej   \n",
       "1     Pani Gertruda Losowa     B       12   kawka  Duzy  Pani   Gertruda   \n",
       "2  Pani Antonina Wektorowa     C       23     NaN  maly  Pani   Antonina   \n",
       "3           Pan Alojzy Kod     A        8   kawka  duzy   Pan     Alojzy   \n",
       "4          Pan Antoni Data     B       21    SNAK  brak   Pan     Antoni   \n",
       "5     Pani Anastazja Frejm     C       23    wars  duzy  Pani  Anastazja   \n",
       "\n",
       "     NAZWISKO ODMIANA  \n",
       "0  Macierzowy   Panem  \n",
       "1      Losowa   Panią  \n",
       "2   Wektorowa   Panią  \n",
       "3         Kod   Panem  \n",
       "4        Data   Panem  \n",
       "5       Frejm   Panią  "
      ]
     },
     "execution_count": 81,
     "metadata": {},
     "output_type": "execute_result"
    }
   ],
   "source": [
    "df.loc[df.ODMIANA==\"Pan\",\"ODMIANA\"] = \"Panem\"\n",
    "df"
   ]
  },
  {
   "cell_type": "code",
   "execution_count": 82,
   "metadata": {},
   "outputs": [
    {
     "data": {
      "text/plain": [
       "'A, B, C, A, B, C'"
      ]
     },
     "execution_count": 82,
     "metadata": {},
     "output_type": "execute_result"
    }
   ],
   "source": [
    "df.WAGON.str.cat(sep=\", \") # łączenie ciągów znaków kolumny"
   ]
  },
  {
   "cell_type": "code",
   "execution_count": 83,
   "metadata": {},
   "outputs": [
    {
     "data": {
      "text/plain": [
       "0    A34\n",
       "1    B12\n",
       "2    C23\n",
       "3     A8\n",
       "4    B21\n",
       "5    C23\n",
       "Name: WAGON, dtype: object"
      ]
     },
     "execution_count": 83,
     "metadata": {},
     "output_type": "execute_result"
    }
   ],
   "source": [
    "df.WAGON.str.cat(df.MIEJSCE.astype(\"str\")) # łączenie łańcuchów w różnych kolumnach"
   ]
  },
  {
   "cell_type": "code",
   "execution_count": 84,
   "metadata": {},
   "outputs": [],
   "source": [
    "df[\"SIEDZENIE\"] = df.WAGON.str.cat(df.MIEJSCE.astype(\"str\"))"
   ]
  },
  {
   "cell_type": "code",
   "execution_count": 85,
   "metadata": {},
   "outputs": [
    {
     "data": {
      "text/html": [
       "<div>\n",
       "<style scoped>\n",
       "    .dataframe tbody tr th:only-of-type {\n",
       "        vertical-align: middle;\n",
       "    }\n",
       "\n",
       "    .dataframe tbody tr th {\n",
       "        vertical-align: top;\n",
       "    }\n",
       "\n",
       "    .dataframe thead th {\n",
       "        text-align: right;\n",
       "    }\n",
       "</style>\n",
       "<table border=\"1\" class=\"dataframe\">\n",
       "  <thead>\n",
       "    <tr style=\"text-align: right;\">\n",
       "      <th></th>\n",
       "      <th>IMIONA</th>\n",
       "      <th>WAGON</th>\n",
       "      <th>MIEJSCE</th>\n",
       "      <th>DODATKI</th>\n",
       "      <th>BAGAZ</th>\n",
       "      <th>TYTUL</th>\n",
       "      <th>IMIE</th>\n",
       "      <th>NAZWISKO</th>\n",
       "      <th>ODMIANA</th>\n",
       "      <th>SIEDZENIE</th>\n",
       "    </tr>\n",
       "  </thead>\n",
       "  <tbody>\n",
       "    <tr>\n",
       "      <th>0</th>\n",
       "      <td>Pan Andrzej Macierzowy</td>\n",
       "      <td>A</td>\n",
       "      <td>34</td>\n",
       "      <td>wars</td>\n",
       "      <td>maly</td>\n",
       "      <td>Pan</td>\n",
       "      <td>Andrzej</td>\n",
       "      <td>Macierzowy</td>\n",
       "      <td>Panem</td>\n",
       "      <td>A34</td>\n",
       "    </tr>\n",
       "    <tr>\n",
       "      <th>1</th>\n",
       "      <td>Pani Gertruda Losowa</td>\n",
       "      <td>B</td>\n",
       "      <td>12</td>\n",
       "      <td>kawka</td>\n",
       "      <td>Duzy</td>\n",
       "      <td>Pani</td>\n",
       "      <td>Gertruda</td>\n",
       "      <td>Losowa</td>\n",
       "      <td>Panią</td>\n",
       "      <td>B12</td>\n",
       "    </tr>\n",
       "    <tr>\n",
       "      <th>2</th>\n",
       "      <td>Pani Antonina Wektorowa</td>\n",
       "      <td>C</td>\n",
       "      <td>23</td>\n",
       "      <td>NaN</td>\n",
       "      <td>maly</td>\n",
       "      <td>Pani</td>\n",
       "      <td>Antonina</td>\n",
       "      <td>Wektorowa</td>\n",
       "      <td>Panią</td>\n",
       "      <td>C23</td>\n",
       "    </tr>\n",
       "    <tr>\n",
       "      <th>3</th>\n",
       "      <td>Pan Alojzy Kod</td>\n",
       "      <td>A</td>\n",
       "      <td>8</td>\n",
       "      <td>kawka</td>\n",
       "      <td>duzy</td>\n",
       "      <td>Pan</td>\n",
       "      <td>Alojzy</td>\n",
       "      <td>Kod</td>\n",
       "      <td>Panem</td>\n",
       "      <td>A8</td>\n",
       "    </tr>\n",
       "    <tr>\n",
       "      <th>4</th>\n",
       "      <td>Pan Antoni Data</td>\n",
       "      <td>B</td>\n",
       "      <td>21</td>\n",
       "      <td>SNAK</td>\n",
       "      <td>brak</td>\n",
       "      <td>Pan</td>\n",
       "      <td>Antoni</td>\n",
       "      <td>Data</td>\n",
       "      <td>Panem</td>\n",
       "      <td>B21</td>\n",
       "    </tr>\n",
       "    <tr>\n",
       "      <th>5</th>\n",
       "      <td>Pani Anastazja Frejm</td>\n",
       "      <td>C</td>\n",
       "      <td>23</td>\n",
       "      <td>wars</td>\n",
       "      <td>duzy</td>\n",
       "      <td>Pani</td>\n",
       "      <td>Anastazja</td>\n",
       "      <td>Frejm</td>\n",
       "      <td>Panią</td>\n",
       "      <td>C23</td>\n",
       "    </tr>\n",
       "  </tbody>\n",
       "</table>\n",
       "</div>"
      ],
      "text/plain": [
       "                    IMIONA WAGON  MIEJSCE DODATKI BAGAZ TYTUL       IMIE  \\\n",
       "0   Pan Andrzej Macierzowy     A       34    wars  maly   Pan    Andrzej   \n",
       "1     Pani Gertruda Losowa     B       12   kawka  Duzy  Pani   Gertruda   \n",
       "2  Pani Antonina Wektorowa     C       23     NaN  maly  Pani   Antonina   \n",
       "3           Pan Alojzy Kod     A        8   kawka  duzy   Pan     Alojzy   \n",
       "4          Pan Antoni Data     B       21    SNAK  brak   Pan     Antoni   \n",
       "5     Pani Anastazja Frejm     C       23    wars  duzy  Pani  Anastazja   \n",
       "\n",
       "     NAZWISKO ODMIANA SIEDZENIE  \n",
       "0  Macierzowy   Panem       A34  \n",
       "1      Losowa   Panią       B12  \n",
       "2   Wektorowa   Panią       C23  \n",
       "3         Kod   Panem        A8  \n",
       "4        Data   Panem       B21  \n",
       "5       Frejm   Panią       C23  "
      ]
     },
     "execution_count": 85,
     "metadata": {},
     "output_type": "execute_result"
    }
   ],
   "source": [
    "df"
   ]
  },
  {
   "cell_type": "code",
   "execution_count": 86,
   "metadata": {},
   "outputs": [
    {
     "data": {
      "text/html": [
       "<div>\n",
       "<style scoped>\n",
       "    .dataframe tbody tr th:only-of-type {\n",
       "        vertical-align: middle;\n",
       "    }\n",
       "\n",
       "    .dataframe tbody tr th {\n",
       "        vertical-align: top;\n",
       "    }\n",
       "\n",
       "    .dataframe thead th {\n",
       "        text-align: right;\n",
       "    }\n",
       "</style>\n",
       "<table border=\"1\" class=\"dataframe\">\n",
       "  <thead>\n",
       "    <tr style=\"text-align: right;\">\n",
       "      <th></th>\n",
       "      <th>IMIONA</th>\n",
       "      <th>WAGON</th>\n",
       "      <th>MIEJSCE</th>\n",
       "      <th>DODATKI</th>\n",
       "      <th>BAGAZ</th>\n",
       "      <th>TYTUL</th>\n",
       "      <th>IMIE</th>\n",
       "      <th>NAZWISKO</th>\n",
       "      <th>ODMIANA</th>\n",
       "      <th>SIEDZENIE</th>\n",
       "    </tr>\n",
       "  </thead>\n",
       "  <tbody>\n",
       "    <tr>\n",
       "      <th>0</th>\n",
       "      <td>Pan Andrzej Macierzowy</td>\n",
       "      <td>A</td>\n",
       "      <td>34</td>\n",
       "      <td>wars</td>\n",
       "      <td>maly</td>\n",
       "      <td>Pan</td>\n",
       "      <td>Andrzej</td>\n",
       "      <td>Macierzowy</td>\n",
       "      <td>Panem</td>\n",
       "      <td>A34</td>\n",
       "    </tr>\n",
       "    <tr>\n",
       "      <th>1</th>\n",
       "      <td>Pani Gertruda Losowa</td>\n",
       "      <td>B</td>\n",
       "      <td>12</td>\n",
       "      <td>kawka</td>\n",
       "      <td>duzy</td>\n",
       "      <td>Pani</td>\n",
       "      <td>Gertruda</td>\n",
       "      <td>Losowa</td>\n",
       "      <td>Panią</td>\n",
       "      <td>B12</td>\n",
       "    </tr>\n",
       "    <tr>\n",
       "      <th>2</th>\n",
       "      <td>Pani Antonina Wektorowa</td>\n",
       "      <td>C</td>\n",
       "      <td>23</td>\n",
       "      <td>NaN</td>\n",
       "      <td>maly</td>\n",
       "      <td>Pani</td>\n",
       "      <td>Antonina</td>\n",
       "      <td>Wektorowa</td>\n",
       "      <td>Panią</td>\n",
       "      <td>C23</td>\n",
       "    </tr>\n",
       "    <tr>\n",
       "      <th>3</th>\n",
       "      <td>Pan Alojzy Kod</td>\n",
       "      <td>A</td>\n",
       "      <td>8</td>\n",
       "      <td>kawka</td>\n",
       "      <td>duzy</td>\n",
       "      <td>Pan</td>\n",
       "      <td>Alojzy</td>\n",
       "      <td>Kod</td>\n",
       "      <td>Panem</td>\n",
       "      <td>A8</td>\n",
       "    </tr>\n",
       "    <tr>\n",
       "      <th>4</th>\n",
       "      <td>Pan Antoni Data</td>\n",
       "      <td>B</td>\n",
       "      <td>21</td>\n",
       "      <td>SNAK</td>\n",
       "      <td>brak</td>\n",
       "      <td>Pan</td>\n",
       "      <td>Antoni</td>\n",
       "      <td>Data</td>\n",
       "      <td>Panem</td>\n",
       "      <td>B21</td>\n",
       "    </tr>\n",
       "    <tr>\n",
       "      <th>5</th>\n",
       "      <td>Pani Anastazja Frejm</td>\n",
       "      <td>C</td>\n",
       "      <td>23</td>\n",
       "      <td>wars</td>\n",
       "      <td>duzy</td>\n",
       "      <td>Pani</td>\n",
       "      <td>Anastazja</td>\n",
       "      <td>Frejm</td>\n",
       "      <td>Panią</td>\n",
       "      <td>C23</td>\n",
       "    </tr>\n",
       "  </tbody>\n",
       "</table>\n",
       "</div>"
      ],
      "text/plain": [
       "                    IMIONA WAGON  MIEJSCE DODATKI BAGAZ TYTUL       IMIE  \\\n",
       "0   Pan Andrzej Macierzowy     A       34    wars  maly   Pan    Andrzej   \n",
       "1     Pani Gertruda Losowa     B       12   kawka  duzy  Pani   Gertruda   \n",
       "2  Pani Antonina Wektorowa     C       23     NaN  maly  Pani   Antonina   \n",
       "3           Pan Alojzy Kod     A        8   kawka  duzy   Pan     Alojzy   \n",
       "4          Pan Antoni Data     B       21    SNAK  brak   Pan     Antoni   \n",
       "5     Pani Anastazja Frejm     C       23    wars  duzy  Pani  Anastazja   \n",
       "\n",
       "     NAZWISKO ODMIANA SIEDZENIE  \n",
       "0  Macierzowy   Panem       A34  \n",
       "1      Losowa   Panią       B12  \n",
       "2   Wektorowa   Panią       C23  \n",
       "3         Kod   Panem        A8  \n",
       "4        Data   Panem       B21  \n",
       "5       Frejm   Panią       C23  "
      ]
     },
     "execution_count": 86,
     "metadata": {},
     "output_type": "execute_result"
    }
   ],
   "source": [
    "df.BAGAZ = df.BAGAZ.str.lower()\n",
    "df"
   ]
  },
  {
   "cell_type": "code",
   "execution_count": 87,
   "metadata": {},
   "outputs": [
    {
     "data": {
      "text/plain": [
       "0     Awars\n",
       "1    Bkawka\n",
       "2       NaN\n",
       "3    Akawka\n",
       "4     BSNAK\n",
       "5     Cwars\n",
       "dtype: object"
      ]
     },
     "execution_count": 87,
     "metadata": {},
     "output_type": "execute_result"
    }
   ],
   "source": [
    "df.WAGON+df.DODATKI"
   ]
  },
  {
   "cell_type": "code",
   "execution_count": 88,
   "metadata": {},
   "outputs": [
    {
     "data": {
      "text/plain": [
       "0     Awars\n",
       "1    Bkawka\n",
       "2       NaN\n",
       "3    Akawka\n",
       "4     BSNAK\n",
       "5     Cwars\n",
       "Name: WAGON, dtype: object"
      ]
     },
     "execution_count": 88,
     "metadata": {},
     "output_type": "execute_result"
    }
   ],
   "source": [
    "df.WAGON.str.cat(df.DODATKI)"
   ]
  },
  {
   "cell_type": "code",
   "execution_count": 89,
   "metadata": {},
   "outputs": [
    {
     "data": {
      "text/plain": [
       "0     Awars\n",
       "1    Bkawka\n",
       "2        C-\n",
       "3    Akawka\n",
       "4     BSNAK\n",
       "5     Cwars\n",
       "Name: WAGON, dtype: object"
      ]
     },
     "execution_count": 89,
     "metadata": {},
     "output_type": "execute_result"
    }
   ],
   "source": [
    "df.WAGON.str.cat(df.DODATKI, na_rep=\"-\")"
   ]
  },
  {
   "cell_type": "code",
   "execution_count": 90,
   "metadata": {},
   "outputs": [
    {
     "data": {
      "text/html": [
       "<div>\n",
       "<style scoped>\n",
       "    .dataframe tbody tr th:only-of-type {\n",
       "        vertical-align: middle;\n",
       "    }\n",
       "\n",
       "    .dataframe tbody tr th {\n",
       "        vertical-align: top;\n",
       "    }\n",
       "\n",
       "    .dataframe thead th {\n",
       "        text-align: right;\n",
       "    }\n",
       "</style>\n",
       "<table border=\"1\" class=\"dataframe\">\n",
       "  <thead>\n",
       "    <tr style=\"text-align: right;\">\n",
       "      <th></th>\n",
       "      <th>IMIONA</th>\n",
       "      <th>WAGON</th>\n",
       "      <th>MIEJSCE</th>\n",
       "      <th>DODATKI</th>\n",
       "      <th>BAGAZ</th>\n",
       "      <th>TYTUL</th>\n",
       "      <th>IMIE</th>\n",
       "      <th>NAZWISKO</th>\n",
       "      <th>ODMIANA</th>\n",
       "      <th>SIEDZENIE</th>\n",
       "    </tr>\n",
       "  </thead>\n",
       "  <tbody>\n",
       "    <tr>\n",
       "      <th>0</th>\n",
       "      <td>Pan Andrzej Macierzowy</td>\n",
       "      <td>A</td>\n",
       "      <td>34</td>\n",
       "      <td>wars</td>\n",
       "      <td>maly</td>\n",
       "      <td>Pan</td>\n",
       "      <td>Andrzej</td>\n",
       "      <td>Macierzowy</td>\n",
       "      <td>Panem</td>\n",
       "      <td>A34</td>\n",
       "    </tr>\n",
       "    <tr>\n",
       "      <th>1</th>\n",
       "      <td>Pani Gertruda Losowa</td>\n",
       "      <td>B</td>\n",
       "      <td>12</td>\n",
       "      <td>kawka</td>\n",
       "      <td>duzy</td>\n",
       "      <td>Pani</td>\n",
       "      <td>Gertruda</td>\n",
       "      <td>Losowa</td>\n",
       "      <td>Panią</td>\n",
       "      <td>B12</td>\n",
       "    </tr>\n",
       "    <tr>\n",
       "      <th>2</th>\n",
       "      <td>Pani Antonina Wektorowa</td>\n",
       "      <td>C</td>\n",
       "      <td>23</td>\n",
       "      <td>NaN</td>\n",
       "      <td>maly</td>\n",
       "      <td>Pani</td>\n",
       "      <td>Antonina</td>\n",
       "      <td>Wektorowa</td>\n",
       "      <td>Panią</td>\n",
       "      <td>C23</td>\n",
       "    </tr>\n",
       "    <tr>\n",
       "      <th>3</th>\n",
       "      <td>Pan Alojzy Kod</td>\n",
       "      <td>A</td>\n",
       "      <td>8</td>\n",
       "      <td>kawka</td>\n",
       "      <td>duzy</td>\n",
       "      <td>Pan</td>\n",
       "      <td>Alojzy</td>\n",
       "      <td>Kod</td>\n",
       "      <td>Panem</td>\n",
       "      <td>A8</td>\n",
       "    </tr>\n",
       "    <tr>\n",
       "      <th>4</th>\n",
       "      <td>Pan Antoni Data</td>\n",
       "      <td>B</td>\n",
       "      <td>21</td>\n",
       "      <td>SNAK</td>\n",
       "      <td>brak</td>\n",
       "      <td>Pan</td>\n",
       "      <td>Antoni</td>\n",
       "      <td>Data</td>\n",
       "      <td>Panem</td>\n",
       "      <td>B21</td>\n",
       "    </tr>\n",
       "    <tr>\n",
       "      <th>5</th>\n",
       "      <td>Pani Anastazja Frejm</td>\n",
       "      <td>C</td>\n",
       "      <td>23</td>\n",
       "      <td>wars</td>\n",
       "      <td>duzy</td>\n",
       "      <td>Pani</td>\n",
       "      <td>Anastazja</td>\n",
       "      <td>Frejm</td>\n",
       "      <td>Panią</td>\n",
       "      <td>C23</td>\n",
       "    </tr>\n",
       "  </tbody>\n",
       "</table>\n",
       "</div>"
      ],
      "text/plain": [
       "                    IMIONA WAGON  MIEJSCE DODATKI BAGAZ TYTUL       IMIE  \\\n",
       "0   Pan Andrzej Macierzowy     A       34    wars  maly   Pan    Andrzej   \n",
       "1     Pani Gertruda Losowa     B       12   kawka  duzy  Pani   Gertruda   \n",
       "2  Pani Antonina Wektorowa     C       23     NaN  maly  Pani   Antonina   \n",
       "3           Pan Alojzy Kod     A        8   kawka  duzy   Pan     Alojzy   \n",
       "4          Pan Antoni Data     B       21    SNAK  brak   Pan     Antoni   \n",
       "5     Pani Anastazja Frejm     C       23    wars  duzy  Pani  Anastazja   \n",
       "\n",
       "     NAZWISKO ODMIANA SIEDZENIE  \n",
       "0  Macierzowy   Panem       A34  \n",
       "1      Losowa   Panią       B12  \n",
       "2   Wektorowa   Panią       C23  \n",
       "3         Kod   Panem        A8  \n",
       "4        Data   Panem       B21  \n",
       "5       Frejm   Panią       C23  "
      ]
     },
     "execution_count": 90,
     "metadata": {},
     "output_type": "execute_result"
    }
   ],
   "source": [
    "df"
   ]
  },
  {
   "cell_type": "code",
   "execution_count": 91,
   "metadata": {},
   "outputs": [
    {
     "data": {
      "text/plain": [
       "0    False\n",
       "1     True\n",
       "2     True\n",
       "3    False\n",
       "4    False\n",
       "5     True\n",
       "Name: IMIONA, dtype: bool"
      ]
     },
     "execution_count": 91,
     "metadata": {},
     "output_type": "execute_result"
    }
   ],
   "source": [
    "df.IMIONA.str.startswith(\"Pani\")"
   ]
  },
  {
   "cell_type": "code",
   "execution_count": 92,
   "metadata": {},
   "outputs": [],
   "source": [
    "siedzeniaMap = {0:\"LO\", 1:\"LK\", 2:\"PK\", 3:\"PO\"} #lewe okno, lewe korytarz, prawe korytarz, prawe okno\n",
    "def rzadUsytuowanie(x):\n",
    "    return str(x//4) + siedzeniaMap[x%4]"
   ]
  },
  {
   "cell_type": "code",
   "execution_count": 93,
   "metadata": {},
   "outputs": [
    {
     "data": {
      "text/plain": [
       "0    8PK\n",
       "1    3LO\n",
       "2    5PO\n",
       "3    2LO\n",
       "4    5LK\n",
       "5    5PO\n",
       "Name: MIEJSCE, dtype: object"
      ]
     },
     "execution_count": 93,
     "metadata": {},
     "output_type": "execute_result"
    }
   ],
   "source": [
    "df.MIEJSCE.apply(rzadUsytuowanie)"
   ]
  },
  {
   "cell_type": "markdown",
   "metadata": {},
   "source": [
    "Metody \"apply\" są bardzo użyteczne i wykorzystują przetwarzanie wektorowe, które jest dobrze optymalizowane i działa szybciej niż iterowanie pętlą po kolejnych wierszach. Takie operacje można dodatkowo zrównoleglać. O tym na następnym wykładzie."
   ]
  }
 ],
 "metadata": {
  "kernelspec": {
   "display_name": "Python 3",
   "language": "python",
   "name": "python3"
  },
  "language_info": {
   "codemirror_mode": {
    "name": "ipython",
    "version": 3
   },
   "file_extension": ".py",
   "mimetype": "text/x-python",
   "name": "python",
   "nbconvert_exporter": "python",
   "pygments_lexer": "ipython3",
   "version": "3.10.4"
  }
 },
 "nbformat": 4,
 "nbformat_minor": 4
}
