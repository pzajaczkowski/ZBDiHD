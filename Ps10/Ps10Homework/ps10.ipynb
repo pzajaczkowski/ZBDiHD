{
 "cells": [
  {
   "cell_type": "markdown",
   "metadata": {},
   "source": [
    "### **Zaawansowane bazy danych i hurtownie danych**\n",
    "\n",
    "## **Praca domowa #5: MongoDB**\n",
    "\n",
    "#### **Autor:** _Piotr Zajączkowski_\n"
   ]
  },
  {
   "cell_type": "code",
   "execution_count": 1,
   "metadata": {},
   "outputs": [],
   "source": [
    "import pandas as pd\n",
    "import pymongo as pm\n",
    "from pprint import pp\n",
    "from pymongo import MongoClient\n",
    "\n",
    "# podłączenie do mongodb\n",
    "client = MongoClient(\"localhost\", 27017)\n",
    "db = client.IMDB\n",
    "\n",
    "title = db[\"Title\"]\n",
    "rating = db[\"Rating\"]\n",
    "name = db[\"Name\"]"
   ]
  },
  {
   "cell_type": "markdown",
   "metadata": {},
   "source": [
    "### Zadanie 1\n",
    "\n",
    "Sprawdź liczbę dokumentów w kolekcjach Title/Rating/Name.\n"
   ]
  },
  {
   "cell_type": "code",
   "execution_count": 2,
   "metadata": {},
   "outputs": [
    {
     "name": "stdout",
     "output_type": "stream",
     "text": [
      "Liczba dokumentów w kolekcji 'Title': 10806185\n",
      "Liczba dokumentów w kolekcji 'Rating': 1441459\n",
      "Liczba dokumentów w kolekcji 'Name': 13527846\n"
     ]
    }
   ],
   "source": [
    "z1_title_count = title.count_documents({})\n",
    "z1_rating_count = rating.count_documents({})\n",
    "z1_name_count = name.count_documents({})\n",
    "\n",
    "print(f\"Liczba dokumentów w kolekcji 'Title': {z1_title_count}\")\n",
    "print(f\"Liczba dokumentów w kolekcji 'Rating': {z1_rating_count}\")\n",
    "print(f\"Liczba dokumentów w kolekcji 'Name': {z1_name_count}\")"
   ]
  },
  {
   "cell_type": "markdown",
   "metadata": {},
   "source": [
    "### Zadanie 2\n",
    "\n",
    "Wybierz 4 pierwsze dokumenty z kolekcji Title, które były wyprodukowane w roku 2020, są z kategorii filmów\n",
    "Romance, ich czas trwania jest większy niż 90 minut, ale nie przekracza 120 minut. Zwracane dokumenty powinny\n",
    "zawierać tytuł, rok produkcji, kategorię oraz czas trwania. Dane uporządkuj rosnąco wg tytułu filmu. Sprawdź\n",
    "również, ile dokumentów zwróciłoby zapytanie po wyłączeniu ograniczenia w postaci 4 pierwszych dokumentów.\n",
    "Wyszukując łańcuchy skorzystaj z operatora $regex.\n"
   ]
  },
  {
   "cell_type": "code",
   "execution_count": 17,
   "metadata": {},
   "outputs": [
    {
     "name": "stdout",
     "output_type": "stream",
     "text": [
      "Pierwsze 4 dokumenty spełniające kryteria:\n"
     ]
    },
    {
     "data": {
      "text/html": [
       "<div>\n",
       "<style scoped>\n",
       "    .dataframe tbody tr th:only-of-type {\n",
       "        vertical-align: middle;\n",
       "    }\n",
       "\n",
       "    .dataframe tbody tr th {\n",
       "        vertical-align: top;\n",
       "    }\n",
       "\n",
       "    .dataframe thead th {\n",
       "        text-align: right;\n",
       "    }\n",
       "</style>\n",
       "<table border=\"1\" class=\"dataframe\">\n",
       "  <thead>\n",
       "    <tr style=\"text-align: right;\">\n",
       "      <th></th>\n",
       "      <th>primaryTitle</th>\n",
       "      <th>startYear</th>\n",
       "      <th>runtimeMinutes</th>\n",
       "      <th>genres</th>\n",
       "    </tr>\n",
       "  </thead>\n",
       "  <tbody>\n",
       "    <tr>\n",
       "      <th>0</th>\n",
       "      <td>419</td>\n",
       "      <td>2020</td>\n",
       "      <td>111</td>\n",
       "      <td>Drama,Romance,Thriller</td>\n",
       "    </tr>\n",
       "    <tr>\n",
       "      <th>1</th>\n",
       "      <td>#s_uchilishcha</td>\n",
       "      <td>2020</td>\n",
       "      <td>95</td>\n",
       "      <td>Drama,Romance</td>\n",
       "    </tr>\n",
       "    <tr>\n",
       "      <th>2</th>\n",
       "      <td>2 Hearts</td>\n",
       "      <td>2020</td>\n",
       "      <td>101</td>\n",
       "      <td>Drama,Romance</td>\n",
       "    </tr>\n",
       "    <tr>\n",
       "      <th>3</th>\n",
       "      <td>23 Walks</td>\n",
       "      <td>2020</td>\n",
       "      <td>102</td>\n",
       "      <td>Comedy,Drama,Romance</td>\n",
       "    </tr>\n",
       "  </tbody>\n",
       "</table>\n",
       "</div>"
      ],
      "text/plain": [
       "     primaryTitle  startYear  runtimeMinutes                  genres\n",
       "0             419       2020             111  Drama,Romance,Thriller\n",
       "1  #s_uchilishcha       2020              95           Drama,Romance\n",
       "2        2 Hearts       2020             101           Drama,Romance\n",
       "3        23 Walks       2020             102    Comedy,Drama,Romance"
      ]
     },
     "execution_count": 17,
     "metadata": {},
     "output_type": "execute_result"
    }
   ],
   "source": [
    "z2_query = {\n",
    "    \"startYear\": 2020,\n",
    "    \"genres\": {\"$regex\": \"Romance\"},\n",
    "    \"runtimeMinutes\": {\"$gt\": 90, \"$lte\": 120},\n",
    "}\n",
    "\n",
    "z2_results = (\n",
    "    title.find(\n",
    "        z2_query,\n",
    "        {\"_id\": 0, \"primaryTitle\": 1, \"startYear\": 1, \"genres\": 1, \"runtimeMinutes\": 1},\n",
    "    )\n",
    "    .sort(\"primaryTitle\", pm.ASCENDING)\n",
    "    .limit(4)\n",
    ")\n",
    "\n",
    "print(\"Pierwsze 4 dokumenty spełniające kryteria:\")\n",
    "pd.DataFrame(z2_results)"
   ]
  },
  {
   "cell_type": "code",
   "execution_count": 20,
   "metadata": {},
   "outputs": [
    {
     "name": "stdout",
     "output_type": "stream",
     "text": [
      "Liczba dokumentów bez ograniczenia: 490\n"
     ]
    }
   ],
   "source": [
    "z2_total_count = title.count_documents(z2_query)\n",
    "\n",
    "print(f\"Liczba dokumentów bez ograniczenia: {z2_total_count}\")"
   ]
  },
  {
   "cell_type": "markdown",
   "metadata": {},
   "source": [
    "### Zadanie 3\n",
    "\n",
    "Sprawdź ile filmów różnego typu (pole titleType) było wprodukowanych w roku 2000. Wynik zapytania\n",
    "powinien zwracać nazwę typu oraz liczbę filmów.\n"
   ]
  },
  {
   "cell_type": "code",
   "execution_count": 5,
   "metadata": {},
   "outputs": [
    {
     "data": {
      "text/html": [
       "<div>\n",
       "<style scoped>\n",
       "    .dataframe tbody tr th:only-of-type {\n",
       "        vertical-align: middle;\n",
       "    }\n",
       "\n",
       "    .dataframe tbody tr th {\n",
       "        vertical-align: top;\n",
       "    }\n",
       "\n",
       "    .dataframe thead th {\n",
       "        text-align: right;\n",
       "    }\n",
       "</style>\n",
       "<table border=\"1\" class=\"dataframe\">\n",
       "  <thead>\n",
       "    <tr style=\"text-align: right;\">\n",
       "      <th></th>\n",
       "      <th>ilość</th>\n",
       "      <th>typFilmu</th>\n",
       "    </tr>\n",
       "  </thead>\n",
       "  <tbody>\n",
       "    <tr>\n",
       "      <th>0</th>\n",
       "      <td>2469</td>\n",
       "      <td>tvMovie</td>\n",
       "    </tr>\n",
       "    <tr>\n",
       "      <th>1</th>\n",
       "      <td>5279</td>\n",
       "      <td>video</td>\n",
       "    </tr>\n",
       "    <tr>\n",
       "      <th>2</th>\n",
       "      <td>4867</td>\n",
       "      <td>short</td>\n",
       "    </tr>\n",
       "    <tr>\n",
       "      <th>3</th>\n",
       "      <td>372</td>\n",
       "      <td>tvMiniSeries</td>\n",
       "    </tr>\n",
       "    <tr>\n",
       "      <th>4</th>\n",
       "      <td>2985</td>\n",
       "      <td>tvSeries</td>\n",
       "    </tr>\n",
       "    <tr>\n",
       "      <th>5</th>\n",
       "      <td>765</td>\n",
       "      <td>videoGame</td>\n",
       "    </tr>\n",
       "    <tr>\n",
       "      <th>6</th>\n",
       "      <td>656</td>\n",
       "      <td>tvSpecial</td>\n",
       "    </tr>\n",
       "    <tr>\n",
       "      <th>7</th>\n",
       "      <td>5245</td>\n",
       "      <td>movie</td>\n",
       "    </tr>\n",
       "    <tr>\n",
       "      <th>8</th>\n",
       "      <td>78163</td>\n",
       "      <td>tvEpisode</td>\n",
       "    </tr>\n",
       "    <tr>\n",
       "      <th>9</th>\n",
       "      <td>121</td>\n",
       "      <td>tvShort</td>\n",
       "    </tr>\n",
       "  </tbody>\n",
       "</table>\n",
       "</div>"
      ],
      "text/plain": [
       "   ilość      typFilmu\n",
       "0   2469       tvMovie\n",
       "1   5279         video\n",
       "2   4867         short\n",
       "3    372  tvMiniSeries\n",
       "4   2985      tvSeries\n",
       "5    765     videoGame\n",
       "6    656     tvSpecial\n",
       "7   5245         movie\n",
       "8  78163     tvEpisode\n",
       "9    121       tvShort"
      ]
     },
     "execution_count": 5,
     "metadata": {},
     "output_type": "execute_result"
    }
   ],
   "source": [
    "z3_result = title.aggregate(\n",
    "    [\n",
    "        {\"$match\": {\"startYear\": 2000}},\n",
    "        {\"$group\": {\"_id\": \"$titleType\", \"ilość\": {\"$sum\": 1}}},\n",
    "        {\"$project\": {\"typFilmu\": \"$_id\", \"ilość\": 1, \"_id\": 0}},\n",
    "    ]\n",
    ")\n",
    "pd.DataFrame(z3_result)"
   ]
  },
  {
   "cell_type": "markdown",
   "metadata": {},
   "source": [
    "# Zadanie 4\n",
    "\n",
    "W oparciu o kolekcje Title oraz Rating sprawdź średnią ocenę filmów dokumentalnych wprodukowanych w\n",
    "latach 2010-2012. Wyświetl tytuł filmu, rok produkcji oraz jego średnią ocenę. Dane uporzadkuj malejąco wg\n",
    "średniej oceny.\n",
    "\n",
    "- sprawdź, ile takich dokumentów zwróci zapytanie\n",
    "\n",
    "- wyświetl tylko 5 pierwszych dokumentów spełniających powyższe warunki\n"
   ]
  },
  {
   "cell_type": "code",
   "execution_count": 23,
   "metadata": {},
   "outputs": [
    {
     "name": "stdout",
     "output_type": "stream",
     "text": [
      "Zapytanie zwróciło 20367 dokumentów\n"
     ]
    },
    {
     "data": {
      "text/html": [
       "<div>\n",
       "<style scoped>\n",
       "    .dataframe tbody tr th:only-of-type {\n",
       "        vertical-align: middle;\n",
       "    }\n",
       "\n",
       "    .dataframe tbody tr th {\n",
       "        vertical-align: top;\n",
       "    }\n",
       "\n",
       "    .dataframe thead th {\n",
       "        text-align: right;\n",
       "    }\n",
       "</style>\n",
       "<table border=\"1\" class=\"dataframe\">\n",
       "  <thead>\n",
       "    <tr style=\"text-align: right;\">\n",
       "      <th></th>\n",
       "      <th>primaryTitle</th>\n",
       "      <th>startYear</th>\n",
       "      <th>genres</th>\n",
       "      <th>rating</th>\n",
       "    </tr>\n",
       "  </thead>\n",
       "  <tbody>\n",
       "    <tr>\n",
       "      <th>0</th>\n",
       "      <td>Nikki &amp; Daniel</td>\n",
       "      <td>2012</td>\n",
       "      <td>Documentary,Reality-TV,Romance</td>\n",
       "      <td>10.0</td>\n",
       "    </tr>\n",
       "    <tr>\n",
       "      <th>1</th>\n",
       "      <td>Tripping on Hallucinogenic Frogs</td>\n",
       "      <td>2012</td>\n",
       "      <td>Documentary</td>\n",
       "      <td>10.0</td>\n",
       "    </tr>\n",
       "    <tr>\n",
       "      <th>2</th>\n",
       "      <td>Mitropanos, Kotsiras, Basis Live 06-07-2011</td>\n",
       "      <td>2012</td>\n",
       "      <td>Biography,Comedy,Documentary</td>\n",
       "      <td>10.0</td>\n",
       "    </tr>\n",
       "    <tr>\n",
       "      <th>3</th>\n",
       "      <td>Episode #8.62</td>\n",
       "      <td>2010</td>\n",
       "      <td>Documentary</td>\n",
       "      <td>10.0</td>\n",
       "    </tr>\n",
       "    <tr>\n",
       "      <th>4</th>\n",
       "      <td>Episode #9.25</td>\n",
       "      <td>2010</td>\n",
       "      <td>Documentary</td>\n",
       "      <td>10.0</td>\n",
       "    </tr>\n",
       "  </tbody>\n",
       "</table>\n",
       "</div>"
      ],
      "text/plain": [
       "                                  primaryTitle  startYear  \\\n",
       "0                               Nikki & Daniel       2012   \n",
       "1             Tripping on Hallucinogenic Frogs       2012   \n",
       "2  Mitropanos, Kotsiras, Basis Live 06-07-2011       2012   \n",
       "3                                Episode #8.62       2010   \n",
       "4                                Episode #9.25       2010   \n",
       "\n",
       "                           genres  rating  \n",
       "0  Documentary,Reality-TV,Romance    10.0  \n",
       "1                     Documentary    10.0  \n",
       "2    Biography,Comedy,Documentary    10.0  \n",
       "3                     Documentary    10.0  \n",
       "4                     Documentary    10.0  "
      ]
     },
     "execution_count": 23,
     "metadata": {},
     "output_type": "execute_result"
    }
   ],
   "source": [
    "# zadanie robiło się bardzo długo, więc musiałem dodać indeksy\n",
    "rating.create_index(\"tconst\", unique=True)\n",
    "title.create_index(\"tconst\", unique=True)\n",
    "\n",
    "z4_results = title.aggregate(\n",
    "    [\n",
    "        {\n",
    "            \"$match\": {\n",
    "                \"startYear\": {\"$gte\": 2010, \"$lte\": 2012},\n",
    "                \"genres\": {\"$regex\": \"Documentary\"},\n",
    "            }\n",
    "        },\n",
    "        {\n",
    "            \"$lookup\": {\n",
    "                \"from\": \"Rating\",\n",
    "                \"localField\": \"tconst\",\n",
    "                \"foreignField\": \"tconst\",\n",
    "                \"as\": \"rating\",\n",
    "            }\n",
    "        },\n",
    "        {\"$unwind\": \"$rating\"},\n",
    "        {\"$sort\": {\"rating.averageRating\": pm.DESCENDING}},\n",
    "        {\n",
    "            \"$project\": {\n",
    "                \"_id\": 0,\n",
    "                \"primaryTitle\": 1,\n",
    "                \"startYear\": 1,\n",
    "                \"genres\": 1,\n",
    "                \"rating\": \"$rating.averageRating\",\n",
    "            }\n",
    "        },\n",
    "    ]\n",
    ")\n",
    "\n",
    "z4_dataframe = pd.DataFrame(z4_results)\n",
    "print(f\"Zapytanie zwróciło {z4_dataframe.shape[0]} dokumentów\")\n",
    "z4_dataframe.head(5)"
   ]
  },
  {
   "cell_type": "markdown",
   "metadata": {},
   "source": [
    "# Zadanie 5\n",
    "\n",
    "Utwórz indeks tekstowy dla pola primaryName w kolekcji Name. Następnie używając tego indeksu znajdź\n",
    "dokumenty opisujące osoby o nazwisku Fonda oraz Coppola. Przy wyszukiwaniu włącz opcję, która będzie\n",
    "uwzględniać wielkie/małe litery.\n",
    "\n",
    "- Ile dokumentów zwraca zapytanie?\n",
    "\n",
    "- Wyświetl 5 pierwszych dokumentów (dokument powinien zwracać dwa pola: primaryName,\n",
    "  primaryProfession).\n"
   ]
  },
  {
   "cell_type": "code",
   "execution_count": 24,
   "metadata": {},
   "outputs": [
    {
     "name": "stdout",
     "output_type": "stream",
     "text": [
      "Ilość zwróconych dokumentów: 667\n"
     ]
    },
    {
     "data": {
      "text/html": [
       "<div>\n",
       "<style scoped>\n",
       "    .dataframe tbody tr th:only-of-type {\n",
       "        vertical-align: middle;\n",
       "    }\n",
       "\n",
       "    .dataframe tbody tr th {\n",
       "        vertical-align: top;\n",
       "    }\n",
       "\n",
       "    .dataframe thead th {\n",
       "        text-align: right;\n",
       "    }\n",
       "</style>\n",
       "<table border=\"1\" class=\"dataframe\">\n",
       "  <thead>\n",
       "    <tr style=\"text-align: right;\">\n",
       "      <th></th>\n",
       "      <th>primaryName</th>\n",
       "      <th>primaryProfession</th>\n",
       "    </tr>\n",
       "  </thead>\n",
       "  <tbody>\n",
       "    <tr>\n",
       "      <th>0</th>\n",
       "      <td>Sabrina Coppola</td>\n",
       "      <td>script_department,actress,writer</td>\n",
       "    </tr>\n",
       "    <tr>\n",
       "      <th>1</th>\n",
       "      <td>Andrew Coppola</td>\n",
       "      <td>\\N</td>\n",
       "    </tr>\n",
       "    <tr>\n",
       "      <th>2</th>\n",
       "      <td>Vicki Coppola</td>\n",
       "      <td>actress</td>\n",
       "    </tr>\n",
       "    <tr>\n",
       "      <th>3</th>\n",
       "      <td>Neil Coppola</td>\n",
       "      <td>\\N</td>\n",
       "    </tr>\n",
       "    <tr>\n",
       "      <th>4</th>\n",
       "      <td>Cassandra Coppola</td>\n",
       "      <td>production_manager,assistant_director,producer</td>\n",
       "    </tr>\n",
       "  </tbody>\n",
       "</table>\n",
       "</div>"
      ],
      "text/plain": [
       "         primaryName                               primaryProfession\n",
       "0    Sabrina Coppola                script_department,actress,writer\n",
       "1     Andrew Coppola                                              \\N\n",
       "2      Vicki Coppola                                         actress\n",
       "3       Neil Coppola                                              \\N\n",
       "4  Cassandra Coppola  production_manager,assistant_director,producer"
      ]
     },
     "execution_count": 24,
     "metadata": {},
     "output_type": "execute_result"
    }
   ],
   "source": [
    "name.create_index([(\"primaryName\", \"text\")])\n",
    "\n",
    "z5_result = name.find(\n",
    "    {\"$text\": {\"$search\": \"Fonda Coppola\", \"$caseSensitive\": False}},\n",
    "    {\"_id\": 0, \"primaryName\": 1, \"primaryProfession\": 1},\n",
    ")\n",
    "\n",
    "z5_dataframe = pd.DataFrame(z5_result)\n",
    "print(f\"Ilość zwróconych dokumentów: {z5_dataframe.shape[0]}\")\n",
    "z5_dataframe.head(5)"
   ]
  },
  {
   "cell_type": "markdown",
   "metadata": {},
   "source": [
    "# Zadanie 6\n",
    "\n",
    "Utwórz indeks z porządkiem malejącym dla pola birthYear (kolekcja Name). Następnie wyświetl listę indeksów\n",
    "w kolekcji Name. Ile indeksów posiada ta kolekcja?\n"
   ]
  },
  {
   "cell_type": "code",
   "execution_count": 8,
   "metadata": {},
   "outputs": [
    {
     "name": "stdout",
     "output_type": "stream",
     "text": [
      "Ilość indeksów w kolekcji name: 3\n"
     ]
    },
    {
     "data": {
      "text/html": [
       "<div>\n",
       "<style scoped>\n",
       "    .dataframe tbody tr th:only-of-type {\n",
       "        vertical-align: middle;\n",
       "    }\n",
       "\n",
       "    .dataframe tbody tr th {\n",
       "        vertical-align: top;\n",
       "    }\n",
       "\n",
       "    .dataframe thead th {\n",
       "        text-align: right;\n",
       "    }\n",
       "</style>\n",
       "<table border=\"1\" class=\"dataframe\">\n",
       "  <thead>\n",
       "    <tr style=\"text-align: right;\">\n",
       "      <th></th>\n",
       "      <th>v</th>\n",
       "      <th>key</th>\n",
       "      <th>name</th>\n",
       "      <th>weights</th>\n",
       "      <th>default_language</th>\n",
       "      <th>language_override</th>\n",
       "      <th>textIndexVersion</th>\n",
       "    </tr>\n",
       "  </thead>\n",
       "  <tbody>\n",
       "    <tr>\n",
       "      <th>0</th>\n",
       "      <td>2</td>\n",
       "      <td>{'_id': 1}</td>\n",
       "      <td>_id_</td>\n",
       "      <td>NaN</td>\n",
       "      <td>NaN</td>\n",
       "      <td>NaN</td>\n",
       "      <td>NaN</td>\n",
       "    </tr>\n",
       "    <tr>\n",
       "      <th>1</th>\n",
       "      <td>2</td>\n",
       "      <td>{'_fts': 'text', '_ftsx': 1}</td>\n",
       "      <td>primaryName_text</td>\n",
       "      <td>{'primaryName': 1}</td>\n",
       "      <td>english</td>\n",
       "      <td>language</td>\n",
       "      <td>3.0</td>\n",
       "    </tr>\n",
       "    <tr>\n",
       "      <th>2</th>\n",
       "      <td>2</td>\n",
       "      <td>{'birthYear': -1}</td>\n",
       "      <td>birthYear_-1</td>\n",
       "      <td>NaN</td>\n",
       "      <td>NaN</td>\n",
       "      <td>NaN</td>\n",
       "      <td>NaN</td>\n",
       "    </tr>\n",
       "  </tbody>\n",
       "</table>\n",
       "</div>"
      ],
      "text/plain": [
       "   v                           key              name             weights  \\\n",
       "0  2                    {'_id': 1}              _id_                 NaN   \n",
       "1  2  {'_fts': 'text', '_ftsx': 1}  primaryName_text  {'primaryName': 1}   \n",
       "2  2             {'birthYear': -1}      birthYear_-1                 NaN   \n",
       "\n",
       "  default_language language_override  textIndexVersion  \n",
       "0              NaN               NaN               NaN  \n",
       "1          english          language               3.0  \n",
       "2              NaN               NaN               NaN  "
      ]
     },
     "execution_count": 8,
     "metadata": {},
     "output_type": "execute_result"
    }
   ],
   "source": [
    "name.create_index([(\"birthYear\", pm.DESCENDING)])\n",
    "\n",
    "z6_indexes = name.list_indexes()\n",
    "\n",
    "z6_indexes_frame = pd.DataFrame(z6_indexes)\n",
    "print(f\"Ilość indeksów w kolekcji name: {z6_indexes_frame.shape[0]}\")\n",
    "z6_indexes_frame"
   ]
  },
  {
   "cell_type": "markdown",
   "metadata": {},
   "source": [
    "# Zadanie 7\n",
    "\n",
    "Dla każdego filmu (kolekcja Title), który ma najwyższą średnią ocenę (10.0), dodaj pole max z wartością równą 1. W poleceniu skorzystaj z kolekcji Rating, która zawiera informacje o średniej ocenie filmu.\n"
   ]
  },
  {
   "cell_type": "code",
   "execution_count": 9,
   "metadata": {},
   "outputs": [
    {
     "data": {
      "text/html": [
       "<div>\n",
       "<style scoped>\n",
       "    .dataframe tbody tr th:only-of-type {\n",
       "        vertical-align: middle;\n",
       "    }\n",
       "\n",
       "    .dataframe tbody tr th {\n",
       "        vertical-align: top;\n",
       "    }\n",
       "\n",
       "    .dataframe thead th {\n",
       "        text-align: right;\n",
       "    }\n",
       "</style>\n",
       "<table border=\"1\" class=\"dataframe\">\n",
       "  <thead>\n",
       "    <tr style=\"text-align: right;\">\n",
       "      <th></th>\n",
       "      <th>tconst</th>\n",
       "      <th>primaryTitle</th>\n",
       "      <th>max</th>\n",
       "    </tr>\n",
       "  </thead>\n",
       "  <tbody>\n",
       "    <tr>\n",
       "      <th>0</th>\n",
       "      <td>tt0058271</td>\n",
       "      <td>Koll</td>\n",
       "      <td>1</td>\n",
       "    </tr>\n",
       "    <tr>\n",
       "      <th>1</th>\n",
       "      <td>tt0058559</td>\n",
       "      <td>Sechs Personen suchen einen Autor</td>\n",
       "      <td>1</td>\n",
       "    </tr>\n",
       "    <tr>\n",
       "      <th>2</th>\n",
       "      <td>tt0065800</td>\n",
       "      <td>Eine große Familie</td>\n",
       "      <td>1</td>\n",
       "    </tr>\n",
       "    <tr>\n",
       "      <th>3</th>\n",
       "      <td>tt0127236</td>\n",
       "      <td>Renegades 2</td>\n",
       "      <td>1</td>\n",
       "    </tr>\n",
       "    <tr>\n",
       "      <th>4</th>\n",
       "      <td>tt0143979</td>\n",
       "      <td>A View of Bosnia</td>\n",
       "      <td>1</td>\n",
       "    </tr>\n",
       "    <tr>\n",
       "      <th>...</th>\n",
       "      <td>...</td>\n",
       "      <td>...</td>\n",
       "      <td>...</td>\n",
       "    </tr>\n",
       "    <tr>\n",
       "      <th>6737</th>\n",
       "      <td>tt9805208</td>\n",
       "      <td>I Do Not Know What City Happens in His Eyes</td>\n",
       "      <td>1</td>\n",
       "    </tr>\n",
       "    <tr>\n",
       "      <th>6738</th>\n",
       "      <td>tt9816188</td>\n",
       "      <td>The Curfew</td>\n",
       "      <td>1</td>\n",
       "    </tr>\n",
       "    <tr>\n",
       "      <th>6739</th>\n",
       "      <td>tt9866444</td>\n",
       "      <td>Ask Aldo</td>\n",
       "      <td>1</td>\n",
       "    </tr>\n",
       "    <tr>\n",
       "      <th>6740</th>\n",
       "      <td>tt9889628</td>\n",
       "      <td>Fiat &amp; Alfa Romeo Racers</td>\n",
       "      <td>1</td>\n",
       "    </tr>\n",
       "    <tr>\n",
       "      <th>6741</th>\n",
       "      <td>tt9892336</td>\n",
       "      <td>The Hollywood Reporter's Official Live Golden ...</td>\n",
       "      <td>1</td>\n",
       "    </tr>\n",
       "  </tbody>\n",
       "</table>\n",
       "<p>6742 rows × 3 columns</p>\n",
       "</div>"
      ],
      "text/plain": [
       "         tconst                                       primaryTitle  max\n",
       "0     tt0058271                                               Koll    1\n",
       "1     tt0058559                  Sechs Personen suchen einen Autor    1\n",
       "2     tt0065800                                 Eine große Familie    1\n",
       "3     tt0127236                                        Renegades 2    1\n",
       "4     tt0143979                                   A View of Bosnia    1\n",
       "...         ...                                                ...  ...\n",
       "6737  tt9805208        I Do Not Know What City Happens in His Eyes    1\n",
       "6738  tt9816188                                         The Curfew    1\n",
       "6739  tt9866444                                           Ask Aldo    1\n",
       "6740  tt9889628                           Fiat & Alfa Romeo Racers    1\n",
       "6741  tt9892336  The Hollywood Reporter's Official Live Golden ...    1\n",
       "\n",
       "[6742 rows x 3 columns]"
      ]
     },
     "execution_count": 9,
     "metadata": {},
     "output_type": "execute_result"
    }
   ],
   "source": [
    "title.update_many(\n",
    "    {\"tconst\": {\"$in\": rating.distinct(\"tconst\", {\"averageRating\": 10})}},\n",
    "    {\"$set\": {\"max\": 1}},\n",
    ")\n",
    "\n",
    "z7_result = title.find({\"max\": 1}, {\"_id\": 0, \"tconst\": 1, \"primaryTitle\": 1, \"max\": 1})\n",
    "pd.DataFrame(z7_result)"
   ]
  },
  {
   "cell_type": "markdown",
   "metadata": {},
   "source": [
    "# Zadanie 8\n",
    "\n",
    "W oparciu o kolekcje Title oraz Rating sprawdź średnią ocenę dowolnego filmu o określonym tytule oraz roku\n",
    "produkcji. Zapytanie powinno zwrócić nazwę filmu, rok produkcji oraz średnią ocenę.\n"
   ]
  },
  {
   "cell_type": "code",
   "execution_count": 25,
   "metadata": {},
   "outputs": [
    {
     "name": "stdout",
     "output_type": "stream",
     "text": [
      "{'Nazwa filmu': 'Lifepod', 'Rok produkcji': 2020, 'Średnia ocena': 4.7}\n"
     ]
    }
   ],
   "source": [
    "z8_movie_title = \"Lifepod\"\n",
    "z8_rok_produkcji = 2020\n",
    "\n",
    "z8_result = title.aggregate(\n",
    "    [\n",
    "        {\"$match\": {\"primaryTitle\": z8_movie_title, \"startYear\": z8_rok_produkcji}},\n",
    "        {\n",
    "            \"$lookup\": {\n",
    "                \"from\": \"Rating\",\n",
    "                \"localField\": \"tconst\",\n",
    "                \"foreignField\": \"tconst\",\n",
    "                \"as\": \"rating\",\n",
    "            }\n",
    "        },\n",
    "        {\"$unwind\": \"$rating\"},\n",
    "        {\n",
    "            \"$project\": {\n",
    "                \"_id\": 0,\n",
    "                \"Nazwa filmu\": \"$primaryTitle\",\n",
    "                \"Rok produkcji\": \"$startYear\",\n",
    "                \"Średnia ocena\": \"$rating.averageRating\",\n",
    "            }\n",
    "        },\n",
    "    ]\n",
    ")\n",
    "\n",
    "pp(z8_result.next())"
   ]
  },
  {
   "cell_type": "markdown",
   "metadata": {},
   "source": [
    "# Zadanie 9\n",
    "\n",
    "Do filmu Blade Runner z roku 1982 dodaj pole rating, które będzie tablicą dokumentów z polami:\n",
    "averageRating oraz numVotes. Wartości pól w zagnieżdżonym dokumencie powinny posiadać odpowiednie\n",
    "wartości pobrane z kolekcji Rating.\n"
   ]
  },
  {
   "cell_type": "code",
   "execution_count": 11,
   "metadata": {},
   "outputs": [
    {
     "name": "stdout",
     "output_type": "stream",
     "text": [
      "Dane filmu z kolekcji 'Rating':\n",
      "{'tconst': 'tt0083658', 'averageRating': 8.1, 'numVotes': 825135}\n",
      "\n",
      "Zaktualizowany dokument z kolekcji 'Title':\n",
      "{'_id': ObjectId('665712f6ce8ab344c2b94a53'),\n",
      " 'tconst': 'tt0083658',\n",
      " 'titleType': 'movie',\n",
      " 'primaryTitle': 'Blade Runner',\n",
      " 'originalTitle': 'Blade Runner',\n",
      " 'isAdult': 0,\n",
      " 'startYear': 1982,\n",
      " 'endYear': '\\\\N',\n",
      " 'runtimeMinutes': 117,\n",
      " 'genres': 'Action,Drama,Sci-Fi',\n",
      " 'rating': [{'averageRating': 8.1, 'numVotes': 825135}]}\n"
     ]
    }
   ],
   "source": [
    "z9_subquery_result = title.aggregate(\n",
    "    [\n",
    "        {\"$match\": {\"primaryTitle\": \"Blade Runner\", \"startYear\": 1982}},\n",
    "        {\n",
    "            \"$lookup\": {\n",
    "                \"from\": \"Rating\",\n",
    "                \"localField\": \"tconst\",\n",
    "                \"foreignField\": \"tconst\",\n",
    "                \"as\": \"rating\",\n",
    "            }\n",
    "        },\n",
    "        {\"$unwind\": \"$rating\"},\n",
    "        {\n",
    "            \"$project\": {\n",
    "                \"_id\": 0,\n",
    "                \"tconst\": \"$tconst\",\n",
    "                \"averageRating\": \"$rating.averageRating\",\n",
    "                \"numVotes\": \"$rating.numVotes\",\n",
    "            }\n",
    "        },\n",
    "    ]\n",
    ").next()\n",
    "\n",
    "print(\"Dane filmu z kolekcji 'Rating':\")\n",
    "print(z9_subquery_result)\n",
    "\n",
    "z9_update_result = title.update_one(\n",
    "    {\"tconst\": z9_subquery_result[\"tconst\"]},\n",
    "    {\n",
    "        \"$set\": {\n",
    "            \"rating\": [\n",
    "                {\n",
    "                    \"averageRating\": z9_subquery_result[\"averageRating\"],\n",
    "                    \"numVotes\": z9_subquery_result[\"numVotes\"],\n",
    "                }\n",
    "            ]\n",
    "        }\n",
    "    },\n",
    ")\n",
    "\n",
    "z9_result = title.find({\"tconst\": z9_subquery_result[\"tconst\"]}).next()\n",
    "print(\"\\nZaktualizowany dokument z kolekcji 'Title':\")\n",
    "pp(z9_result)"
   ]
  },
  {
   "cell_type": "markdown",
   "metadata": {},
   "source": [
    "# Zadanie 10\n",
    "\n",
    "Zmodyfikuj pole rating w dokumencie z Zadania 9, dodając jeszcze jeden dokument z polami\n",
    "averageRating oraz numVotes oraz z wartościami: 10 oraz 55555.\n"
   ]
  },
  {
   "cell_type": "code",
   "execution_count": 12,
   "metadata": {},
   "outputs": [
    {
     "name": "stdout",
     "output_type": "stream",
     "text": [
      "{'_id': ObjectId('665712f6ce8ab344c2b94a53'),\n",
      " 'tconst': 'tt0083658',\n",
      " 'titleType': 'movie',\n",
      " 'primaryTitle': 'Blade Runner',\n",
      " 'originalTitle': 'Blade Runner',\n",
      " 'isAdult': 0,\n",
      " 'startYear': 1982,\n",
      " 'endYear': '\\\\N',\n",
      " 'runtimeMinutes': 117,\n",
      " 'genres': 'Action,Drama,Sci-Fi',\n",
      " 'rating': [{'averageRating': 8.1, 'numVotes': 825135},\n",
      "            {'averageRating': 10, 'numVotes': 55555}]}\n"
     ]
    }
   ],
   "source": [
    "z10_update_result = title.update_one(\n",
    "    {\"tconst\": z9_result[\"tconst\"]},\n",
    "    {\"$push\": {\"rating\": {\"averageRating\": 10, \"numVotes\": 55555}}},\n",
    ")\n",
    "\n",
    "z10_result = title.find_one({\"tconst\": z9_result[\"tconst\"]})\n",
    "pp(z10_result)"
   ]
  },
  {
   "cell_type": "markdown",
   "metadata": {},
   "source": [
    "# Zadanie 11\n",
    "\n",
    "Usuń pole rating dodane do filmu Blade Runner w Zadaniu 10.\n"
   ]
  },
  {
   "cell_type": "code",
   "execution_count": 13,
   "metadata": {},
   "outputs": [
    {
     "name": "stdout",
     "output_type": "stream",
     "text": [
      "{'_id': ObjectId('665712f6ce8ab344c2b94a53'),\n",
      " 'tconst': 'tt0083658',\n",
      " 'titleType': 'movie',\n",
      " 'primaryTitle': 'Blade Runner',\n",
      " 'originalTitle': 'Blade Runner',\n",
      " 'isAdult': 0,\n",
      " 'startYear': 1982,\n",
      " 'endYear': '\\\\N',\n",
      " 'runtimeMinutes': 117,\n",
      " 'genres': 'Action,Drama,Sci-Fi'}\n"
     ]
    }
   ],
   "source": [
    "z11_update_result = title.update_one(\n",
    "    {\"tconst\": z10_result[\"tconst\"]},\n",
    "    {\"$unset\": {\"rating\": \"\"}},\n",
    ")\n",
    "\n",
    "z11_result = title.find_one({\"tconst\": z10_result[\"tconst\"]})\n",
    "pp(z11_result)"
   ]
  },
  {
   "cell_type": "markdown",
   "metadata": {},
   "source": [
    "# Zadanie 12\n",
    "\n",
    "Do filmu Pan Taduesz z 1999 roku dodaj pole avgRating z wartością 9.1. Jeśli nie ma takiego filmu, polecenie powinno zadziałać jak upsert.\n"
   ]
  },
  {
   "cell_type": "code",
   "execution_count": 14,
   "metadata": {},
   "outputs": [
    {
     "name": "stdout",
     "output_type": "stream",
     "text": [
      "{'_id': ObjectId('66588eb8688b285b10365449'),\n",
      " 'startYear': 1999,\n",
      " 'primaryTitle': 'Pan Tadeusz',\n",
      " 'avgRating': 9.1}\n"
     ]
    }
   ],
   "source": [
    "z12_update_result = title.update_one(\n",
    "    {\"primaryTitle\": \"Pan Tadeusz\", \"startYear\": 1999},\n",
    "    {\"$set\": {\"avgRating\": 9.1}},\n",
    "    upsert=True,\n",
    ")\n",
    "\n",
    "z12_result = title.find_one({\"primaryTitle\": \"Pan Tadeusz\", \"startYear\": 1999})\n",
    "pp(z12_result)"
   ]
  },
  {
   "cell_type": "markdown",
   "metadata": {},
   "source": [
    "# Zadanie 13\n",
    "\n",
    "Z kolekcji Title usuń dokumenty, które reprezentują filmy wyprodukowane przed 1989 rokiem. Ile takich\n",
    "dokumentów zostało usuniętych?\n"
   ]
  },
  {
   "cell_type": "code",
   "execution_count": 26,
   "metadata": {},
   "outputs": [
    {
     "name": "stdout",
     "output_type": "stream",
     "text": [
      "Usunięto 1376888 dokumentów\n"
     ]
    }
   ],
   "source": [
    "z13_delete_result = title.delete_many({\"startYear\": {\"$lt\": 1989}})\n",
    "\n",
    "print(f\"Usunięto {z13_delete_result.deleted_count} dokumentów\")"
   ]
  }
 ],
 "metadata": {
  "kernelspec": {
   "display_name": "venv",
   "language": "python",
   "name": "python3"
  },
  "language_info": {
   "codemirror_mode": {
    "name": "ipython",
    "version": 3
   },
   "file_extension": ".py",
   "mimetype": "text/x-python",
   "name": "python",
   "nbconvert_exporter": "python",
   "pygments_lexer": "ipython3",
   "version": "3.12.2"
  }
 },
 "nbformat": 4,
 "nbformat_minor": 2
}
